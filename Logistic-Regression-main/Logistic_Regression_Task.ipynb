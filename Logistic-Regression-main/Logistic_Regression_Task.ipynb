{
 "cells": [
  {
   "cell_type": "markdown",
   "metadata": {},
   "source": [
    "# Logistic Regression"
   ]
  },
  {
   "cell_type": "markdown",
   "metadata": {},
   "source": [
    "## Importing libraries"
   ]
  },
  {
   "cell_type": "code",
   "execution_count": 1,
   "metadata": {},
   "outputs": [],
   "source": [
    "import numpy as np\n",
    "import pandas as pd \n",
    "import matplotlib.pyplot as plt\n",
    "import seaborn as sns # is a Python library built on top of Matplotlib that provides a high-level interface for creating statistical graphics. Its main purpose is to simplify the creation of attractive and informative visualizations for data exploration, understanding, and communication."
   ]
  },
  {
   "cell_type": "markdown",
   "metadata": {},
   "source": [
    "## Importing the dataset"
   ]
  },
  {
   "cell_type": "code",
   "execution_count": 2,
   "metadata": {
    "_cell_guid": "79c7e3d0-c299-4dcb-8224-4455121ee9b0",
    "_uuid": "d629ff2d2480ee46fbb7e2d37f6b5fab8052498a"
   },
   "outputs": [
    {
     "data": {
      "text/html": [
       "<div>\n",
       "<style scoped>\n",
       "    .dataframe tbody tr th:only-of-type {\n",
       "        vertical-align: middle;\n",
       "    }\n",
       "\n",
       "    .dataframe tbody tr th {\n",
       "        vertical-align: top;\n",
       "    }\n",
       "\n",
       "    .dataframe thead th {\n",
       "        text-align: right;\n",
       "    }\n",
       "</style>\n",
       "<table border=\"1\" class=\"dataframe\">\n",
       "  <thead>\n",
       "    <tr style=\"text-align: right;\">\n",
       "      <th></th>\n",
       "      <th>customer_id</th>\n",
       "      <th>credit_score</th>\n",
       "      <th>country</th>\n",
       "      <th>gender</th>\n",
       "      <th>age</th>\n",
       "      <th>tenure</th>\n",
       "      <th>balance</th>\n",
       "      <th>products_number</th>\n",
       "      <th>credit_card</th>\n",
       "      <th>active_member</th>\n",
       "      <th>estimated_salary</th>\n",
       "      <th>churn</th>\n",
       "    </tr>\n",
       "  </thead>\n",
       "  <tbody>\n",
       "    <tr>\n",
       "      <th>0</th>\n",
       "      <td>15634602</td>\n",
       "      <td>619</td>\n",
       "      <td>France</td>\n",
       "      <td>Female</td>\n",
       "      <td>42</td>\n",
       "      <td>2</td>\n",
       "      <td>0.00</td>\n",
       "      <td>1</td>\n",
       "      <td>1</td>\n",
       "      <td>1</td>\n",
       "      <td>101348.88</td>\n",
       "      <td>1</td>\n",
       "    </tr>\n",
       "    <tr>\n",
       "      <th>1</th>\n",
       "      <td>15647311</td>\n",
       "      <td>608</td>\n",
       "      <td>Spain</td>\n",
       "      <td>Female</td>\n",
       "      <td>41</td>\n",
       "      <td>1</td>\n",
       "      <td>83807.86</td>\n",
       "      <td>1</td>\n",
       "      <td>0</td>\n",
       "      <td>1</td>\n",
       "      <td>112542.58</td>\n",
       "      <td>0</td>\n",
       "    </tr>\n",
       "    <tr>\n",
       "      <th>2</th>\n",
       "      <td>15619304</td>\n",
       "      <td>502</td>\n",
       "      <td>France</td>\n",
       "      <td>Female</td>\n",
       "      <td>42</td>\n",
       "      <td>8</td>\n",
       "      <td>159660.80</td>\n",
       "      <td>3</td>\n",
       "      <td>1</td>\n",
       "      <td>0</td>\n",
       "      <td>113931.57</td>\n",
       "      <td>1</td>\n",
       "    </tr>\n",
       "    <tr>\n",
       "      <th>3</th>\n",
       "      <td>15701354</td>\n",
       "      <td>699</td>\n",
       "      <td>France</td>\n",
       "      <td>Female</td>\n",
       "      <td>39</td>\n",
       "      <td>1</td>\n",
       "      <td>0.00</td>\n",
       "      <td>2</td>\n",
       "      <td>0</td>\n",
       "      <td>0</td>\n",
       "      <td>93826.63</td>\n",
       "      <td>0</td>\n",
       "    </tr>\n",
       "    <tr>\n",
       "      <th>4</th>\n",
       "      <td>15737888</td>\n",
       "      <td>850</td>\n",
       "      <td>Spain</td>\n",
       "      <td>Female</td>\n",
       "      <td>43</td>\n",
       "      <td>2</td>\n",
       "      <td>125510.82</td>\n",
       "      <td>1</td>\n",
       "      <td>1</td>\n",
       "      <td>1</td>\n",
       "      <td>79084.10</td>\n",
       "      <td>0</td>\n",
       "    </tr>\n",
       "  </tbody>\n",
       "</table>\n",
       "</div>"
      ],
      "text/plain": [
       "   customer_id  credit_score country  gender  age  tenure    balance  \\\n",
       "0     15634602           619  France  Female   42       2       0.00   \n",
       "1     15647311           608   Spain  Female   41       1   83807.86   \n",
       "2     15619304           502  France  Female   42       8  159660.80   \n",
       "3     15701354           699  France  Female   39       1       0.00   \n",
       "4     15737888           850   Spain  Female   43       2  125510.82   \n",
       "\n",
       "   products_number  credit_card  active_member  estimated_salary  churn  \n",
       "0                1            1              1         101348.88      1  \n",
       "1                1            0              1         112542.58      0  \n",
       "2                3            1              0         113931.57      1  \n",
       "3                2            0              0          93826.63      0  \n",
       "4                1            1              1          79084.10      0  "
      ]
     },
     "execution_count": 2,
     "metadata": {},
     "output_type": "execute_result"
    }
   ],
   "source": [
    "dataset = pd.read_csv(\"Bank Customer Churn Prediction.csv\")\n",
    "dataset.head()"
   ]
  },
  {
   "cell_type": "code",
   "execution_count": 3,
   "metadata": {},
   "outputs": [
    {
     "name": "stdout",
     "output_type": "stream",
     "text": [
      "<class 'pandas.core.frame.DataFrame'>\n",
      "RangeIndex: 10000 entries, 0 to 9999\n",
      "Data columns (total 12 columns):\n",
      " #   Column            Non-Null Count  Dtype  \n",
      "---  ------            --------------  -----  \n",
      " 0   customer_id       10000 non-null  int64  \n",
      " 1   credit_score      10000 non-null  int64  \n",
      " 2   country           10000 non-null  object \n",
      " 3   gender            10000 non-null  object \n",
      " 4   age               10000 non-null  int64  \n",
      " 5   tenure            10000 non-null  int64  \n",
      " 6   balance           10000 non-null  float64\n",
      " 7   products_number   10000 non-null  int64  \n",
      " 8   credit_card       10000 non-null  int64  \n",
      " 9   active_member     10000 non-null  int64  \n",
      " 10  estimated_salary  10000 non-null  float64\n",
      " 11  churn             10000 non-null  int64  \n",
      "dtypes: float64(2), int64(8), object(2)\n",
      "memory usage: 937.6+ KB\n"
     ]
    },
    {
     "data": {
      "text/plain": [
       "(10000, 12)"
      ]
     },
     "execution_count": 3,
     "metadata": {},
     "output_type": "execute_result"
    }
   ],
   "source": [
    "# Information about the dataset, including data types and null values\n",
    "dataset.info()\n",
    "\n",
    "# Shape of the dataset (number of rows and columns)\n",
    "dataset.shape"
   ]
  },
  {
   "cell_type": "code",
   "execution_count": 4,
   "metadata": {},
   "outputs": [
    {
     "data": {
      "text/plain": [
       "0"
      ]
     },
     "execution_count": 4,
     "metadata": {},
     "output_type": "execute_result"
    }
   ],
   "source": [
    "# Checking for duplicated rows in the dataset\n",
    "dataset.duplicated().sum()"
   ]
  },
  {
   "cell_type": "code",
   "execution_count": 5,
   "metadata": {},
   "outputs": [],
   "source": [
    "dataset.drop(['customer_id'],axis=1,inplace=True) # axis=1 => I will frop the column that name is \"churn\", axis=0 => I will frop the row that name is \"churn\""
   ]
  },
  {
   "cell_type": "code",
   "execution_count": 6,
   "metadata": {},
   "outputs": [
    {
     "data": {
      "text/html": [
       "<style type=\"text/css\">\n",
       "#T_2adab_row0_col0, #T_2adab_row0_col1, #T_2adab_row0_col2, #T_2adab_row0_col4, #T_2adab_row0_col5, #T_2adab_row0_col6, #T_2adab_row0_col8, #T_2adab_row7_col3, #T_2adab_row7_col7 {\n",
       "  background-color: #3f007d;\n",
       "  color: #f1f1f1;\n",
       "}\n",
       "#T_2adab_row0_col3 {\n",
       "  background-color: #f8f7fa;\n",
       "  color: #000000;\n",
       "}\n",
       "#T_2adab_row0_col7, #T_2adab_row4_col0 {\n",
       "  background-color: #f7f6fa;\n",
       "  color: #000000;\n",
       "}\n",
       "#T_2adab_row1_col0, #T_2adab_row5_col0 {\n",
       "  background-color: #f6f5f9;\n",
       "  color: #000000;\n",
       "}\n",
       "#T_2adab_row1_col1, #T_2adab_row1_col2, #T_2adab_row1_col4, #T_2adab_row1_col5, #T_2adab_row1_col6, #T_2adab_row1_col8, #T_2adab_row2_col0, #T_2adab_row2_col1, #T_2adab_row2_col2, #T_2adab_row2_col4, #T_2adab_row2_col5, #T_2adab_row2_col6, #T_2adab_row2_col8, #T_2adab_row3_col1, #T_2adab_row3_col2, #T_2adab_row3_col3, #T_2adab_row3_col4, #T_2adab_row3_col5, #T_2adab_row3_col6, #T_2adab_row3_col7, #T_2adab_row3_col8, #T_2adab_row4_col1, #T_2adab_row4_col2, #T_2adab_row4_col3, #T_2adab_row4_col4, #T_2adab_row4_col5, #T_2adab_row4_col6, #T_2adab_row4_col8, #T_2adab_row5_col1, #T_2adab_row5_col2, #T_2adab_row5_col4, #T_2adab_row5_col5, #T_2adab_row5_col6, #T_2adab_row5_col8, #T_2adab_row6_col1, #T_2adab_row6_col2, #T_2adab_row6_col4, #T_2adab_row6_col5, #T_2adab_row6_col6, #T_2adab_row6_col8, #T_2adab_row7_col2, #T_2adab_row7_col4, #T_2adab_row7_col5, #T_2adab_row7_col6, #T_2adab_row7_col8 {\n",
       "  background-color: #fcfbfd;\n",
       "  color: #000000;\n",
       "}\n",
       "#T_2adab_row1_col3 {\n",
       "  background-color: #cdcde4;\n",
       "  color: #000000;\n",
       "}\n",
       "#T_2adab_row1_col7, #T_2adab_row5_col7 {\n",
       "  background-color: #9e9ac8;\n",
       "  color: #f1f1f1;\n",
       "}\n",
       "#T_2adab_row2_col3 {\n",
       "  background-color: #dadaeb;\n",
       "  color: #000000;\n",
       "}\n",
       "#T_2adab_row2_col7 {\n",
       "  background-color: #d1d2e7;\n",
       "  color: #000000;\n",
       "}\n",
       "#T_2adab_row3_col0 {\n",
       "  background-color: #faf8fb;\n",
       "  color: #000000;\n",
       "}\n",
       "#T_2adab_row4_col7 {\n",
       "  background-color: #d9d9ea;\n",
       "  color: #000000;\n",
       "}\n",
       "#T_2adab_row5_col3 {\n",
       "  background-color: #b9b9da;\n",
       "  color: #000000;\n",
       "}\n",
       "#T_2adab_row6_col0 {\n",
       "  background-color: #f5f4f9;\n",
       "  color: #000000;\n",
       "}\n",
       "#T_2adab_row6_col3 {\n",
       "  background-color: #9c98c7;\n",
       "  color: #f1f1f1;\n",
       "}\n",
       "#T_2adab_row6_col7 {\n",
       "  background-color: #6a51a3;\n",
       "  color: #f1f1f1;\n",
       "}\n",
       "#T_2adab_row7_col0 {\n",
       "  background-color: #f4f3f8;\n",
       "  color: #000000;\n",
       "}\n",
       "#T_2adab_row7_col1 {\n",
       "  background-color: #fbfafc;\n",
       "  color: #000000;\n",
       "}\n",
       "</style>\n",
       "<table id=\"T_2adab\">\n",
       "  <thead>\n",
       "    <tr>\n",
       "      <th class=\"blank level0\" >&nbsp;</th>\n",
       "      <th id=\"T_2adab_level0_col0\" class=\"col_heading level0 col0\" >credit_score</th>\n",
       "      <th id=\"T_2adab_level0_col1\" class=\"col_heading level0 col1\" >age</th>\n",
       "      <th id=\"T_2adab_level0_col2\" class=\"col_heading level0 col2\" >tenure</th>\n",
       "      <th id=\"T_2adab_level0_col3\" class=\"col_heading level0 col3\" >balance</th>\n",
       "      <th id=\"T_2adab_level0_col4\" class=\"col_heading level0 col4\" >products_number</th>\n",
       "      <th id=\"T_2adab_level0_col5\" class=\"col_heading level0 col5\" >credit_card</th>\n",
       "      <th id=\"T_2adab_level0_col6\" class=\"col_heading level0 col6\" >active_member</th>\n",
       "      <th id=\"T_2adab_level0_col7\" class=\"col_heading level0 col7\" >estimated_salary</th>\n",
       "      <th id=\"T_2adab_level0_col8\" class=\"col_heading level0 col8\" >churn</th>\n",
       "    </tr>\n",
       "  </thead>\n",
       "  <tbody>\n",
       "    <tr>\n",
       "      <th id=\"T_2adab_level0_row0\" class=\"row_heading level0 row0\" >count</th>\n",
       "      <td id=\"T_2adab_row0_col0\" class=\"data row0 col0\" >10000.000000</td>\n",
       "      <td id=\"T_2adab_row0_col1\" class=\"data row0 col1\" >10000.000000</td>\n",
       "      <td id=\"T_2adab_row0_col2\" class=\"data row0 col2\" >10000.000000</td>\n",
       "      <td id=\"T_2adab_row0_col3\" class=\"data row0 col3\" >10000.000000</td>\n",
       "      <td id=\"T_2adab_row0_col4\" class=\"data row0 col4\" >10000.000000</td>\n",
       "      <td id=\"T_2adab_row0_col5\" class=\"data row0 col5\" >10000.000000</td>\n",
       "      <td id=\"T_2adab_row0_col6\" class=\"data row0 col6\" >10000.000000</td>\n",
       "      <td id=\"T_2adab_row0_col7\" class=\"data row0 col7\" >10000.000000</td>\n",
       "      <td id=\"T_2adab_row0_col8\" class=\"data row0 col8\" >10000.000000</td>\n",
       "    </tr>\n",
       "    <tr>\n",
       "      <th id=\"T_2adab_level0_row1\" class=\"row_heading level0 row1\" >mean</th>\n",
       "      <td id=\"T_2adab_row1_col0\" class=\"data row1 col0\" >650.528800</td>\n",
       "      <td id=\"T_2adab_row1_col1\" class=\"data row1 col1\" >38.921800</td>\n",
       "      <td id=\"T_2adab_row1_col2\" class=\"data row1 col2\" >5.012800</td>\n",
       "      <td id=\"T_2adab_row1_col3\" class=\"data row1 col3\" >76485.889288</td>\n",
       "      <td id=\"T_2adab_row1_col4\" class=\"data row1 col4\" >1.530200</td>\n",
       "      <td id=\"T_2adab_row1_col5\" class=\"data row1 col5\" >0.705500</td>\n",
       "      <td id=\"T_2adab_row1_col6\" class=\"data row1 col6\" >0.515100</td>\n",
       "      <td id=\"T_2adab_row1_col7\" class=\"data row1 col7\" >100090.239881</td>\n",
       "      <td id=\"T_2adab_row1_col8\" class=\"data row1 col8\" >0.203700</td>\n",
       "    </tr>\n",
       "    <tr>\n",
       "      <th id=\"T_2adab_level0_row2\" class=\"row_heading level0 row2\" >std</th>\n",
       "      <td id=\"T_2adab_row2_col0\" class=\"data row2 col0\" >96.653299</td>\n",
       "      <td id=\"T_2adab_row2_col1\" class=\"data row2 col1\" >10.487806</td>\n",
       "      <td id=\"T_2adab_row2_col2\" class=\"data row2 col2\" >2.892174</td>\n",
       "      <td id=\"T_2adab_row2_col3\" class=\"data row2 col3\" >62397.405202</td>\n",
       "      <td id=\"T_2adab_row2_col4\" class=\"data row2 col4\" >0.581654</td>\n",
       "      <td id=\"T_2adab_row2_col5\" class=\"data row2 col5\" >0.455840</td>\n",
       "      <td id=\"T_2adab_row2_col6\" class=\"data row2 col6\" >0.499797</td>\n",
       "      <td id=\"T_2adab_row2_col7\" class=\"data row2 col7\" >57510.492818</td>\n",
       "      <td id=\"T_2adab_row2_col8\" class=\"data row2 col8\" >0.402769</td>\n",
       "    </tr>\n",
       "    <tr>\n",
       "      <th id=\"T_2adab_level0_row3\" class=\"row_heading level0 row3\" >min</th>\n",
       "      <td id=\"T_2adab_row3_col0\" class=\"data row3 col0\" >350.000000</td>\n",
       "      <td id=\"T_2adab_row3_col1\" class=\"data row3 col1\" >18.000000</td>\n",
       "      <td id=\"T_2adab_row3_col2\" class=\"data row3 col2\" >0.000000</td>\n",
       "      <td id=\"T_2adab_row3_col3\" class=\"data row3 col3\" >0.000000</td>\n",
       "      <td id=\"T_2adab_row3_col4\" class=\"data row3 col4\" >1.000000</td>\n",
       "      <td id=\"T_2adab_row3_col5\" class=\"data row3 col5\" >0.000000</td>\n",
       "      <td id=\"T_2adab_row3_col6\" class=\"data row3 col6\" >0.000000</td>\n",
       "      <td id=\"T_2adab_row3_col7\" class=\"data row3 col7\" >11.580000</td>\n",
       "      <td id=\"T_2adab_row3_col8\" class=\"data row3 col8\" >0.000000</td>\n",
       "    </tr>\n",
       "    <tr>\n",
       "      <th id=\"T_2adab_level0_row4\" class=\"row_heading level0 row4\" >25%</th>\n",
       "      <td id=\"T_2adab_row4_col0\" class=\"data row4 col0\" >584.000000</td>\n",
       "      <td id=\"T_2adab_row4_col1\" class=\"data row4 col1\" >32.000000</td>\n",
       "      <td id=\"T_2adab_row4_col2\" class=\"data row4 col2\" >3.000000</td>\n",
       "      <td id=\"T_2adab_row4_col3\" class=\"data row4 col3\" >0.000000</td>\n",
       "      <td id=\"T_2adab_row4_col4\" class=\"data row4 col4\" >1.000000</td>\n",
       "      <td id=\"T_2adab_row4_col5\" class=\"data row4 col5\" >0.000000</td>\n",
       "      <td id=\"T_2adab_row4_col6\" class=\"data row4 col6\" >0.000000</td>\n",
       "      <td id=\"T_2adab_row4_col7\" class=\"data row4 col7\" >51002.110000</td>\n",
       "      <td id=\"T_2adab_row4_col8\" class=\"data row4 col8\" >0.000000</td>\n",
       "    </tr>\n",
       "    <tr>\n",
       "      <th id=\"T_2adab_level0_row5\" class=\"row_heading level0 row5\" >50%</th>\n",
       "      <td id=\"T_2adab_row5_col0\" class=\"data row5 col0\" >652.000000</td>\n",
       "      <td id=\"T_2adab_row5_col1\" class=\"data row5 col1\" >37.000000</td>\n",
       "      <td id=\"T_2adab_row5_col2\" class=\"data row5 col2\" >5.000000</td>\n",
       "      <td id=\"T_2adab_row5_col3\" class=\"data row5 col3\" >97198.540000</td>\n",
       "      <td id=\"T_2adab_row5_col4\" class=\"data row5 col4\" >1.000000</td>\n",
       "      <td id=\"T_2adab_row5_col5\" class=\"data row5 col5\" >1.000000</td>\n",
       "      <td id=\"T_2adab_row5_col6\" class=\"data row5 col6\" >1.000000</td>\n",
       "      <td id=\"T_2adab_row5_col7\" class=\"data row5 col7\" >100193.915000</td>\n",
       "      <td id=\"T_2adab_row5_col8\" class=\"data row5 col8\" >0.000000</td>\n",
       "    </tr>\n",
       "    <tr>\n",
       "      <th id=\"T_2adab_level0_row6\" class=\"row_heading level0 row6\" >75%</th>\n",
       "      <td id=\"T_2adab_row6_col0\" class=\"data row6 col0\" >718.000000</td>\n",
       "      <td id=\"T_2adab_row6_col1\" class=\"data row6 col1\" >44.000000</td>\n",
       "      <td id=\"T_2adab_row6_col2\" class=\"data row6 col2\" >7.000000</td>\n",
       "      <td id=\"T_2adab_row6_col3\" class=\"data row6 col3\" >127644.240000</td>\n",
       "      <td id=\"T_2adab_row6_col4\" class=\"data row6 col4\" >2.000000</td>\n",
       "      <td id=\"T_2adab_row6_col5\" class=\"data row6 col5\" >1.000000</td>\n",
       "      <td id=\"T_2adab_row6_col6\" class=\"data row6 col6\" >1.000000</td>\n",
       "      <td id=\"T_2adab_row6_col7\" class=\"data row6 col7\" >149388.247500</td>\n",
       "      <td id=\"T_2adab_row6_col8\" class=\"data row6 col8\" >0.000000</td>\n",
       "    </tr>\n",
       "    <tr>\n",
       "      <th id=\"T_2adab_level0_row7\" class=\"row_heading level0 row7\" >max</th>\n",
       "      <td id=\"T_2adab_row7_col0\" class=\"data row7 col0\" >850.000000</td>\n",
       "      <td id=\"T_2adab_row7_col1\" class=\"data row7 col1\" >92.000000</td>\n",
       "      <td id=\"T_2adab_row7_col2\" class=\"data row7 col2\" >10.000000</td>\n",
       "      <td id=\"T_2adab_row7_col3\" class=\"data row7 col3\" >250898.090000</td>\n",
       "      <td id=\"T_2adab_row7_col4\" class=\"data row7 col4\" >4.000000</td>\n",
       "      <td id=\"T_2adab_row7_col5\" class=\"data row7 col5\" >1.000000</td>\n",
       "      <td id=\"T_2adab_row7_col6\" class=\"data row7 col6\" >1.000000</td>\n",
       "      <td id=\"T_2adab_row7_col7\" class=\"data row7 col7\" >199992.480000</td>\n",
       "      <td id=\"T_2adab_row7_col8\" class=\"data row7 col8\" >1.000000</td>\n",
       "    </tr>\n",
       "  </tbody>\n",
       "</table>\n"
      ],
      "text/plain": [
       "<pandas.io.formats.style.Styler at 0x2baafd5ee20>"
      ]
     },
     "execution_count": 6,
     "metadata": {},
     "output_type": "execute_result"
    }
   ],
   "source": [
    "# Descriptive statistics of the dataset with styled background gradient\n",
    "dataset.describe().style.background_gradient(cmap = \"Purples\")"
   ]
  },
  {
   "cell_type": "markdown",
   "metadata": {},
   "source": [
    "## Extracting features (X) and target variable (y) from the dataset"
   ]
  },
  {
   "cell_type": "code",
   "execution_count": 7,
   "metadata": {},
   "outputs": [
    {
     "data": {
      "text/plain": [
       "array(['France', 'Spain', 'Germany'], dtype=object)"
      ]
     },
     "execution_count": 7,
     "metadata": {},
     "output_type": "execute_result"
    }
   ],
   "source": [
    "dataset.country.unique()"
   ]
  },
  {
   "cell_type": "code",
   "execution_count": 8,
   "metadata": {},
   "outputs": [],
   "source": [
    "dataset['country'] = dataset['country'].map({'France': 0, 'Spain' : 1,'Germany':2})"
   ]
  },
  {
   "cell_type": "code",
   "execution_count": 9,
   "metadata": {},
   "outputs": [],
   "source": [
    "dataset['gender'] = dataset['gender'].map({'Male': 0, 'Female' : 1})"
   ]
  },
  {
   "cell_type": "code",
   "execution_count": 10,
   "metadata": {},
   "outputs": [],
   "source": [
    "dataset['balance']=dataset['balance'].astype(int)"
   ]
  },
  {
   "cell_type": "code",
   "execution_count": 11,
   "metadata": {},
   "outputs": [],
   "source": [
    "dataset['estimated_salary']=dataset['estimated_salary'].astype(int)"
   ]
  },
  {
   "cell_type": "code",
   "execution_count": 12,
   "metadata": {},
   "outputs": [
    {
     "data": {
      "text/html": [
       "<div>\n",
       "<style scoped>\n",
       "    .dataframe tbody tr th:only-of-type {\n",
       "        vertical-align: middle;\n",
       "    }\n",
       "\n",
       "    .dataframe tbody tr th {\n",
       "        vertical-align: top;\n",
       "    }\n",
       "\n",
       "    .dataframe thead th {\n",
       "        text-align: right;\n",
       "    }\n",
       "</style>\n",
       "<table border=\"1\" class=\"dataframe\">\n",
       "  <thead>\n",
       "    <tr style=\"text-align: right;\">\n",
       "      <th></th>\n",
       "      <th>credit_score</th>\n",
       "      <th>country</th>\n",
       "      <th>gender</th>\n",
       "      <th>age</th>\n",
       "      <th>tenure</th>\n",
       "      <th>balance</th>\n",
       "      <th>products_number</th>\n",
       "      <th>credit_card</th>\n",
       "      <th>active_member</th>\n",
       "      <th>estimated_salary</th>\n",
       "      <th>churn</th>\n",
       "    </tr>\n",
       "  </thead>\n",
       "  <tbody>\n",
       "    <tr>\n",
       "      <th>0</th>\n",
       "      <td>619</td>\n",
       "      <td>0</td>\n",
       "      <td>1</td>\n",
       "      <td>42</td>\n",
       "      <td>2</td>\n",
       "      <td>0</td>\n",
       "      <td>1</td>\n",
       "      <td>1</td>\n",
       "      <td>1</td>\n",
       "      <td>101348</td>\n",
       "      <td>1</td>\n",
       "    </tr>\n",
       "    <tr>\n",
       "      <th>1</th>\n",
       "      <td>608</td>\n",
       "      <td>1</td>\n",
       "      <td>1</td>\n",
       "      <td>41</td>\n",
       "      <td>1</td>\n",
       "      <td>83807</td>\n",
       "      <td>1</td>\n",
       "      <td>0</td>\n",
       "      <td>1</td>\n",
       "      <td>112542</td>\n",
       "      <td>0</td>\n",
       "    </tr>\n",
       "    <tr>\n",
       "      <th>2</th>\n",
       "      <td>502</td>\n",
       "      <td>0</td>\n",
       "      <td>1</td>\n",
       "      <td>42</td>\n",
       "      <td>8</td>\n",
       "      <td>159660</td>\n",
       "      <td>3</td>\n",
       "      <td>1</td>\n",
       "      <td>0</td>\n",
       "      <td>113931</td>\n",
       "      <td>1</td>\n",
       "    </tr>\n",
       "    <tr>\n",
       "      <th>3</th>\n",
       "      <td>699</td>\n",
       "      <td>0</td>\n",
       "      <td>1</td>\n",
       "      <td>39</td>\n",
       "      <td>1</td>\n",
       "      <td>0</td>\n",
       "      <td>2</td>\n",
       "      <td>0</td>\n",
       "      <td>0</td>\n",
       "      <td>93826</td>\n",
       "      <td>0</td>\n",
       "    </tr>\n",
       "    <tr>\n",
       "      <th>4</th>\n",
       "      <td>850</td>\n",
       "      <td>1</td>\n",
       "      <td>1</td>\n",
       "      <td>43</td>\n",
       "      <td>2</td>\n",
       "      <td>125510</td>\n",
       "      <td>1</td>\n",
       "      <td>1</td>\n",
       "      <td>1</td>\n",
       "      <td>79084</td>\n",
       "      <td>0</td>\n",
       "    </tr>\n",
       "    <tr>\n",
       "      <th>...</th>\n",
       "      <td>...</td>\n",
       "      <td>...</td>\n",
       "      <td>...</td>\n",
       "      <td>...</td>\n",
       "      <td>...</td>\n",
       "      <td>...</td>\n",
       "      <td>...</td>\n",
       "      <td>...</td>\n",
       "      <td>...</td>\n",
       "      <td>...</td>\n",
       "      <td>...</td>\n",
       "    </tr>\n",
       "    <tr>\n",
       "      <th>9995</th>\n",
       "      <td>771</td>\n",
       "      <td>0</td>\n",
       "      <td>0</td>\n",
       "      <td>39</td>\n",
       "      <td>5</td>\n",
       "      <td>0</td>\n",
       "      <td>2</td>\n",
       "      <td>1</td>\n",
       "      <td>0</td>\n",
       "      <td>96270</td>\n",
       "      <td>0</td>\n",
       "    </tr>\n",
       "    <tr>\n",
       "      <th>9996</th>\n",
       "      <td>516</td>\n",
       "      <td>0</td>\n",
       "      <td>0</td>\n",
       "      <td>35</td>\n",
       "      <td>10</td>\n",
       "      <td>57369</td>\n",
       "      <td>1</td>\n",
       "      <td>1</td>\n",
       "      <td>1</td>\n",
       "      <td>101699</td>\n",
       "      <td>0</td>\n",
       "    </tr>\n",
       "    <tr>\n",
       "      <th>9997</th>\n",
       "      <td>709</td>\n",
       "      <td>0</td>\n",
       "      <td>1</td>\n",
       "      <td>36</td>\n",
       "      <td>7</td>\n",
       "      <td>0</td>\n",
       "      <td>1</td>\n",
       "      <td>0</td>\n",
       "      <td>1</td>\n",
       "      <td>42085</td>\n",
       "      <td>1</td>\n",
       "    </tr>\n",
       "    <tr>\n",
       "      <th>9998</th>\n",
       "      <td>772</td>\n",
       "      <td>2</td>\n",
       "      <td>0</td>\n",
       "      <td>42</td>\n",
       "      <td>3</td>\n",
       "      <td>75075</td>\n",
       "      <td>2</td>\n",
       "      <td>1</td>\n",
       "      <td>0</td>\n",
       "      <td>92888</td>\n",
       "      <td>1</td>\n",
       "    </tr>\n",
       "    <tr>\n",
       "      <th>9999</th>\n",
       "      <td>792</td>\n",
       "      <td>0</td>\n",
       "      <td>1</td>\n",
       "      <td>28</td>\n",
       "      <td>4</td>\n",
       "      <td>130142</td>\n",
       "      <td>1</td>\n",
       "      <td>1</td>\n",
       "      <td>0</td>\n",
       "      <td>38190</td>\n",
       "      <td>0</td>\n",
       "    </tr>\n",
       "  </tbody>\n",
       "</table>\n",
       "<p>10000 rows × 11 columns</p>\n",
       "</div>"
      ],
      "text/plain": [
       "      credit_score  country  gender  age  tenure  balance  products_number  \\\n",
       "0              619        0       1   42       2        0                1   \n",
       "1              608        1       1   41       1    83807                1   \n",
       "2              502        0       1   42       8   159660                3   \n",
       "3              699        0       1   39       1        0                2   \n",
       "4              850        1       1   43       2   125510                1   \n",
       "...            ...      ...     ...  ...     ...      ...              ...   \n",
       "9995           771        0       0   39       5        0                2   \n",
       "9996           516        0       0   35      10    57369                1   \n",
       "9997           709        0       1   36       7        0                1   \n",
       "9998           772        2       0   42       3    75075                2   \n",
       "9999           792        0       1   28       4   130142                1   \n",
       "\n",
       "      credit_card  active_member  estimated_salary  churn  \n",
       "0               1              1            101348      1  \n",
       "1               0              1            112542      0  \n",
       "2               1              0            113931      1  \n",
       "3               0              0             93826      0  \n",
       "4               1              1             79084      0  \n",
       "...           ...            ...               ...    ...  \n",
       "9995            1              0             96270      0  \n",
       "9996            1              1            101699      0  \n",
       "9997            0              1             42085      1  \n",
       "9998            1              0             92888      1  \n",
       "9999            1              0             38190      0  \n",
       "\n",
       "[10000 rows x 11 columns]"
      ]
     },
     "execution_count": 12,
     "metadata": {},
     "output_type": "execute_result"
    }
   ],
   "source": [
    "dataset"
   ]
  },
  {
   "cell_type": "code",
   "execution_count": 13,
   "metadata": {},
   "outputs": [
    {
     "data": {
      "image/png": "[encoded data removed]",
      "text/plain": [
       "<Figure size 1440x720 with 2 Axes>"
      ]
     },
     "metadata": {
      "needs_background": "light"
     },
     "output_type": "display_data"
    }
   ],
   "source": [
    "# Visualize the correlation between all features using a heatmap\n",
    "\n",
    "plt.figure(figsize=(20,10)) # Make the figure will be 20 inches wide and 10 inches high.\n",
    "sns.heatmap(dataset.corr(), cmap=\"viridis\",annot=True,linewidths=0.1) # dataset.corr(): Calculates the correlation matrix of the dataset's numerical features. # cmap=\"viridis\": Colormap used (here, viridis). # annot=True: Displays correlation values within each cell. # linewidths=0.1: Sets the width of the grid lines.\n",
    "plt.title('Correlation Heatmap')\n",
    "plt.show()"
   ]
  },
  {
   "cell_type": "code",
   "execution_count": 14,
   "metadata": {},
   "outputs": [
    {
     "data": {
      "text/html": [
       "<div>\n",
       "<style scoped>\n",
       "    .dataframe tbody tr th:only-of-type {\n",
       "        vertical-align: middle;\n",
       "    }\n",
       "\n",
       "    .dataframe tbody tr th {\n",
       "        vertical-align: top;\n",
       "    }\n",
       "\n",
       "    .dataframe thead th {\n",
       "        text-align: right;\n",
       "    }\n",
       "</style>\n",
       "<table border=\"1\" class=\"dataframe\">\n",
       "  <thead>\n",
       "    <tr style=\"text-align: right;\">\n",
       "      <th></th>\n",
       "      <th>credit_score</th>\n",
       "      <th>country</th>\n",
       "      <th>gender</th>\n",
       "      <th>age</th>\n",
       "      <th>tenure</th>\n",
       "      <th>balance</th>\n",
       "      <th>products_number</th>\n",
       "      <th>credit_card</th>\n",
       "      <th>active_member</th>\n",
       "      <th>estimated_salary</th>\n",
       "    </tr>\n",
       "  </thead>\n",
       "  <tbody>\n",
       "    <tr>\n",
       "      <th>0</th>\n",
       "      <td>619</td>\n",
       "      <td>0</td>\n",
       "      <td>1</td>\n",
       "      <td>42</td>\n",
       "      <td>2</td>\n",
       "      <td>0</td>\n",
       "      <td>1</td>\n",
       "      <td>1</td>\n",
       "      <td>1</td>\n",
       "      <td>101348</td>\n",
       "    </tr>\n",
       "    <tr>\n",
       "      <th>1</th>\n",
       "      <td>608</td>\n",
       "      <td>1</td>\n",
       "      <td>1</td>\n",
       "      <td>41</td>\n",
       "      <td>1</td>\n",
       "      <td>83807</td>\n",
       "      <td>1</td>\n",
       "      <td>0</td>\n",
       "      <td>1</td>\n",
       "      <td>112542</td>\n",
       "    </tr>\n",
       "    <tr>\n",
       "      <th>2</th>\n",
       "      <td>502</td>\n",
       "      <td>0</td>\n",
       "      <td>1</td>\n",
       "      <td>42</td>\n",
       "      <td>8</td>\n",
       "      <td>159660</td>\n",
       "      <td>3</td>\n",
       "      <td>1</td>\n",
       "      <td>0</td>\n",
       "      <td>113931</td>\n",
       "    </tr>\n",
       "    <tr>\n",
       "      <th>3</th>\n",
       "      <td>699</td>\n",
       "      <td>0</td>\n",
       "      <td>1</td>\n",
       "      <td>39</td>\n",
       "      <td>1</td>\n",
       "      <td>0</td>\n",
       "      <td>2</td>\n",
       "      <td>0</td>\n",
       "      <td>0</td>\n",
       "      <td>93826</td>\n",
       "    </tr>\n",
       "    <tr>\n",
       "      <th>4</th>\n",
       "      <td>850</td>\n",
       "      <td>1</td>\n",
       "      <td>1</td>\n",
       "      <td>43</td>\n",
       "      <td>2</td>\n",
       "      <td>125510</td>\n",
       "      <td>1</td>\n",
       "      <td>1</td>\n",
       "      <td>1</td>\n",
       "      <td>79084</td>\n",
       "    </tr>\n",
       "    <tr>\n",
       "      <th>...</th>\n",
       "      <td>...</td>\n",
       "      <td>...</td>\n",
       "      <td>...</td>\n",
       "      <td>...</td>\n",
       "      <td>...</td>\n",
       "      <td>...</td>\n",
       "      <td>...</td>\n",
       "      <td>...</td>\n",
       "      <td>...</td>\n",
       "      <td>...</td>\n",
       "    </tr>\n",
       "    <tr>\n",
       "      <th>9995</th>\n",
       "      <td>771</td>\n",
       "      <td>0</td>\n",
       "      <td>0</td>\n",
       "      <td>39</td>\n",
       "      <td>5</td>\n",
       "      <td>0</td>\n",
       "      <td>2</td>\n",
       "      <td>1</td>\n",
       "      <td>0</td>\n",
       "      <td>96270</td>\n",
       "    </tr>\n",
       "    <tr>\n",
       "      <th>9996</th>\n",
       "      <td>516</td>\n",
       "      <td>0</td>\n",
       "      <td>0</td>\n",
       "      <td>35</td>\n",
       "      <td>10</td>\n",
       "      <td>57369</td>\n",
       "      <td>1</td>\n",
       "      <td>1</td>\n",
       "      <td>1</td>\n",
       "      <td>101699</td>\n",
       "    </tr>\n",
       "    <tr>\n",
       "      <th>9997</th>\n",
       "      <td>709</td>\n",
       "      <td>0</td>\n",
       "      <td>1</td>\n",
       "      <td>36</td>\n",
       "      <td>7</td>\n",
       "      <td>0</td>\n",
       "      <td>1</td>\n",
       "      <td>0</td>\n",
       "      <td>1</td>\n",
       "      <td>42085</td>\n",
       "    </tr>\n",
       "    <tr>\n",
       "      <th>9998</th>\n",
       "      <td>772</td>\n",
       "      <td>2</td>\n",
       "      <td>0</td>\n",
       "      <td>42</td>\n",
       "      <td>3</td>\n",
       "      <td>75075</td>\n",
       "      <td>2</td>\n",
       "      <td>1</td>\n",
       "      <td>0</td>\n",
       "      <td>92888</td>\n",
       "    </tr>\n",
       "    <tr>\n",
       "      <th>9999</th>\n",
       "      <td>792</td>\n",
       "      <td>0</td>\n",
       "      <td>1</td>\n",
       "      <td>28</td>\n",
       "      <td>4</td>\n",
       "      <td>130142</td>\n",
       "      <td>1</td>\n",
       "      <td>1</td>\n",
       "      <td>0</td>\n",
       "      <td>38190</td>\n",
       "    </tr>\n",
       "  </tbody>\n",
       "</table>\n",
       "<p>10000 rows × 10 columns</p>\n",
       "</div>"
      ],
      "text/plain": [
       "      credit_score  country  gender  age  tenure  balance  products_number  \\\n",
       "0              619        0       1   42       2        0                1   \n",
       "1              608        1       1   41       1    83807                1   \n",
       "2              502        0       1   42       8   159660                3   \n",
       "3              699        0       1   39       1        0                2   \n",
       "4              850        1       1   43       2   125510                1   \n",
       "...            ...      ...     ...  ...     ...      ...              ...   \n",
       "9995           771        0       0   39       5        0                2   \n",
       "9996           516        0       0   35      10    57369                1   \n",
       "9997           709        0       1   36       7        0                1   \n",
       "9998           772        2       0   42       3    75075                2   \n",
       "9999           792        0       1   28       4   130142                1   \n",
       "\n",
       "      credit_card  active_member  estimated_salary  \n",
       "0               1              1            101348  \n",
       "1               0              1            112542  \n",
       "2               1              0            113931  \n",
       "3               0              0             93826  \n",
       "4               1              1             79084  \n",
       "...           ...            ...               ...  \n",
       "9995            1              0             96270  \n",
       "9996            1              1            101699  \n",
       "9997            0              1             42085  \n",
       "9998            1              0             92888  \n",
       "9999            1              0             38190  \n",
       "\n",
       "[10000 rows x 10 columns]"
      ]
     },
     "execution_count": 14,
     "metadata": {},
     "output_type": "execute_result"
    }
   ],
   "source": [
    "# Remove the target column \"churn\" from the dataset and assign the remaining columns to X as independent variables\n",
    "X = dataset.drop(\"churn\",axis=1) \n",
    "X"
   ]
  },
  {
   "cell_type": "code",
   "execution_count": 15,
   "metadata": {},
   "outputs": [],
   "source": [
    "# Standardize the features by scaling them to have a mean of 0 and a standard deviation of 1.Standardizing features in machine learning is a crucial preprocessing step that improves the performance of many machine learning models, especially those that rely on distance-based metrics \n",
    "\n",
    "from sklearn.preprocessing import StandardScaler\n",
    "scaler = StandardScaler()\n",
    "X = scaler.fit_transform(X)"
   ]
  },
  {
   "cell_type": "code",
   "execution_count": 16,
   "metadata": {},
   "outputs": [
    {
     "data": {
      "text/plain": [
       "array([[-0.32622142, -0.9025865 ,  1.09598752, ...,  0.64609167,\n",
       "         0.97024255,  0.02187974],\n",
       "       [-0.44003595,  0.301665  ,  1.09598752, ..., -1.54776799,\n",
       "         0.97024255,  0.21653222],\n",
       "       [-1.53679418, -0.9025865 ,  1.09598752, ...,  0.64609167,\n",
       "        -1.03067011,  0.24068554],\n",
       "       ...,\n",
       "       [ 0.60498839, -0.9025865 ,  1.09598752, ..., -1.54776799,\n",
       "         0.97024255, -1.00864465],\n",
       "       [ 1.25683526,  1.50591651, -0.91241915, ...,  0.64609167,\n",
       "        -1.03067011, -0.12523121],\n",
       "       [ 1.46377078, -0.9025865 ,  1.09598752, ...,  0.64609167,\n",
       "        -1.03067011, -1.07637481]])"
      ]
     },
     "execution_count": 16,
     "metadata": {},
     "output_type": "execute_result"
    }
   ],
   "source": [
    "X"
   ]
  },
  {
   "cell_type": "code",
   "execution_count": 17,
   "metadata": {},
   "outputs": [
    {
     "data": {
      "text/plain": [
       "(10000, 10)"
      ]
     },
     "execution_count": 17,
     "metadata": {},
     "output_type": "execute_result"
    }
   ],
   "source": [
    "X.shape"
   ]
  },
  {
   "cell_type": "code",
   "execution_count": 18,
   "metadata": {},
   "outputs": [
    {
     "data": {
      "text/plain": [
       "0    7963\n",
       "1    2037\n",
       "Name: churn, dtype: int64"
      ]
     },
     "execution_count": 18,
     "metadata": {},
     "output_type": "execute_result"
    }
   ],
   "source": [
    "# Count the occurrences of each class in the target column \"churn\"\n",
    "dataset[\"churn\"].value_counts()"
   ]
  },
  {
   "cell_type": "code",
   "execution_count": 19,
   "metadata": {},
   "outputs": [
    {
     "data": {
      "text/plain": [
       "<AxesSubplot:xlabel='churn', ylabel='count'>"
      ]
     },
     "execution_count": 19,
     "metadata": {},
     "output_type": "execute_result"
    },
    {
     "data": {
      "image/png": "[encoded data removed]",
      "text/plain": [
       "<Figure size 1440x720 with 1 Axes>"
      ]
     },
     "metadata": {
      "needs_background": "light"
     },
     "output_type": "display_data"
    }
   ],
   "source": [
    "# Visualize the distribution of classes in the target column \"churn\"\n",
    "\n",
    "plt.figure(figsize=(20,10)) # Make the figure will be 20 inches wide and 10 inches high\n",
    "sns.set_style(\"darkgrid\") # Sets the overall appearance style for future seaborn plots.\n",
    "sns.countplot(x=\"churn\",data=dataset) # Purpose: Creates a count plot to visualize the distribution of categorical data. # Parameters: # x=\"custcat\": Specifies the name of the categorical variable to plot on the x-axis. Here, it's \"custcat\" from the dataset. # data=dataset: Indicates the dataset to use for creating the count plot."
   ]
  },
  {
   "cell_type": "code",
   "execution_count": 20,
   "metadata": {},
   "outputs": [
    {
     "data": {
      "text/plain": [
       "0       1\n",
       "1       0\n",
       "2       1\n",
       "3       0\n",
       "4       0\n",
       "       ..\n",
       "9995    0\n",
       "9996    0\n",
       "9997    1\n",
       "9998    1\n",
       "9999    0\n",
       "Name: churn, Length: 10000, dtype: int64"
      ]
     },
     "execution_count": 20,
     "metadata": {},
     "output_type": "execute_result"
    }
   ],
   "source": [
    "y = dataset['churn']\n",
    "y"
   ]
  },
  {
   "cell_type": "markdown",
   "metadata": {},
   "source": [
    "## Splitting the dataset into the Training set and Testing set"
   ]
  },
  {
   "cell_type": "code",
   "execution_count": 21,
   "metadata": {},
   "outputs": [
    {
     "name": "stdout",
     "output_type": "stream",
     "text": [
      "Train set: (8000, 10) (8000,)\n",
      "Test set: (2000, 10) (2000,)\n"
     ]
    }
   ],
   "source": [
    "from sklearn.model_selection import train_test_split\n",
    "x_train, x_test, y_train, y_test = train_test_split( X, y, test_size=0.2, random_state=4)\n",
    "print ('Train set:', x_train.shape,  y_train.shape)\n",
    "print ('Test set:', x_test.shape,  y_test.shape)"
   ]
  },
  {
   "cell_type": "markdown",
   "metadata": {},
   "source": [
    "## Training the Logistic Regression model on the Training set"
   ]
  },
  {
   "cell_type": "code",
   "execution_count": 22,
   "metadata": {},
   "outputs": [],
   "source": [
    "# import the class\n",
    "from sklearn.linear_model import LogisticRegression\n",
    "\n",
    "# instantiate the model (using the default parameters)\n",
    "logreg = LogisticRegression(random_state=16)\n",
    "\n",
    "# fit the model with data\n",
    "logreg.fit(x_train, y_train)\n",
    "\n",
    "# Make predictions on the testing data using the logistic regression model\n",
    "y_pred = logreg.predict(x_test)"
   ]
  },
  {
   "cell_type": "code",
   "execution_count": 23,
   "metadata": {},
   "outputs": [
    {
     "name": "stdout",
     "output_type": "stream",
     "text": [
      "              precision    recall  f1-score   support\n",
      "\n",
      "           0       0.84      0.97      0.90      1604\n",
      "           1       0.65      0.23      0.34       396\n",
      "\n",
      "    accuracy                           0.82      2000\n",
      "   macro avg       0.74      0.60      0.62      2000\n",
      "weighted avg       0.80      0.82      0.79      2000\n",
      "\n"
     ]
    }
   ],
   "source": [
    "# Print classification report\n",
    "\n",
    "from sklearn.metrics import classification_report\n",
    "target_names = ['Churn']\n",
    "print(classification_report(y_test, y_pred)) # The classification_report function analyzes the relationship between the true labels and the predicted labels and then prints a comprehensive report summarizing the model's performance for each class.\n",
    "\n",
    "# Precision: Proportion of predicted positives that were actually correct(out of all instances predicted positive for that class).\n",
    "# Recall: Proportion of actual positives that were correctly identified(out of all actual positive instances for that class).\n",
    "# F1-Score: Harmonic mean of precision and recall, combining their importance.\n",
    "# Support: Total number of true instances for each class."
   ]
  },
  {
   "cell_type": "code",
   "execution_count": 24,
   "metadata": {},
   "outputs": [
    {
     "data": {
      "text/plain": [
       "array([[1555,   49],\n",
       "       [ 305,   91]], dtype=int64)"
      ]
     },
     "execution_count": 24,
     "metadata": {},
     "output_type": "execute_result"
    }
   ],
   "source": [
    "# import the metrics class\n",
    "from sklearn import metrics\n",
    "\n",
    "# Compute confusion matrix\n",
    "cnf_matrix = metrics.confusion_matrix(y_test, y_pred) # The confusion matrix is a table that visualizes the performance of a classification model by comparing its predicted classes against the actual classes.\n",
    "cnf_matrix"
   ]
  },
  {
   "cell_type": "code",
   "execution_count": 25,
   "metadata": {},
   "outputs": [
    {
     "data": {
      "text/plain": [
       "Text(0.5, 257.44, 'Predicted label')"
      ]
     },
     "execution_count": 25,
     "metadata": {},
     "output_type": "execute_result"
    },
    {
     "data": {
      "image/png": "[encoded data removed]",
      "text/plain": [
       "<Figure size 432x288 with 2 Axes>"
      ]
     },
     "metadata": {},
     "output_type": "display_data"
    }
   ],
   "source": [
    "class_names=[0,1] # name  of classes\n",
    "fig, ax = plt.subplots()\n",
    "tick_marks = np.arange(len(class_names))\n",
    "plt.xticks(tick_marks, class_names)\n",
    "plt.yticks(tick_marks, class_names)\n",
    "\n",
    "# Create a heatmap of the confusion matrix using Seaborn library\n",
    "sns.heatmap(pd.DataFrame(cnf_matrix), annot=True, annot_kws={'size':20}, cmap=\"YlGnBu\", fmt='g')\n",
    "\n",
    "# Set the position of the x-axis label to the top\n",
    "ax.xaxis.set_label_position(\"top\")\n",
    "\n",
    "# Adjust the layout to prevent overlapping of elements\n",
    "plt.tight_layout()\n",
    "\n",
    "# Set the title of the plot\n",
    "plt.title('Confusion matrix', y=1.1)\n",
    "\n",
    "# Set the label for the y-axis\n",
    "plt.ylabel('Actual label')\n",
    "\n",
    "# Set the label for the x-axis\n",
    "plt.xlabel('Predicted label')"
   ]
  },
  {
   "cell_type": "code",
   "execution_count": 26,
   "metadata": {},
   "outputs": [
    {
     "data": {
      "image/png": "[encoded data removed]",
      "text/plain": [
       "<Figure size 432x288 with 1 Axes>"
      ]
     },
     "metadata": {},
     "output_type": "display_data"
    }
   ],
   "source": [
    "from sklearn.metrics import roc_curve\n",
    "from sklearn.metrics import roc_curve, roc_auc_score\n",
    "\n",
    "# Predict class probabilities for the positive class (customer churn)\n",
    "y_pred_proba = logreg.predict_proba(x_test)[::, 1]\n",
    "\n",
    "# Calculate False Positive Rate (fpr), True Positive Rate (tpr), and ignore thresholds\n",
    "fpr, tpr, _ = roc_curve(y_test, y_pred_proba)\n",
    "\n",
    "# Calculate Area Under the ROC Curve (AUC)\n",
    "auc = roc_auc_score(y_test, y_pred_proba)\n",
    "\n",
    "# Plot the ROC Curve\n",
    "plt.plot(fpr, tpr, label=\"Customer Churn (AUC=\"+str(auc)+\")\")  # More descriptive label\n",
    "\n",
    "plt.plot(auc)\n",
    "\n",
    "# Add axis labels\n",
    "plt.xlabel(\"False Positive Rate (FPR)\")\n",
    "plt.ylabel(\"True Positive Rate (TPR)\")\n",
    "\n",
    "# Add legend\n",
    "plt.legend(loc=4)\n",
    "\n",
    "# Display the ROC Curve\n",
    "plt.show()"
   ]
  }
 ],
 "metadata": {
  "kaggle": {
   "accelerator": "none",
   "dataSources": [
    {
     "datasetId": 841045,
     "sourceId": 1435585,
     "sourceType": "datasetVersion"
    }
   ],
   "dockerImageVersionId": 30042,
   "isGpuEnabled": false,
   "isInternetEnabled": false,
   "language": "python",
   "sourceType": "notebook"
  },
  "kernelspec": {
   "display_name": "Python 3 (ipykernel)",
   "language": "python",
   "name": "python3"
  },
  "language_info": {
   "codemirror_mode": {
    "name": "ipython",
    "version": 3
   },
   "file_extension": ".py",
   "mimetype": "text/x-python",
   "name": "python",
   "nbconvert_exporter": "python",
   "pygments_lexer": "ipython3",
   "version": "3.9.12"
  }
 },
 "nbformat": 4,
 "nbformat_minor": 4
}
