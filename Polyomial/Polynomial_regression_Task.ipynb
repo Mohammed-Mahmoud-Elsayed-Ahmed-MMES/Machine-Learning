{
 "cells": [
  {
   "cell_type": "markdown",
   "metadata": {
    "colab_type": "text",
    "id": "CazISR8X_HUG"
   },
   "source": [
    "# Polynomial Regression"
   ]
  },
  {
   "cell_type": "markdown",
   "metadata": {
    "colab_type": "text",
    "id": "pOyqYHTk_Q57"
   },
   "source": [
    "## Importing the libraries"
   ]
  },
  {
   "cell_type": "code",
   "execution_count": 1,
   "metadata": {
    "colab": {},
    "colab_type": "code",
    "id": "T_YHJjnD_Tja"
   },
   "outputs": [],
   "source": [
    "import numpy as np\n",
    "import matplotlib.pyplot as plt\n",
    "import pandas as pd"
   ]
  },
  {
   "cell_type": "markdown",
   "metadata": {
    "colab_type": "text",
    "id": "vgC61-ah_WIz"
   },
   "source": [
    "## Importing the dataset"
   ]
  },
  {
   "cell_type": "code",
   "execution_count": 2,
   "metadata": {},
   "outputs": [
    {
     "data": {
      "text/html": [
       "<div>\n",
       "<style scoped>\n",
       "    .dataframe tbody tr th:only-of-type {\n",
       "        vertical-align: middle;\n",
       "    }\n",
       "\n",
       "    .dataframe tbody tr th {\n",
       "        vertical-align: top;\n",
       "    }\n",
       "\n",
       "    .dataframe thead th {\n",
       "        text-align: right;\n",
       "    }\n",
       "</style>\n",
       "<table border=\"1\" class=\"dataframe\">\n",
       "  <thead>\n",
       "    <tr style=\"text-align: right;\">\n",
       "      <th></th>\n",
       "      <th>year</th>\n",
       "      <th>price</th>\n",
       "    </tr>\n",
       "  </thead>\n",
       "  <tbody>\n",
       "    <tr>\n",
       "      <th>0</th>\n",
       "      <td>2000</td>\n",
       "      <td>1000</td>\n",
       "    </tr>\n",
       "    <tr>\n",
       "      <th>1</th>\n",
       "      <td>2001</td>\n",
       "      <td>1100</td>\n",
       "    </tr>\n",
       "    <tr>\n",
       "      <th>2</th>\n",
       "      <td>2002</td>\n",
       "      <td>1105</td>\n",
       "    </tr>\n",
       "    <tr>\n",
       "      <th>3</th>\n",
       "      <td>2003</td>\n",
       "      <td>1101</td>\n",
       "    </tr>\n",
       "    <tr>\n",
       "      <th>4</th>\n",
       "      <td>2004</td>\n",
       "      <td>1102</td>\n",
       "    </tr>\n",
       "  </tbody>\n",
       "</table>\n",
       "</div>"
      ],
      "text/plain": [
       "   year  price\n",
       "0  2000   1000\n",
       "1  2001   1100\n",
       "2  2002   1105\n",
       "3  2003   1101\n",
       "4  2004   1102"
      ]
     },
     "execution_count": 2,
     "metadata": {},
     "output_type": "execute_result"
    }
   ],
   "source": [
    "# Loading the dataset\n",
    "dataset = pd.read_csv('sshape.csv')\n",
    "\n",
    "# Displaying the first 5 rows of the dataset\n",
    "dataset.head(5)"
   ]
  },
  {
   "cell_type": "code",
   "execution_count": 3,
   "metadata": {},
   "outputs": [
    {
     "name": "stdout",
     "output_type": "stream",
     "text": [
      "<class 'pandas.core.frame.DataFrame'>\n",
      "RangeIndex: 140 entries, 0 to 139\n",
      "Data columns (total 2 columns):\n",
      " #   Column  Non-Null Count  Dtype\n",
      "---  ------  --------------  -----\n",
      " 0   year    140 non-null    int64\n",
      " 1   price   140 non-null    int64\n",
      "dtypes: int64(2)\n",
      "memory usage: 2.3 KB\n"
     ]
    },
    {
     "data": {
      "text/plain": [
       "(140, 2)"
      ]
     },
     "execution_count": 3,
     "metadata": {},
     "output_type": "execute_result"
    }
   ],
   "source": [
    "# Information about the dataset, including data types and null values\n",
    "dataset.info()\n",
    "\n",
    "# Shape of the dataset (number of rows and columns)\n",
    "dataset.shape"
   ]
  },
  {
   "cell_type": "code",
   "execution_count": 4,
   "metadata": {},
   "outputs": [
    {
     "data": {
      "text/plain": [
       "1"
      ]
     },
     "execution_count": 4,
     "metadata": {},
     "output_type": "execute_result"
    }
   ],
   "source": [
    "# Checking for duplicated rows in the dataset\n",
    "dataset.duplicated().sum()"
   ]
  },
  {
   "cell_type": "code",
   "execution_count": 5,
   "metadata": {},
   "outputs": [],
   "source": [
    "# Remove duplicated rows in the dataset\n",
    "dataset = dataset.drop_duplicates()"
   ]
  },
  {
   "cell_type": "code",
   "execution_count": 6,
   "metadata": {},
   "outputs": [
    {
     "data": {
      "text/html": [
       "<style type=\"text/css\">\n",
       "#T_2e9e5_row0_col0 {\n",
       "  background-color: #f6f5f9;\n",
       "  color: #000000;\n",
       "}\n",
       "#T_2e9e5_row0_col1, #T_2e9e5_row2_col0 {\n",
       "  background-color: #fcfbfd;\n",
       "  color: #000000;\n",
       "}\n",
       "#T_2e9e5_row1_col0, #T_2e9e5_row5_col0 {\n",
       "  background-color: #430780;\n",
       "  color: #f1f1f1;\n",
       "}\n",
       "#T_2e9e5_row1_col1 {\n",
       "  background-color: #8784bd;\n",
       "  color: #f1f1f1;\n",
       "}\n",
       "#T_2e9e5_row2_col1 {\n",
       "  background-color: #cecee5;\n",
       "  color: #000000;\n",
       "}\n",
       "#T_2e9e5_row3_col0 {\n",
       "  background-color: #470f84;\n",
       "  color: #f1f1f1;\n",
       "}\n",
       "#T_2e9e5_row3_col1 {\n",
       "  background-color: #e3e2ef;\n",
       "  color: #000000;\n",
       "}\n",
       "#T_2e9e5_row4_col0 {\n",
       "  background-color: #440a82;\n",
       "  color: #f1f1f1;\n",
       "}\n",
       "#T_2e9e5_row4_col1 {\n",
       "  background-color: #dedeed;\n",
       "  color: #000000;\n",
       "}\n",
       "#T_2e9e5_row5_col1 {\n",
       "  background-color: #a3a0cb;\n",
       "  color: #f1f1f1;\n",
       "}\n",
       "#T_2e9e5_row6_col0 {\n",
       "  background-color: #42057f;\n",
       "  color: #f1f1f1;\n",
       "}\n",
       "#T_2e9e5_row6_col1 {\n",
       "  background-color: #40027e;\n",
       "  color: #f1f1f1;\n",
       "}\n",
       "#T_2e9e5_row7_col0, #T_2e9e5_row7_col1 {\n",
       "  background-color: #3f007d;\n",
       "  color: #f1f1f1;\n",
       "}\n",
       "</style>\n",
       "<table id=\"T_2e9e5\">\n",
       "  <thead>\n",
       "    <tr>\n",
       "      <th class=\"blank level0\" >&nbsp;</th>\n",
       "      <th id=\"T_2e9e5_level0_col0\" class=\"col_heading level0 col0\" >year</th>\n",
       "      <th id=\"T_2e9e5_level0_col1\" class=\"col_heading level0 col1\" >price</th>\n",
       "    </tr>\n",
       "  </thead>\n",
       "  <tbody>\n",
       "    <tr>\n",
       "      <th id=\"T_2e9e5_level0_row0\" class=\"row_heading level0 row0\" >count</th>\n",
       "      <td id=\"T_2e9e5_row0_col0\" class=\"data row0 col0\" >139.000000</td>\n",
       "      <td id=\"T_2e9e5_row0_col1\" class=\"data row0 col1\" >139.000000</td>\n",
       "    </tr>\n",
       "    <tr>\n",
       "      <th id=\"T_2e9e5_level0_row1\" class=\"row_heading level0 row1\" >mean</th>\n",
       "      <td id=\"T_2e9e5_row1_col0\" class=\"data row1 col0\" >2049.597122</td>\n",
       "      <td id=\"T_2e9e5_row1_col1\" class=\"data row1 col1\" >2756.194245</td>\n",
       "    </tr>\n",
       "    <tr>\n",
       "      <th id=\"T_2e9e5_level0_row2\" class=\"row_heading level0 row2\" >std</th>\n",
       "      <td id=\"T_2e9e5_row2_col0\" class=\"data row2 col0\" >25.551233</td>\n",
       "      <td id=\"T_2e9e5_row2_col1\" class=\"data row2 col1\" >1471.563813</td>\n",
       "    </tr>\n",
       "    <tr>\n",
       "      <th id=\"T_2e9e5_level0_row3\" class=\"row_heading level0 row3\" >min</th>\n",
       "      <td id=\"T_2e9e5_row3_col0\" class=\"data row3 col0\" >2000.000000</td>\n",
       "      <td id=\"T_2e9e5_row3_col1\" class=\"data row3 col1\" >1000.000000</td>\n",
       "    </tr>\n",
       "    <tr>\n",
       "      <th id=\"T_2e9e5_level0_row4\" class=\"row_heading level0 row4\" >25%</th>\n",
       "      <td id=\"T_2e9e5_row4_col0\" class=\"data row4 col0\" >2032.500000</td>\n",
       "      <td id=\"T_2e9e5_row4_col1\" class=\"data row4 col1\" >1132.500000</td>\n",
       "    </tr>\n",
       "    <tr>\n",
       "      <th id=\"T_2e9e5_level0_row5\" class=\"row_heading level0 row5\" >50%</th>\n",
       "      <td id=\"T_2e9e5_row5_col0\" class=\"data row5 col0\" >2051.000000</td>\n",
       "      <td id=\"T_2e9e5_row5_col1\" class=\"data row5 col1\" >2250.000000</td>\n",
       "    </tr>\n",
       "    <tr>\n",
       "      <th id=\"T_2e9e5_level0_row6\" class=\"row_heading level0 row6\" >75%</th>\n",
       "      <td id=\"T_2e9e5_row6_col0\" class=\"data row6 col0\" >2065.500000</td>\n",
       "      <td id=\"T_2e9e5_row6_col1\" class=\"data row6 col1\" >4510.500000</td>\n",
       "    </tr>\n",
       "    <tr>\n",
       "      <th id=\"T_2e9e5_level0_row7\" class=\"row_heading level0 row7\" >max</th>\n",
       "      <td id=\"T_2e9e5_row7_col0\" class=\"data row7 col0\" >2100.000000</td>\n",
       "      <td id=\"T_2e9e5_row7_col1\" class=\"data row7 col1\" >4545.000000</td>\n",
       "    </tr>\n",
       "  </tbody>\n",
       "</table>\n"
      ],
      "text/plain": [
       "<pandas.io.formats.style.Styler at 0x229f3fda4c0>"
      ]
     },
     "execution_count": 6,
     "metadata": {},
     "output_type": "execute_result"
    }
   ],
   "source": [
    "# Descriptive statistics of the dataset with styled background gradient\n",
    "dataset.describe().style.background_gradient(cmap = \"Purples\")"
   ]
  },
  {
   "cell_type": "markdown",
   "metadata": {},
   "source": [
    "## Extracting features (X) and target variable (y) from the dataset"
   ]
  },
  {
   "cell_type": "code",
   "execution_count": 7,
   "metadata": {
    "colab": {},
    "colab_type": "code",
    "id": "UrxyEKGn_ez7"
   },
   "outputs": [],
   "source": [
    "X = dataset.iloc[:, :-1].values\n",
    "y = dataset.iloc[:, -1].values"
   ]
  },
  {
   "cell_type": "code",
   "execution_count": 8,
   "metadata": {},
   "outputs": [
    {
     "name": "stdout",
     "output_type": "stream",
     "text": [
      "(139, 1)\n",
      "(139,)\n"
     ]
    }
   ],
   "source": [
    "print(X.shape)\n",
    "print(y.shape)"
   ]
  },
  {
   "cell_type": "code",
   "execution_count": 9,
   "metadata": {
    "colab": {
     "base_uri": "https://localhost:8080/",
     "height": 857
    },
    "colab_type": "code",
    "executionInfo": {
     "elapsed": 552,
     "status": "ok",
     "timestamp": 1586353652778,
     "user": {
      "displayName": "Hadelin de Ponteves",
      "photoUrl": "https://lh3.googleusercontent.com/a-/AOh14GhEuXdT7eQweUmRPW8_laJuPggSK6hfvpl5a6WBaA=s64",
      "userId": "15047218817161520419"
     },
     "user_tz": -240
    },
    "id": "GOB3QhV9B5kD",
    "outputId": "4a05377a-2db2-43fc-b824-a0710448baee"
   },
   "outputs": [
    {
     "name": "stdout",
     "output_type": "stream",
     "text": [
      "[[2000]\n",
      " [2001]\n",
      " [2002]\n",
      " [2003]\n",
      " [2004]\n",
      " [2004]\n",
      " [2004]\n",
      " [2005]\n",
      " [2006]\n",
      " [2007]\n",
      " [2008]\n",
      " [2009]\n",
      " [2010]\n",
      " [2011]\n",
      " [2012]\n",
      " [2013]\n",
      " [2014]\n",
      " [2015]\n",
      " [2016]\n",
      " [2017]\n",
      " [2018]\n",
      " [2019]\n",
      " [2020]\n",
      " [2021]\n",
      " [2022]\n",
      " [2023]\n",
      " [2024]\n",
      " [2025]\n",
      " [2026]\n",
      " [2027]\n",
      " [2028]\n",
      " [2029]\n",
      " [2030]\n",
      " [2031]\n",
      " [2032]\n",
      " [2033]\n",
      " [2034]\n",
      " [2035]\n",
      " [2036]\n",
      " [2037]\n",
      " [2038]\n",
      " [2039]\n",
      " [2040]\n",
      " [2041]\n",
      " [2042]\n",
      " [2043]\n",
      " [2044]\n",
      " [2045]\n",
      " [2046]\n",
      " [2047]\n",
      " [2048]\n",
      " [2049]\n",
      " [2050]\n",
      " [2051]\n",
      " [2051]\n",
      " [2051]\n",
      " [2051]\n",
      " [2051]\n",
      " [2051]\n",
      " [2051]\n",
      " [2051]\n",
      " [2051]\n",
      " [2051]\n",
      " [2051]\n",
      " [2051]\n",
      " [2051]\n",
      " [2051]\n",
      " [2051]\n",
      " [2051]\n",
      " [2051]\n",
      " [2051]\n",
      " [2051]\n",
      " [2051]\n",
      " [2051]\n",
      " [2051]\n",
      " [2051]\n",
      " [2051]\n",
      " [2051]\n",
      " [2051]\n",
      " [2051]\n",
      " [2051]\n",
      " [2051]\n",
      " [2051]\n",
      " [2051]\n",
      " [2051]\n",
      " [2051]\n",
      " [2051]\n",
      " [2051]\n",
      " [2051]\n",
      " [2051]\n",
      " [2052]\n",
      " [2053]\n",
      " [2054]\n",
      " [2055]\n",
      " [2056]\n",
      " [2057]\n",
      " [2058]\n",
      " [2059]\n",
      " [2060]\n",
      " [2061]\n",
      " [2062]\n",
      " [2063]\n",
      " [2064]\n",
      " [2065]\n",
      " [2066]\n",
      " [2067]\n",
      " [2068]\n",
      " [2069]\n",
      " [2070]\n",
      " [2071]\n",
      " [2072]\n",
      " [2073]\n",
      " [2074]\n",
      " [2075]\n",
      " [2076]\n",
      " [2077]\n",
      " [2078]\n",
      " [2079]\n",
      " [2080]\n",
      " [2081]\n",
      " [2082]\n",
      " [2083]\n",
      " [2084]\n",
      " [2085]\n",
      " [2086]\n",
      " [2087]\n",
      " [2088]\n",
      " [2089]\n",
      " [2090]\n",
      " [2091]\n",
      " [2092]\n",
      " [2093]\n",
      " [2094]\n",
      " [2095]\n",
      " [2096]\n",
      " [2097]\n",
      " [2098]\n",
      " [2099]\n",
      " [2100]]\n"
     ]
    }
   ],
   "source": [
    "print(X)"
   ]
  },
  {
   "cell_type": "markdown",
   "metadata": {
    "colab_type": "text",
    "id": "WemVnqgeA70k"
   },
   "source": [
    "## Splitting the dataset into the Training set and Testing set"
   ]
  },
  {
   "cell_type": "code",
   "execution_count": 10,
   "metadata": {
    "colab": {},
    "colab_type": "code",
    "id": "Kb_v_ae-A-20"
   },
   "outputs": [],
   "source": [
    "from sklearn.model_selection import train_test_split\n",
    "X_train, X_test, y_train, y_test = train_test_split(X, y, test_size = 0.2, random_state = 0)"
   ]
  },
  {
   "cell_type": "code",
   "execution_count": 11,
   "metadata": {},
   "outputs": [
    {
     "name": "stdout",
     "output_type": "stream",
     "text": [
      "Trainig Data..\n",
      "The shape of training features:  (111, 1)\n",
      "The shape of training labels:  (111,)\n"
     ]
    }
   ],
   "source": [
    "print(\"Trainig Data..\")\n",
    "print(\"The shape of training features: \", X_train.shape)\n",
    "print(\"The shape of training labels: \", y_train.shape)"
   ]
  },
  {
   "cell_type": "code",
   "execution_count": 12,
   "metadata": {},
   "outputs": [
    {
     "name": "stdout",
     "output_type": "stream",
     "text": [
      "Testing Data..\n",
      "The shape of testing features:  (28, 1)\n",
      "The shape of testing labels:  (28,)\n"
     ]
    }
   ],
   "source": [
    "print(\"Testing Data..\")\n",
    "print(\"The shape of testing features: \", X_test.shape)\n",
    "print(\"The shape of testing labels: \", y_test.shape)"
   ]
  },
  {
   "cell_type": "markdown",
   "metadata": {
    "colab_type": "text",
    "id": "k-McZVsQBINc"
   },
   "source": [
    "## Training the Linear Regression model on the Training set"
   ]
  },
  {
   "cell_type": "code",
   "execution_count": 13,
   "metadata": {},
   "outputs": [
    {
     "data": {
      "text/plain": [
       "LinearRegression()"
      ]
     },
     "execution_count": 13,
     "metadata": {},
     "output_type": "execute_result"
    }
   ],
   "source": [
    "# Fitting a linear regression model to the training data\n",
    "from sklearn.linear_model import LinearRegression\n",
    "lin_reg = LinearRegression()\n",
    "lin_reg.fit(X_train, y_train)"
   ]
  },
  {
   "cell_type": "code",
   "execution_count": 14,
   "metadata": {},
   "outputs": [
    {
     "name": "stdout",
     "output_type": "stream",
     "text": [
      "The Training Accuracy =  75.0 %\n"
     ]
    }
   ],
   "source": [
    "# Calculating and printing the training accuracy\n",
    "training_acc = np.ceil(lin_reg.score(X_train, y_train) * 100)\n",
    "print(\"The Training Accuracy = \", training_acc, \"%\")"
   ]
  },
  {
   "cell_type": "markdown",
   "metadata": {
    "colab_type": "text",
    "id": "xNkXL1YQBiBT"
   },
   "source": [
    "## Predicting the Test set results"
   ]
  },
  {
   "cell_type": "code",
   "execution_count": 15,
   "metadata": {},
   "outputs": [
    {
     "name": "stdout",
     "output_type": "stream",
     "text": [
      "The Testing Accuracy =  76.0 %\n"
     ]
    }
   ],
   "source": [
    "# Calculating and printing the testing accuracy\n",
    "testing_acc = np.ceil(lin_reg.score(X_test, y_test) * 100)\n",
    "print(\"The Testing Accuracy = \", testing_acc, \"%\")"
   ]
  },
  {
   "cell_type": "code",
   "execution_count": 16,
   "metadata": {
    "colab": {
     "base_uri": "https://localhost:8080/",
     "height": 185
    },
    "colab_type": "code",
    "executionInfo": {
     "elapsed": 951,
     "status": "ok",
     "timestamp": 1586353666678,
     "user": {
      "displayName": "Hadelin de Ponteves",
      "photoUrl": "https://lh3.googleusercontent.com/a-/AOh14GhEuXdT7eQweUmRPW8_laJuPggSK6hfvpl5a6WBaA=s64",
      "userId": "15047218817161520419"
     },
     "user_tz": -240
    },
    "id": "TQKmwvtdBkyb",
    "outputId": "493436bf-a4ae-4374-ca16-0b0c25d19457"
   },
   "outputs": [
    {
     "name": "stdout",
     "output_type": "stream",
     "text": [
      "[[ 568.96 1106.  ]\n",
      " [2828.   4200.  ]\n",
      " [4301.28 4527.  ]\n",
      " [3761.08 4516.  ]\n",
      " [1502.04 1125.  ]\n",
      " [3368.2  4508.  ]\n",
      " [2778.89 2070.  ]\n",
      " [3122.65 4503.  ]\n",
      " [3957.51 4520.  ]\n",
      " [4350.39 4528.  ]\n",
      " [1452.93 1124.  ]\n",
      " [2778.89 4100.  ]\n",
      " [1354.71 1122.  ]\n",
      " [3810.18 4517.  ]\n",
      " [2877.11 4300.  ]\n",
      " [2778.89 2060.  ]\n",
      " [5037.92 4542.  ]\n",
      " [2680.67 1900.  ]\n",
      " [4252.17 4526.  ]\n",
      " [3613.75 4513.  ]\n",
      " [1796.7  1131.  ]\n",
      " [1256.5  1120.  ]\n",
      " [ 372.53 1105.  ]\n",
      " [4203.06 4525.  ]\n",
      " [2778.89 2090.  ]\n",
      " [1060.06 1116.  ]\n",
      " [ 667.18 1108.  ]\n",
      " [2778.89 2010.  ]]\n"
     ]
    }
   ],
   "source": [
    "# Making predictions on the testing data\n",
    "y_pred = lin_reg.predict(X_test)\n",
    "\n",
    "# Printing the predicted and actual values side by side\n",
    "np.set_printoptions(precision=2)\n",
    "print(np.concatenate((y_pred.reshape(len(y_pred),1), y_test.reshape(len(y_test),1)),1))"
   ]
  },
  {
   "cell_type": "markdown",
   "metadata": {},
   "source": [
    "## Training the Polynomial Regression model on the whole dataset"
   ]
  },
  {
   "cell_type": "code",
   "execution_count": 17,
   "metadata": {},
   "outputs": [
    {
     "data": {
      "text/plain": [
       "LinearRegression()"
      ]
     },
     "execution_count": 17,
     "metadata": {},
     "output_type": "execute_result"
    }
   ],
   "source": [
    "# Import the PolynomialFeatures class from scikit-learn preprocessing module\n",
    "from sklearn.preprocessing import PolynomialFeatures\n",
    "\n",
    "# Create a PolynomialFeatures object with degree 3, allowing transformation of origanal features to polynomial features up to degree 3\n",
    "poly_reg = PolynomialFeatures(degree = 3)\n",
    "\n",
    "# Transform the original feature matrix X into polynomial features of degree 3\n",
    "X_poly = poly_reg.fit_transform(X)\n",
    "\n",
    "# Create a LinearRegression object\n",
    "lin_reg_2 = LinearRegression()\n",
    "\n",
    "# Fit the linear regression model using the polynomial features (X_poly) and the target variable (y)\n",
    "lin_reg_2.fit(X_poly, y)"
   ]
  },
  {
   "cell_type": "code",
   "execution_count": 18,
   "metadata": {},
   "outputs": [
    {
     "name": "stdout",
     "output_type": "stream",
     "text": [
      "The Polynomial Accuracy =  85.0 %\n"
     ]
    }
   ],
   "source": [
    "# Calculating and printing the accuracy\n",
    "accuracy = np.ceil(lin_reg_2.score(X_poly, y) * 100)\n",
    "print(\"The Polynomial Accuracy = \", accuracy, \"%\")"
   ]
  },
  {
   "cell_type": "markdown",
   "metadata": {},
   "source": [
    "## Visualising the Linear Regression results"
   ]
  },
  {
   "cell_type": "code",
   "execution_count": 19,
   "metadata": {},
   "outputs": [
    {
     "data": {
      "image/png": "[encoded data removed]",
      "text/plain": [
       "<Figure size 432x288 with 1 Axes>"
      ]
     },
     "metadata": {
      "needs_background": "light"
     },
     "output_type": "display_data"
    }
   ],
   "source": [
    "# Plotting the original data points\n",
    "plt.scatter(X, y, color = 'red', label='Original Data')\n",
    "\n",
    "# Plotting the linear regression line\n",
    "plt.plot(X, lin_reg.predict(X), color = 'blue', label='Linear Regression')\n",
    "\n",
    "# Adding title and labels\n",
    "plt.title('Truth or Bluff (Linear Regression)')\n",
    "plt.xlabel('Year')\n",
    "plt.ylabel('Price')\n",
    "\n",
    "# Displaying the plot\n",
    "plt.show()"
   ]
  },
  {
   "cell_type": "markdown",
   "metadata": {},
   "source": [
    "## Visualising the Polynomial Regression results"
   ]
  },
  {
   "cell_type": "code",
   "execution_count": 20,
   "metadata": {},
   "outputs": [
    {
     "data": {
      "image/png": "[encoded data removed]",
      "text/plain": [
       "<Figure size 432x288 with 1 Axes>"
      ]
     },
     "metadata": {
      "needs_background": "light"
     },
     "output_type": "display_data"
    }
   ],
   "source": [
    "# Plotting the original data points\n",
    "plt.scatter(X, y, color='red', label='Original Data')\n",
    "\n",
    "# Plotting the polynomial regression line\n",
    "plt.plot(X, lin_reg_2.predict(X_poly), color='blue', label='Polynomial Regression')\n",
    "\n",
    "# Adding title and labels\n",
    "plt.title('Truth or Bluff (Polynomial Regression)')\n",
    "plt.xlabel('Year')\n",
    "plt.ylabel('Price')\n",
    "\n",
    "# Displaying the plot\n",
    "plt.legend()\n",
    "plt.show()"
   ]
  },
  {
   "cell_type": "markdown",
   "metadata": {},
   "source": [
    "## Visualising the Polynomial Regression results (for higher resolution and smoother curve)"
   ]
  },
  {
   "cell_type": "code",
   "execution_count": 21,
   "metadata": {},
   "outputs": [
    {
     "data": {
      "image/png": "[encoded data removed]",
      "text/plain": [
       "<Figure size 432x288 with 1 Axes>"
      ]
     },
     "metadata": {
      "needs_background": "light"
     },
     "output_type": "display_data"
    }
   ],
   "source": [
    "# Generating a grid of values for X\n",
    "X_grid = np.arange(min(X), max(X), 0.1).reshape(-1, 1)\n",
    "\n",
    "# Transforming the grid of values using PolynomialFeatures\n",
    "X_grid_poly = poly_reg.transform(X_grid)\n",
    "\n",
    "# Plotting the original data points\n",
    "plt.scatter(X, y, color='red', label='Original Data')\n",
    "\n",
    "# Plotting the polynomial regression curve\n",
    "plt.plot(X_grid, lin_reg_2.predict(X_grid_poly), color='blue', label='Polynomial Regression')\n",
    "\n",
    "# Adding title and labels\n",
    "plt.title('Truth or Bluff (Polynomial Regression)')\n",
    "plt.xlabel('Year')\n",
    "plt.ylabel('Price')\n",
    "\n",
    "# Displaying the plot\n",
    "plt.legend()\n",
    "plt.show()"
   ]
  },
  {
   "cell_type": "markdown",
   "metadata": {},
   "source": [
    "## Predicting a new result with Linear Regression"
   ]
  },
  {
   "cell_type": "code",
   "execution_count": 22,
   "metadata": {},
   "outputs": [
    {
     "data": {
      "text/plain": [
       "array([-97625.27])"
      ]
     },
     "execution_count": 22,
     "metadata": {},
     "output_type": "execute_result"
    }
   ],
   "source": [
    "lin_reg.predict([[6.5]])"
   ]
  },
  {
   "cell_type": "markdown",
   "metadata": {},
   "source": [
    "## Predicting a new result with Polynomial Regression"
   ]
  },
  {
   "cell_type": "code",
   "execution_count": 23,
   "metadata": {},
   "outputs": [
    {
     "data": {
      "text/plain": [
       "array([2.33e+08])"
      ]
     },
     "execution_count": 23,
     "metadata": {},
     "output_type": "execute_result"
    }
   ],
   "source": [
    "lin_reg_2.predict(poly_reg.fit_transform([[6.5]]))"
   ]
  }
 ],
 "metadata": {
  "colab": {
   "authorship_tag": "ABX9TyPhYhte6t7H4wEK4xPpDWT7",
   "name": "Multiple Linear Regression",
   "provenance": [],
   "toc_visible": true
  },
  "kernelspec": {
   "display_name": "Python 3 (ipykernel)",
   "language": "python",
   "name": "python3"
  },
  "language_info": {
   "codemirror_mode": {
    "name": "ipython",
    "version": 3
   },
   "file_extension": ".py",
   "mimetype": "text/x-python",
   "name": "python",
   "nbconvert_exporter": "python",
   "pygments_lexer": "ipython3",
   "version": "3.9.12"
  }
 },
 "nbformat": 4,
 "nbformat_minor": 1
}
