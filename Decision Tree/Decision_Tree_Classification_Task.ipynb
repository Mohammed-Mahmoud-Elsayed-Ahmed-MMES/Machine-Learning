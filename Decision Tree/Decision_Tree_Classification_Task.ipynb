{
 "cells": [
  {
   "cell_type": "markdown",
   "metadata": {
    "colab_type": "text",
    "id": "0MRC0e0KhQ0S"
   },
   "source": [
    "# Decision Tree Classification"
   ]
  },
  {
   "cell_type": "markdown",
   "metadata": {
    "colab_type": "text",
    "id": "LWd1UlMnhT2s"
   },
   "source": [
    "## Importing the libraries"
   ]
  },
  {
   "cell_type": "code",
   "execution_count": 67,
   "metadata": {
    "colab": {},
    "colab_type": "code",
    "id": "YvGPUQaHhXfL"
   },
   "outputs": [],
   "source": [
    "import numpy as np\n",
    "import matplotlib.pyplot as plt\n",
    "import pandas as pd\n",
    "import seaborn as sns # is a Python library built on top of Matplotlib that provides a high-level interface for creating statistical graphics. Its main purpose is to simplify the creation of attractive and informative visualizations for data exploration, understanding, and communication."
   ]
  },
  {
   "cell_type": "markdown",
   "metadata": {
    "colab_type": "text",
    "id": "K1VMqkGvhc3-"
   },
   "source": [
    "## Importing the dataset"
   ]
  },
  {
   "cell_type": "code",
   "execution_count": 68,
   "metadata": {
    "colab": {},
    "colab_type": "code",
    "id": "M52QDmyzhh9s"
   },
   "outputs": [
    {
     "data": {
      "text/html": [
       "<div>\n",
       "<style scoped>\n",
       "    .dataframe tbody tr th:only-of-type {\n",
       "        vertical-align: middle;\n",
       "    }\n",
       "\n",
       "    .dataframe tbody tr th {\n",
       "        vertical-align: top;\n",
       "    }\n",
       "\n",
       "    .dataframe thead th {\n",
       "        text-align: right;\n",
       "    }\n",
       "</style>\n",
       "<table border=\"1\" class=\"dataframe\">\n",
       "  <thead>\n",
       "    <tr style=\"text-align: right;\">\n",
       "      <th></th>\n",
       "      <th>User ID</th>\n",
       "      <th>Gender</th>\n",
       "      <th>Age</th>\n",
       "      <th>AnnualSalary</th>\n",
       "      <th>Purchased</th>\n",
       "    </tr>\n",
       "  </thead>\n",
       "  <tbody>\n",
       "    <tr>\n",
       "      <th>0</th>\n",
       "      <td>385</td>\n",
       "      <td>Male</td>\n",
       "      <td>35</td>\n",
       "      <td>20000</td>\n",
       "      <td>0</td>\n",
       "    </tr>\n",
       "    <tr>\n",
       "      <th>1</th>\n",
       "      <td>681</td>\n",
       "      <td>Male</td>\n",
       "      <td>40</td>\n",
       "      <td>43500</td>\n",
       "      <td>0</td>\n",
       "    </tr>\n",
       "    <tr>\n",
       "      <th>2</th>\n",
       "      <td>353</td>\n",
       "      <td>Male</td>\n",
       "      <td>49</td>\n",
       "      <td>74000</td>\n",
       "      <td>0</td>\n",
       "    </tr>\n",
       "    <tr>\n",
       "      <th>3</th>\n",
       "      <td>895</td>\n",
       "      <td>Male</td>\n",
       "      <td>40</td>\n",
       "      <td>107500</td>\n",
       "      <td>1</td>\n",
       "    </tr>\n",
       "    <tr>\n",
       "      <th>4</th>\n",
       "      <td>661</td>\n",
       "      <td>Male</td>\n",
       "      <td>25</td>\n",
       "      <td>79000</td>\n",
       "      <td>0</td>\n",
       "    </tr>\n",
       "  </tbody>\n",
       "</table>\n",
       "</div>"
      ],
      "text/plain": [
       "   User ID Gender  Age  AnnualSalary  Purchased\n",
       "0      385   Male   35         20000          0\n",
       "1      681   Male   40         43500          0\n",
       "2      353   Male   49         74000          0\n",
       "3      895   Male   40        107500          1\n",
       "4      661   Male   25         79000          0"
      ]
     },
     "execution_count": 68,
     "metadata": {},
     "output_type": "execute_result"
    }
   ],
   "source": [
    "dataset = pd.read_csv('car_data.csv')\n",
    "dataset.head()"
   ]
  },
  {
   "cell_type": "code",
   "execution_count": 69,
   "metadata": {},
   "outputs": [
    {
     "name": "stdout",
     "output_type": "stream",
     "text": [
      "<class 'pandas.core.frame.DataFrame'>\n",
      "RangeIndex: 1000 entries, 0 to 999\n",
      "Data columns (total 5 columns):\n",
      " #   Column        Non-Null Count  Dtype \n",
      "---  ------        --------------  ----- \n",
      " 0   User ID       1000 non-null   int64 \n",
      " 1   Gender        1000 non-null   object\n",
      " 2   Age           1000 non-null   int64 \n",
      " 3   AnnualSalary  1000 non-null   int64 \n",
      " 4   Purchased     1000 non-null   int64 \n",
      "dtypes: int64(4), object(1)\n",
      "memory usage: 39.2+ KB\n"
     ]
    },
    {
     "data": {
      "text/plain": [
       "(1000, 5)"
      ]
     },
     "execution_count": 69,
     "metadata": {},
     "output_type": "execute_result"
    }
   ],
   "source": [
    "# Information about the dataset, including data types and null values\n",
    "dataset.info()\n",
    "\n",
    "# Shape of the dataset (number of rows and columns)\n",
    "dataset.shape"
   ]
  },
  {
   "cell_type": "code",
   "execution_count": 70,
   "metadata": {},
   "outputs": [
    {
     "data": {
      "text/plain": [
       "0"
      ]
     },
     "execution_count": 70,
     "metadata": {},
     "output_type": "execute_result"
    }
   ],
   "source": [
    "# Checking for duplicated rows in the dataset\n",
    "dataset.duplicated().sum()"
   ]
  },
  {
   "cell_type": "markdown",
   "metadata": {},
   "source": [
    "## Encoding the Independent Variable"
   ]
  },
  {
   "cell_type": "code",
   "execution_count": 71,
   "metadata": {},
   "outputs": [],
   "source": [
    "# Encode object column using label encoding\n",
    "from sklearn.preprocessing import LabelEncoder\n",
    "label_encoder = LabelEncoder()\n",
    "dataset['Gender'] = label_encoder.fit_transform(dataset['Gender'])"
   ]
  },
  {
   "cell_type": "code",
   "execution_count": 72,
   "metadata": {},
   "outputs": [
    {
     "name": "stdout",
     "output_type": "stream",
     "text": [
      "     User ID  Gender  Age  AnnualSalary  Purchased\n",
      "0        385       1   35         20000          0\n",
      "1        681       1   40         43500          0\n",
      "2        353       1   49         74000          0\n",
      "3        895       1   40        107500          1\n",
      "4        661       1   25         79000          0\n",
      "..       ...     ...  ...           ...        ...\n",
      "995      863       1   38         59000          0\n",
      "996      800       0   47         23500          0\n",
      "997      407       0   28        138500          1\n",
      "998      299       0   48        134000          1\n",
      "999      687       0   44         73500          0\n",
      "\n",
      "[1000 rows x 5 columns]\n"
     ]
    }
   ],
   "source": [
    "print(dataset)"
   ]
  },
  {
   "cell_type": "code",
   "execution_count": 73,
   "metadata": {},
   "outputs": [
    {
     "data": {
      "text/html": [
       "<style type=\"text/css\">\n",
       "#T_d4931_row0_col0, #T_d4931_row0_col1, #T_d4931_row0_col2, #T_d4931_row0_col4, #T_d4931_row7_col0, #T_d4931_row7_col3 {\n",
       "  background-color: #3f007d;\n",
       "  color: #f1f1f1;\n",
       "}\n",
       "#T_d4931_row0_col3, #T_d4931_row1_col1, #T_d4931_row1_col4, #T_d4931_row2_col1, #T_d4931_row2_col2, #T_d4931_row2_col4, #T_d4931_row3_col0, #T_d4931_row3_col1, #T_d4931_row3_col2, #T_d4931_row3_col4, #T_d4931_row4_col1, #T_d4931_row4_col4, #T_d4931_row5_col1, #T_d4931_row5_col4, #T_d4931_row6_col1, #T_d4931_row6_col4, #T_d4931_row7_col1, #T_d4931_row7_col4 {\n",
       "  background-color: #fcfbfd;\n",
       "  color: #000000;\n",
       "}\n",
       "#T_d4931_row1_col0, #T_d4931_row5_col0 {\n",
       "  background-color: #9e9ac8;\n",
       "  color: #f1f1f1;\n",
       "}\n",
       "#T_d4931_row1_col2, #T_d4931_row5_col2 {\n",
       "  background-color: #f9f8fb;\n",
       "  color: #000000;\n",
       "}\n",
       "#T_d4931_row1_col3 {\n",
       "  background-color: #a4a1cc;\n",
       "  color: #f1f1f1;\n",
       "}\n",
       "#T_d4931_row2_col0 {\n",
       "  background-color: #d1d2e7;\n",
       "  color: #000000;\n",
       "}\n",
       "#T_d4931_row2_col3 {\n",
       "  background-color: #dfdfed;\n",
       "  color: #000000;\n",
       "}\n",
       "#T_d4931_row3_col3 {\n",
       "  background-color: #f3f1f7;\n",
       "  color: #000000;\n",
       "}\n",
       "#T_d4931_row4_col0 {\n",
       "  background-color: #dadaeb;\n",
       "  color: #000000;\n",
       "}\n",
       "#T_d4931_row4_col2 {\n",
       "  background-color: #faf9fc;\n",
       "  color: #000000;\n",
       "}\n",
       "#T_d4931_row4_col3 {\n",
       "  background-color: #cecfe5;\n",
       "  color: #000000;\n",
       "}\n",
       "#T_d4931_row5_col3 {\n",
       "  background-color: #a6a3cd;\n",
       "  color: #f1f1f1;\n",
       "}\n",
       "#T_d4931_row6_col0 {\n",
       "  background-color: #6950a3;\n",
       "  color: #f1f1f1;\n",
       "}\n",
       "#T_d4931_row6_col2 {\n",
       "  background-color: #f8f7fb;\n",
       "  color: #000000;\n",
       "}\n",
       "#T_d4931_row6_col3 {\n",
       "  background-color: #8986be;\n",
       "  color: #f1f1f1;\n",
       "}\n",
       "#T_d4931_row7_col2 {\n",
       "  background-color: #f7f5fa;\n",
       "  color: #000000;\n",
       "}\n",
       "</style>\n",
       "<table id=\"T_d4931\">\n",
       "  <thead>\n",
       "    <tr>\n",
       "      <th class=\"blank level0\" >&nbsp;</th>\n",
       "      <th id=\"T_d4931_level0_col0\" class=\"col_heading level0 col0\" >User ID</th>\n",
       "      <th id=\"T_d4931_level0_col1\" class=\"col_heading level0 col1\" >Gender</th>\n",
       "      <th id=\"T_d4931_level0_col2\" class=\"col_heading level0 col2\" >Age</th>\n",
       "      <th id=\"T_d4931_level0_col3\" class=\"col_heading level0 col3\" >AnnualSalary</th>\n",
       "      <th id=\"T_d4931_level0_col4\" class=\"col_heading level0 col4\" >Purchased</th>\n",
       "    </tr>\n",
       "  </thead>\n",
       "  <tbody>\n",
       "    <tr>\n",
       "      <th id=\"T_d4931_level0_row0\" class=\"row_heading level0 row0\" >count</th>\n",
       "      <td id=\"T_d4931_row0_col0\" class=\"data row0 col0\" >1000.000000</td>\n",
       "      <td id=\"T_d4931_row0_col1\" class=\"data row0 col1\" >1000.000000</td>\n",
       "      <td id=\"T_d4931_row0_col2\" class=\"data row0 col2\" >1000.000000</td>\n",
       "      <td id=\"T_d4931_row0_col3\" class=\"data row0 col3\" >1000.000000</td>\n",
       "      <td id=\"T_d4931_row0_col4\" class=\"data row0 col4\" >1000.000000</td>\n",
       "    </tr>\n",
       "    <tr>\n",
       "      <th id=\"T_d4931_level0_row1\" class=\"row_heading level0 row1\" >mean</th>\n",
       "      <td id=\"T_d4931_row1_col0\" class=\"data row1 col0\" >500.500000</td>\n",
       "      <td id=\"T_d4931_row1_col1\" class=\"data row1 col1\" >0.484000</td>\n",
       "      <td id=\"T_d4931_row1_col2\" class=\"data row1 col2\" >40.106000</td>\n",
       "      <td id=\"T_d4931_row1_col3\" class=\"data row1 col3\" >72689.000000</td>\n",
       "      <td id=\"T_d4931_row1_col4\" class=\"data row1 col4\" >0.402000</td>\n",
       "    </tr>\n",
       "    <tr>\n",
       "      <th id=\"T_d4931_level0_row2\" class=\"row_heading level0 row2\" >std</th>\n",
       "      <td id=\"T_d4931_row2_col0\" class=\"data row2 col0\" >288.819436</td>\n",
       "      <td id=\"T_d4931_row2_col1\" class=\"data row2 col1\" >0.499994</td>\n",
       "      <td id=\"T_d4931_row2_col2\" class=\"data row2 col2\" >10.707073</td>\n",
       "      <td id=\"T_d4931_row2_col3\" class=\"data row2 col3\" >34488.341867</td>\n",
       "      <td id=\"T_d4931_row2_col4\" class=\"data row2 col4\" >0.490547</td>\n",
       "    </tr>\n",
       "    <tr>\n",
       "      <th id=\"T_d4931_level0_row3\" class=\"row_heading level0 row3\" >min</th>\n",
       "      <td id=\"T_d4931_row3_col0\" class=\"data row3 col0\" >1.000000</td>\n",
       "      <td id=\"T_d4931_row3_col1\" class=\"data row3 col1\" >0.000000</td>\n",
       "      <td id=\"T_d4931_row3_col2\" class=\"data row3 col2\" >18.000000</td>\n",
       "      <td id=\"T_d4931_row3_col3\" class=\"data row3 col3\" >15000.000000</td>\n",
       "      <td id=\"T_d4931_row3_col4\" class=\"data row3 col4\" >0.000000</td>\n",
       "    </tr>\n",
       "    <tr>\n",
       "      <th id=\"T_d4931_level0_row4\" class=\"row_heading level0 row4\" >25%</th>\n",
       "      <td id=\"T_d4931_row4_col0\" class=\"data row4 col0\" >250.750000</td>\n",
       "      <td id=\"T_d4931_row4_col1\" class=\"data row4 col1\" >0.000000</td>\n",
       "      <td id=\"T_d4931_row4_col2\" class=\"data row4 col2\" >32.000000</td>\n",
       "      <td id=\"T_d4931_row4_col3\" class=\"data row4 col3\" >46375.000000</td>\n",
       "      <td id=\"T_d4931_row4_col4\" class=\"data row4 col4\" >0.000000</td>\n",
       "    </tr>\n",
       "    <tr>\n",
       "      <th id=\"T_d4931_level0_row5\" class=\"row_heading level0 row5\" >50%</th>\n",
       "      <td id=\"T_d4931_row5_col0\" class=\"data row5 col0\" >500.500000</td>\n",
       "      <td id=\"T_d4931_row5_col1\" class=\"data row5 col1\" >0.000000</td>\n",
       "      <td id=\"T_d4931_row5_col2\" class=\"data row5 col2\" >40.000000</td>\n",
       "      <td id=\"T_d4931_row5_col3\" class=\"data row5 col3\" >72000.000000</td>\n",
       "      <td id=\"T_d4931_row5_col4\" class=\"data row5 col4\" >0.000000</td>\n",
       "    </tr>\n",
       "    <tr>\n",
       "      <th id=\"T_d4931_level0_row6\" class=\"row_heading level0 row6\" >75%</th>\n",
       "      <td id=\"T_d4931_row6_col0\" class=\"data row6 col0\" >750.250000</td>\n",
       "      <td id=\"T_d4931_row6_col1\" class=\"data row6 col1\" >1.000000</td>\n",
       "      <td id=\"T_d4931_row6_col2\" class=\"data row6 col2\" >48.000000</td>\n",
       "      <td id=\"T_d4931_row6_col3\" class=\"data row6 col3\" >90000.000000</td>\n",
       "      <td id=\"T_d4931_row6_col4\" class=\"data row6 col4\" >1.000000</td>\n",
       "    </tr>\n",
       "    <tr>\n",
       "      <th id=\"T_d4931_level0_row7\" class=\"row_heading level0 row7\" >max</th>\n",
       "      <td id=\"T_d4931_row7_col0\" class=\"data row7 col0\" >1000.000000</td>\n",
       "      <td id=\"T_d4931_row7_col1\" class=\"data row7 col1\" >1.000000</td>\n",
       "      <td id=\"T_d4931_row7_col2\" class=\"data row7 col2\" >63.000000</td>\n",
       "      <td id=\"T_d4931_row7_col3\" class=\"data row7 col3\" >152500.000000</td>\n",
       "      <td id=\"T_d4931_row7_col4\" class=\"data row7 col4\" >1.000000</td>\n",
       "    </tr>\n",
       "  </tbody>\n",
       "</table>\n"
      ],
      "text/plain": [
       "<pandas.io.formats.style.Styler at 0x2c2ddd16d30>"
      ]
     },
     "execution_count": 73,
     "metadata": {},
     "output_type": "execute_result"
    }
   ],
   "source": [
    "# Descriptive statistics of the dataset with styled background gradient\n",
    "dataset.describe().style.background_gradient(cmap = \"Purples\")"
   ]
  },
  {
   "cell_type": "code",
   "execution_count": 74,
   "metadata": {},
   "outputs": [
    {
     "data": {
      "image/png": "[encoded data removed]",
      "text/plain": [
       "<Figure size 1440x720 with 2 Axes>"
      ]
     },
     "metadata": {
      "needs_background": "light"
     },
     "output_type": "display_data"
    }
   ],
   "source": [
    "# Visualize the correlation between all features using a heatmap\n",
    "\n",
    "plt.figure(figsize=(20,10)) # Make the figure will be 20 inches wide and 10 inches high.\n",
    "sns.heatmap(dataset.corr(), cmap=\"viridis\",annot=True,linewidths=0.1) # dataset.corr(): Calculates the correlation matrix of the dataset's numerical features. # cmap=\"viridis\": Colormap used (here, viridis). # annot=True: Displays correlation values within each cell. # linewidths=0.1: Sets the width of the grid lines.\n",
    "plt.title('Correlation Heatmap')\n",
    "plt.show()"
   ]
  },
  {
   "cell_type": "markdown",
   "metadata": {},
   "source": [
    "## Extracting features (X) and target variable (y) from the dataset"
   ]
  },
  {
   "cell_type": "code",
   "execution_count": 75,
   "metadata": {},
   "outputs": [],
   "source": [
    "X = dataset.iloc[:, 2:-1].values\n",
    "y = dataset.iloc[:, -1].values"
   ]
  },
  {
   "cell_type": "markdown",
   "metadata": {
    "colab_type": "text",
    "id": "YvxIPVyMhmKp"
   },
   "source": [
    "## Splitting the dataset into the Training set and Test set"
   ]
  },
  {
   "cell_type": "code",
   "execution_count": 76,
   "metadata": {
    "colab": {},
    "colab_type": "code",
    "id": "AVzJWAXIhxoC"
   },
   "outputs": [
    {
     "name": "stdout",
     "output_type": "stream",
     "text": [
      "Train set: (750, 2) (750,)\n",
      "Test set: (250, 2) (250,)\n"
     ]
    }
   ],
   "source": [
    "from sklearn.model_selection import train_test_split\n",
    "X_train, X_test, y_train, y_test = train_test_split(X, y, test_size = 0.25, random_state = 0)\n",
    "print ('Train set:', X_train.shape,  y_train.shape)\n",
    "print ('Test set:', X_test.shape,  y_test.shape)"
   ]
  },
  {
   "cell_type": "code",
   "execution_count": 77,
   "metadata": {
    "colab": {
     "base_uri": "https://localhost:8080/",
     "height": 1000
    },
    "colab_type": "code",
    "executionInfo": {
     "elapsed": 2065,
     "status": "ok",
     "timestamp": 1588269312367,
     "user": {
      "displayName": "Hadelin de Ponteves",
      "photoUrl": "https://lh3.googleusercontent.com/a-/AOh14GhEuXdT7eQweUmRPW8_laJuPggSK6hfvpl5a6WBaA=s64",
      "userId": "15047218817161520419"
     },
     "user_tz": -240
    },
    "id": "P3nS3-6r1i2B",
    "outputId": "fa90271e-3c0a-43c2-ba6c-cfce4819e98e"
   },
   "outputs": [
    {
     "name": "stdout",
     "output_type": "stream",
     "text": [
      "[[    20  20500]\n",
      " [    50  25500]\n",
      " [    51 136500]\n",
      " ...\n",
      " [    61  84500]\n",
      " [    30  62000]\n",
      " [    19  45500]]\n"
     ]
    }
   ],
   "source": [
    "print(X_train)"
   ]
  },
  {
   "cell_type": "code",
   "execution_count": 78,
   "metadata": {
    "colab": {
     "base_uri": "https://localhost:8080/",
     "height": 171
    },
    "colab_type": "code",
    "executionInfo": {
     "elapsed": 2059,
     "status": "ok",
     "timestamp": 1588269312368,
     "user": {
      "displayName": "Hadelin de Ponteves",
      "photoUrl": "https://lh3.googleusercontent.com/a-/AOh14GhEuXdT7eQweUmRPW8_laJuPggSK6hfvpl5a6WBaA=s64",
      "userId": "15047218817161520419"
     },
     "user_tz": -240
    },
    "id": "8dpDLojm1mVG",
    "outputId": "4eaa18a3-6481-42bb-c409-7227565c7fe1"
   },
   "outputs": [
    {
     "name": "stdout",
     "output_type": "stream",
     "text": [
      "[0 1 1 1 1 1 1 0 0 1 0 1 1 0 1 0 1 1 1 1 1 0 1 1 1 0 0 0 1 0 0 0 0 1 0 0 0\n",
      " 1 0 0 0 1 0 1 1 0 1 0 0 0 1 0 0 1 0 0 1 1 1 0 1 0 0 0 1 0 0 0 1 0 1 1 0 1\n",
      " 0 0 1 0 1 0 1 1 0 0 1 1 0 0 1 0 1 0 0 0 1 0 0 0 1 0 1 0 1 1 0 0 0 1 0 1 1\n",
      " 0 1 0 1 1 0 1 0 1 0 0 0 1 0 0 0 1 0 1 0 0 0 1 0 0 0 0 1 1 0 1 0 1 0 1 0 0\n",
      " 0 1 1 1 1 1 0 0 0 1 1 1 1 0 1 0 0 1 1 1 0 1 0 0 0 0 1 0 0 1 1 0 1 1 0 0 0\n",
      " 0 0 1 1 1 0 1 0 1 0 0 0 0 1 0 0 0 0 1 0 0 0 0 0 1 0 1 0 1 0 1 0 1 0 0 0 0\n",
      " 0 0 0 0 1 0 1 0 0 0 0 1 0 0 0 0 1 0 0 0 0 0 1 0 0 0 0 0 0 1 1 0 0 1 0 1 1\n",
      " 0 1 0 0 0 0 0 0 1 1 0 1 1 0 0 0 1 0 1 0 1 0 0 0 0 0 0 1 0 0 0 1 1 0 1 1 0\n",
      " 1 1 1 1 1 1 0 1 0 1 1 1 0 0 1 0 0 0 0 0 0 0 0 0 1 1 0 1 1 0 0 1 1 1 0 0 0\n",
      " 0 0 0 0 0 1 1 0 0 0 1 0 1 0 0 1 1 1 0 0 0 0 0 1 0 1 1 0 1 1 1 0 0 1 0 0 0\n",
      " 0 1 1 0 1 0 1 1 0 0 0 1 0 0 1 0 0 0 1 0 0 0 1 0 0 0 1 0 0 0 1 0 0 1 1 0 0\n",
      " 0 1 0 0 0 1 0 1 0 0 0 0 0 0 0 1 1 0 0 1 0 0 0 0 0 0 0 0 1 0 0 1 0 0 1 1 0\n",
      " 1 1 0 0 0 0 0 1 1 0 0 1 1 1 1 1 0 0 1 0 1 0 0 0 1 1 0 0 1 1 1 0 0 1 0 1 1\n",
      " 1 0 0 0 0 1 0 1 1 1 1 0 0 0 0 1 0 0 1 0 1 0 1 0 0 1 1 0 0 1 1 0 0 1 1 1 1\n",
      " 0 1 1 1 1 1 0 0 0 0 1 0 0 0 1 0 1 0 1 0 1 1 0 0 1 0 1 1 0 0 1 0 0 0 0 0 0\n",
      " 0 1 1 0 0 1 1 0 1 1 0 1 0 0 0 1 1 1 0 0 0 1 0 1 0 1 1 0 0 0 0 0 0 0 1 0 0\n",
      " 1 0 1 1 0 1 0 1 0 0 0 1 0 0 0 0 0 0 0 0 0 1 0 0 0 1 1 0 0 0 0 0 0 1 1 1 1\n",
      " 1 1 0 1 0 0 0 0 1 0 0 0 1 1 1 1 0 0 1 0 0 0 1 0 0 0 1 0 0 1 0 1 1 1 0 1 0\n",
      " 1 1 0 1 0 0 1 0 0 1 0 0 0 0 1 1 0 0 1 1 1 1 1 1 1 0 1 0 0 0 0 0 1 0 0 1 1\n",
      " 0 1 0 1 0 1 1 0 1 0 1 1 0 0 0 0 1 0 0 1 1 0 0 1 0 0 0 0 1 1 0 0 0 0 0 0 0\n",
      " 0 0 0 0 1 0 0 1 0 0]\n"
     ]
    }
   ],
   "source": [
    "print(y_train)"
   ]
  },
  {
   "cell_type": "code",
   "execution_count": 79,
   "metadata": {
    "colab": {
     "base_uri": "https://localhost:8080/",
     "height": 1000
    },
    "colab_type": "code",
    "executionInfo": {
     "elapsed": 2055,
     "status": "ok",
     "timestamp": 1588269312369,
     "user": {
      "displayName": "Hadelin de Ponteves",
      "photoUrl": "https://lh3.googleusercontent.com/a-/AOh14GhEuXdT7eQweUmRPW8_laJuPggSK6hfvpl5a6WBaA=s64",
      "userId": "15047218817161520419"
     },
     "user_tz": -240
    },
    "id": "qbb7i0DH1qui",
    "outputId": "5c45ffab-4587-4828-8204-0f4fedf88980"
   },
   "outputs": [
    {
     "name": "stdout",
     "output_type": "stream",
     "text": [
      "[[    54 136500]\n",
      " [    41  67500]\n",
      " [    50  29500]\n",
      " [    20  86000]\n",
      " [    27  31500]\n",
      " [    36  48500]\n",
      " [    40  97500]\n",
      " [    51  45500]\n",
      " [    55  71500]\n",
      " [    28  89500]\n",
      " [    47  80500]\n",
      " [    19  21000]\n",
      " [    35  44500]\n",
      " [    27  31000]\n",
      " [    46  33500]\n",
      " [    49  36000]\n",
      " [    33  60000]\n",
      " [    52  67500]\n",
      " [    42 108000]\n",
      " [    34  32500]\n",
      " [    32  67500]\n",
      " [    38  58500]\n",
      " [    27  82500]\n",
      " [    51  98500]\n",
      " [    55 140500]\n",
      " [    41  72500]\n",
      " [    37  75000]\n",
      " [    39  42000]\n",
      " [    38 145500]\n",
      " [    40  43500]\n",
      " [    40  80500]\n",
      " [    41  73500]\n",
      " [    29  86500]\n",
      " [    27  88000]\n",
      " [    25  80000]\n",
      " [    37  52000]\n",
      " [    26  80500]\n",
      " [    34  72000]\n",
      " [    38  71000]\n",
      " [    58 127500]\n",
      " [    36  76500]\n",
      " [    47  23500]\n",
      " [    54  35500]\n",
      " [    38  61000]\n",
      " [    51  37500]\n",
      " [    42  77500]\n",
      " [    30  15000]\n",
      " [    40  75000]\n",
      " [    31  18500]\n",
      " [    18  82000]\n",
      " [    57 134500]\n",
      " [    34  44500]\n",
      " [    42  65000]\n",
      " [    38  65000]\n",
      " [    41  53500]\n",
      " [    48  96000]\n",
      " [    34 150500]\n",
      " [    42  53000]\n",
      " [    31  71000]\n",
      " [    20  36000]\n",
      " [    47  97500]\n",
      " [    48  52500]\n",
      " [    57  72500]\n",
      " [    38  54500]\n",
      " [    26  80000]\n",
      " [    39  62500]\n",
      " [    42 136500]\n",
      " [    35  73500]\n",
      " [    27  36500]\n",
      " [    41  48500]\n",
      " [    41  58500]\n",
      " [    49 141000]\n",
      " [    25  59500]\n",
      " [    28  59500]\n",
      " [    38  75500]\n",
      " [    56  84500]\n",
      " [    60  42000]\n",
      " [    49  97500]\n",
      " [    53  72000]\n",
      " [    22  73500]\n",
      " [    40  60000]\n",
      " [    37 127500]\n",
      " [    54 104000]\n",
      " [    39  60500]\n",
      " [    39  62500]\n",
      " [    35  60000]\n",
      " [    62  90500]\n",
      " [    46  22000]\n",
      " [    38  94500]\n",
      " [    47  49000]\n",
      " [    43  77500]\n",
      " [    41 108500]\n",
      " [    59 102500]\n",
      " [    39  75000]\n",
      " [    46 114500]\n",
      " [    53  39500]\n",
      " [    51  92500]\n",
      " [    18  44000]\n",
      " [    24  21500]\n",
      " [    42 108500]\n",
      " [    44  62500]\n",
      " [    33 118500]\n",
      " [    35  22000]\n",
      " [    35  26500]\n",
      " [    47  51000]\n",
      " [    40  82500]\n",
      " [    37  76500]\n",
      " [    47  20000]\n",
      " [    38  34500]\n",
      " [    27  16500]\n",
      " [    26  17000]\n",
      " [    45  55500]\n",
      " [    19  69500]\n",
      " [    20  26500]\n",
      " [    21  83500]\n",
      " [    55  92500]\n",
      " [    20  22500]\n",
      " [    19  70000]\n",
      " [    40 123500]\n",
      " [    36  63000]\n",
      " [    27  85500]\n",
      " [    37  34500]\n",
      " [    40  72500]\n",
      " [    42  54000]\n",
      " [    50 109500]\n",
      " [    39 127500]\n",
      " [    50  44000]\n",
      " [    58  75500]\n",
      " [    56 145500]\n",
      " [    31  81500]\n",
      " [    43  74500]\n",
      " [    28  85000]\n",
      " [    27  90000]\n",
      " [    60 131500]\n",
      " [    28  97500]\n",
      " [    27  44500]\n",
      " [    27 137000]\n",
      " [    30  84500]\n",
      " [    47  83500]\n",
      " [    23  28500]\n",
      " [    50  88000]\n",
      " [    37  57000]\n",
      " [    56  40500]\n",
      " [    58  38000]\n",
      " [    42  81500]\n",
      " [    63  36500]\n",
      " [    38  61000]\n",
      " [    23  28000]\n",
      " [    49  43500]\n",
      " [    44 113500]\n",
      " [    38  80000]\n",
      " [    45  26000]\n",
      " [    52 147500]\n",
      " [    38  76500]\n",
      " [    24  32000]\n",
      " [    25  56500]\n",
      " [    52  90000]\n",
      " [    29  43000]\n",
      " [    37  33000]\n",
      " [    30  29500]\n",
      " [    35 108000]\n",
      " [    48  33000]\n",
      " [    26  88500]\n",
      " [    43 150500]\n",
      " [    36  61500]\n",
      " [    40 139500]\n",
      " [    40  43500]\n",
      " [    49  34500]\n",
      " [    51  89500]\n",
      " [    36  66500]\n",
      " [    48 138000]\n",
      " [    52  30500]\n",
      " [    40  74500]\n",
      " [    45  72500]\n",
      " [    56 126500]\n",
      " [    27  87500]\n",
      " [    42 104000]\n",
      " [    39  71000]\n",
      " [    45 106500]\n",
      " [    22  89500]\n",
      " [    41  79000]\n",
      " [    44  73500]\n",
      " [    22  63000]\n",
      " [    60  34000]\n",
      " [    27  84000]\n",
      " [    29  28000]\n",
      " [    46 117000]\n",
      " [    46  23000]\n",
      " [    58 144000]\n",
      " [    35  88000]\n",
      " [    59 130000]\n",
      " [    27  54000]\n",
      " [    43 112000]\n",
      " [    47  33500]\n",
      " [    55 109500]\n",
      " [    35  55000]\n",
      " [    39 128500]\n",
      " [    23  64500]\n",
      " [    40  80500]\n",
      " [    39  62500]\n",
      " [    26  84000]\n",
      " [    40  57000]\n",
      " [    33  19500]\n",
      " [    32  59500]\n",
      " [    37  53500]\n",
      " [    45  81500]\n",
      " [    48 141000]\n",
      " [    59  29000]\n",
      " [    40  72500]\n",
      " [    35  57000]\n",
      " [    29  83000]\n",
      " [    36 125000]\n",
      " [    39 114500]\n",
      " [    57 122000]\n",
      " [    49  31500]\n",
      " [    24  67500]\n",
      " [    30  89000]\n",
      " [    37  79000]\n",
      " [    21  37500]\n",
      " [    54 105500]\n",
      " [    40  95500]\n",
      " [    21  16000]\n",
      " [    24  83500]\n",
      " [    21  72000]\n",
      " [    40  65000]\n",
      " [    43  54500]\n",
      " [    44  74500]\n",
      " [    26  91500]\n",
      " [    46  79000]\n",
      " [    50  36000]\n",
      " [    27  58000]\n",
      " [    20  82000]\n",
      " [    63  44500]\n",
      " [    50  87500]\n",
      " [    49  88000]\n",
      " [    50  53500]\n",
      " [    50  45500]\n",
      " [    19  19000]\n",
      " [    34 115000]\n",
      " [    38  59500]\n",
      " [    59  24500]\n",
      " [    28  37000]\n",
      " [    59  83000]\n",
      " [    50  52500]\n",
      " [    30  48500]\n",
      " [    19  26000]\n",
      " [    41  52500]\n",
      " [    49  74000]\n",
      " [    44 130500]\n",
      " [    35  91000]]\n"
     ]
    }
   ],
   "source": [
    "print(X_test)"
   ]
  },
  {
   "cell_type": "code",
   "execution_count": 80,
   "metadata": {
    "colab": {
     "base_uri": "https://localhost:8080/",
     "height": 68
    },
    "colab_type": "code",
    "executionInfo": {
     "elapsed": 2051,
     "status": "ok",
     "timestamp": 1588269312369,
     "user": {
      "displayName": "Hadelin de Ponteves",
      "photoUrl": "https://lh3.googleusercontent.com/a-/AOh14GhEuXdT7eQweUmRPW8_laJuPggSK6hfvpl5a6WBaA=s64",
      "userId": "15047218817161520419"
     },
     "user_tz": -240
    },
    "id": "kj1hnFAR1s5w",
    "outputId": "984874ad-447c-441b-decb-3c775d9d7936"
   },
   "outputs": [
    {
     "name": "stdout",
     "output_type": "stream",
     "text": [
      "[0 0 1 0 0 0 1 0 1 0 1 0 0 0 1 1 0 0 1 0 0 0 0 1 1 1 0 0 1 0 1 0 0 0 0 0 0\n",
      " 0 0 1 0 0 1 0 1 1 0 0 0 0 1 0 0 0 0 1 1 0 0 0 0 1 1 0 0 0 1 0 0 0 0 1 0 0\n",
      " 0 1 1 1 1 0 0 1 1 0 0 0 1 0 1 1 0 1 1 1 1 1 1 0 0 1 0 1 0 0 1 0 0 1 0 0 0\n",
      " 0 0 0 0 1 0 0 1 0 0 0 0 0 1 1 0 1 1 0 0 0 0 1 1 0 1 0 0 0 1 0 1 1 0 1 0 0\n",
      " 1 1 0 1 1 0 0 0 1 0 0 0 0 1 0 1 0 1 0 1 1 0 1 1 0 0 1 0 1 0 1 0 0 0 0 1 0\n",
      " 0 1 1 1 0 1 0 1 1 1 0 1 0 0 0 0 0 0 0 0 0 0 1 1 0 0 1 1 1 1 0 0 1 0 1 1 0\n",
      " 0 0 0 0 0 0 1 1 0 0 1 1 1 1 0 0 0 0 1 0 0 1 0 0 0 0 1 1]\n"
     ]
    }
   ],
   "source": [
    "print(y_test)"
   ]
  },
  {
   "cell_type": "markdown",
   "metadata": {
    "colab_type": "text",
    "id": "kW3c7UYih0hT"
   },
   "source": [
    "## Feature Scaling"
   ]
  },
  {
   "cell_type": "code",
   "execution_count": 81,
   "metadata": {
    "colab": {},
    "colab_type": "code",
    "id": "9fQlDPKCh8sc"
   },
   "outputs": [],
   "source": [
    "from sklearn.preprocessing import StandardScaler\n",
    "sc = StandardScaler()\n",
    "X_train = sc.fit_transform(X_train)\n",
    "X_test = sc.transform(X_test)"
   ]
  },
  {
   "cell_type": "code",
   "execution_count": 82,
   "metadata": {
    "colab": {
     "base_uri": "https://localhost:8080/",
     "height": 1000
    },
    "colab_type": "code",
    "executionInfo": {
     "elapsed": 2046,
     "status": "ok",
     "timestamp": 1588269312370,
     "user": {
      "displayName": "Hadelin de Ponteves",
      "photoUrl": "https://lh3.googleusercontent.com/a-/AOh14GhEuXdT7eQweUmRPW8_laJuPggSK6hfvpl5a6WBaA=s64",
      "userId": "15047218817161520419"
     },
     "user_tz": -240
    },
    "id": "syrnD1Op2BSR",
    "outputId": "c71d71b1-d8b6-4391-dee4-6f8e48b848c2"
   },
   "outputs": [
    {
     "name": "stdout",
     "output_type": "stream",
     "text": [
      "[[-1.92084369 -1.50249061]\n",
      " [ 0.91133082 -1.35965201]\n",
      " [ 1.00573664  1.81136479]\n",
      " ...\n",
      " [ 1.94979481  0.3258434 ]\n",
      " [-0.97678552 -0.31693027]\n",
      " [-2.01524951 -0.78829764]]\n"
     ]
    }
   ],
   "source": [
    "print(X_train)"
   ]
  },
  {
   "cell_type": "code",
   "execution_count": 83,
   "metadata": {
    "colab": {
     "base_uri": "https://localhost:8080/",
     "height": 1000
    },
    "colab_type": "code",
    "executionInfo": {
     "elapsed": 2041,
     "status": "ok",
     "timestamp": 1588269312370,
     "user": {
      "displayName": "Hadelin de Ponteves",
      "photoUrl": "https://lh3.googleusercontent.com/a-/AOh14GhEuXdT7eQweUmRPW8_laJuPggSK6hfvpl5a6WBaA=s64",
      "userId": "15047218817161520419"
     },
     "user_tz": -240
    },
    "id": "JUd6iBRp2C3L",
    "outputId": "5762f294-8c56-4d79-c441-3468e2cb5e6a"
   },
   "outputs": [
    {
     "name": "stdout",
     "output_type": "stream",
     "text": [
      "[[ 1.28895409  1.81136479]\n",
      " [ 0.06167847 -0.15980782]\n",
      " [ 0.91133082 -1.24538114]\n",
      " [-1.92084369  0.36869498]\n",
      " [-1.26000297 -1.1882457 ]\n",
      " [-0.41035062 -0.70259448]\n",
      " [-0.03272735  0.69722375]\n",
      " [ 1.00573664 -0.78829764]\n",
      " [ 1.3833599  -0.04553694]\n",
      " [-1.16559715  0.468682  ]\n",
      " [ 0.62811337  0.21157253]\n",
      " [-2.01524951 -1.48820675]\n",
      " [-0.50475643 -0.81686535]\n",
      " [-1.26000297 -1.20252956]\n",
      " [ 0.53370755 -1.13111026]\n",
      " [ 0.816925   -1.05969097]\n",
      " [-0.69356807 -0.37406571]\n",
      " [ 1.10014245 -0.15980782]\n",
      " [ 0.15608428  0.9971848 ]\n",
      " [-0.59916225 -1.15967798]\n",
      " [-0.78797389 -0.15980782]\n",
      " [-0.22153898 -0.41691729]\n",
      " [-1.26000297  0.26870796]\n",
      " [ 1.00573664  0.72579147]\n",
      " [ 1.3833599   1.92563566]\n",
      " [ 0.06167847 -0.01696923]\n",
      " [-0.3159448   0.05445007]\n",
      " [-0.12713317 -0.88828465]\n",
      " [-0.22153898  2.06847426]\n",
      " [-0.03272735 -0.84543307]\n",
      " [-0.03272735  0.21157253]\n",
      " [ 0.06167847  0.01159849]\n",
      " [-1.07119134  0.38297884]\n",
      " [-1.26000297  0.42583042]\n",
      " [-1.4488146   0.19728867]\n",
      " [-0.3159448  -0.60260746]\n",
      " [-1.35440879  0.21157253]\n",
      " [-0.59916225 -0.03125308]\n",
      " [-0.22153898 -0.0598208 ]\n",
      " [ 1.66657735  1.55425532]\n",
      " [-0.41035062  0.09730165]\n",
      " [ 0.62811337 -1.41678745]\n",
      " [ 1.28895409 -1.07397483]\n",
      " [-0.22153898 -0.34549799]\n",
      " [ 1.00573664 -1.01683939]\n",
      " [ 0.15608428  0.12586937]\n",
      " [-0.97678552 -1.65961306]\n",
      " [-0.03272735  0.05445007]\n",
      " [-0.8823797  -1.55962605]\n",
      " [-2.10965532  0.2544241 ]\n",
      " [ 1.57217154  1.75422935]\n",
      " [-0.59916225 -0.81686535]\n",
      " [ 0.15608428 -0.23122712]\n",
      " [-0.22153898 -0.23122712]\n",
      " [ 0.06167847 -0.55975588]\n",
      " [ 0.72251919  0.65437217]\n",
      " [-0.59916225  2.21131285]\n",
      " [ 0.15608428 -0.57403974]\n",
      " [-0.8823797  -0.0598208 ]\n",
      " [-1.92084369 -1.05969097]\n",
      " [ 0.62811337  0.69722375]\n",
      " [ 0.72251919 -0.5883236 ]\n",
      " [ 1.57217154 -0.01696923]\n",
      " [-0.22153898 -0.53118817]\n",
      " [-1.35440879  0.19728867]\n",
      " [-0.12713317 -0.30264641]\n",
      " [ 0.15608428  1.81136479]\n",
      " [-0.50475643  0.01159849]\n",
      " [-1.26000297 -1.04540711]\n",
      " [ 0.06167847 -0.70259448]\n",
      " [ 0.06167847 -0.41691729]\n",
      " [ 0.816925    1.93991952]\n",
      " [-1.4488146  -0.38834957]\n",
      " [-1.16559715 -0.38834957]\n",
      " [-0.22153898  0.06873393]\n",
      " [ 1.47776572  0.3258434 ]\n",
      " [ 1.85538899 -0.88828465]\n",
      " [ 0.816925    0.69722375]\n",
      " [ 1.19454827 -0.03125308]\n",
      " [-1.73203205  0.01159849]\n",
      " [-0.03272735 -0.37406571]\n",
      " [-0.3159448   1.55425532]\n",
      " [ 1.28895409  0.88291392]\n",
      " [-0.12713317 -0.35978185]\n",
      " [-0.12713317 -0.30264641]\n",
      " [-0.50475643 -0.37406571]\n",
      " [ 2.04420062  0.49724972]\n",
      " [ 0.53370755 -1.45963903]\n",
      " [-0.22153898  0.61152059]\n",
      " [ 0.62811337 -0.68831062]\n",
      " [ 0.2504901   0.12586937]\n",
      " [ 0.06167847  1.01146866]\n",
      " [ 1.76098317  0.84006234]\n",
      " [-0.12713317  0.05445007]\n",
      " [ 0.53370755  1.18287497]\n",
      " [ 1.19454827 -0.95970395]\n",
      " [ 1.00573664  0.55438515]\n",
      " [-2.10965532 -0.83114921]\n",
      " [-1.54322042 -1.47392289]\n",
      " [ 0.15608428  1.01146866]\n",
      " [ 0.34489592 -0.30264641]\n",
      " [-0.69356807  1.29714585]\n",
      " [-0.50475643 -1.45963903]\n",
      " [-0.50475643 -1.3310843 ]\n",
      " [ 0.62811337 -0.63117518]\n",
      " [-0.03272735  0.26870796]\n",
      " [-0.3159448   0.09730165]\n",
      " [ 0.62811337 -1.51677447]\n",
      " [-0.22153898 -1.10254254]\n",
      " [-1.26000297 -1.61676148]\n",
      " [-1.35440879 -1.60247763]\n",
      " [ 0.43930173 -0.50262045]\n",
      " [-2.01524951 -0.10267238]\n",
      " [-1.92084369 -1.3310843 ]\n",
      " [-1.82643787  0.29727568]\n",
      " [ 1.3833599   0.55438515]\n",
      " [-1.92084369 -1.44535517]\n",
      " [-2.01524951 -0.08838852]\n",
      " [-0.03272735  1.43998444]\n",
      " [-0.41035062 -0.28836255]\n",
      " [-1.26000297  0.35441112]\n",
      " [-0.3159448  -1.10254254]\n",
      " [-0.03272735 -0.01696923]\n",
      " [ 0.15608428 -0.54547203]\n",
      " [ 0.91133082  1.04003638]\n",
      " [-0.12713317  1.55425532]\n",
      " [ 0.91133082 -0.83114921]\n",
      " [ 1.66657735  0.06873393]\n",
      " [ 1.47776572  2.06847426]\n",
      " [-0.8823797   0.24014025]\n",
      " [ 0.2504901   0.04016621]\n",
      " [-1.16559715  0.34012726]\n",
      " [-1.26000297  0.48296586]\n",
      " [ 1.85538899  1.66852619]\n",
      " [-1.16559715  0.69722375]\n",
      " [-1.26000297 -0.81686535]\n",
      " [-1.26000297  1.82564865]\n",
      " [-0.97678552  0.3258434 ]\n",
      " [ 0.62811337  0.29727568]\n",
      " [-1.63762624 -1.27394886]\n",
      " [ 0.91133082  0.42583042]\n",
      " [-0.3159448  -0.45976887]\n",
      " [ 1.47776572 -0.93113623]\n",
      " [ 1.66657735 -1.00255553]\n",
      " [ 0.15608428  0.24014025]\n",
      " [ 2.13860644 -1.04540711]\n",
      " [-0.22153898 -0.34549799]\n",
      " [-1.63762624 -1.28823272]\n",
      " [ 0.816925   -0.84543307]\n",
      " [ 0.34489592  1.15430725]\n",
      " [-0.22153898  0.19728867]\n",
      " [ 0.43930173 -1.34536816]\n",
      " [ 1.10014245  2.12560969]\n",
      " [-0.22153898  0.09730165]\n",
      " [-1.54322042 -1.17396184]\n",
      " [-1.4488146  -0.47405273]\n",
      " [ 1.10014245  0.48296586]\n",
      " [-1.07119134 -0.85971693]\n",
      " [-0.3159448  -1.14539412]\n",
      " [-0.97678552 -1.24538114]\n",
      " [-0.50475643  0.9971848 ]\n",
      " [ 0.72251919 -1.14539412]\n",
      " [-1.35440879  0.44011428]\n",
      " [ 0.2504901   2.21131285]\n",
      " [-0.41035062 -0.33121413]\n",
      " [-0.03272735  1.89706794]\n",
      " [-0.03272735 -0.84543307]\n",
      " [ 0.816925   -1.10254254]\n",
      " [ 1.00573664  0.468682  ]\n",
      " [-0.41035062 -0.18837554]\n",
      " [ 0.72251919  1.85421636]\n",
      " [ 1.10014245 -1.21681342]\n",
      " [-0.03272735  0.04016621]\n",
      " [ 0.43930173 -0.01696923]\n",
      " [ 1.47776572  1.5256876 ]\n",
      " [-1.26000297  0.41154656]\n",
      " [ 0.15608428  0.88291392]\n",
      " [-0.12713317 -0.0598208 ]\n",
      " [ 0.43930173  0.95433322]\n",
      " [-1.73203205  0.468682  ]\n",
      " [ 0.06167847  0.16872095]\n",
      " [ 0.34489592  0.01159849]\n",
      " [-1.73203205 -0.28836255]\n",
      " [ 1.85538899 -1.1168264 ]\n",
      " [-1.26000297  0.31155954]\n",
      " [-1.07119134 -1.28823272]\n",
      " [ 0.53370755  1.25429427]\n",
      " [ 0.53370755 -1.43107131]\n",
      " [ 1.66657735  2.02562268]\n",
      " [-0.50475643  0.42583042]\n",
      " [ 1.76098317  1.62567461]\n",
      " [-1.26000297 -0.54547203]\n",
      " [ 0.2504901   1.11145567]\n",
      " [ 0.62811337 -1.13111026]\n",
      " [ 1.3833599   1.04003638]\n",
      " [-0.50475643 -0.51690431]\n",
      " [-0.12713317  1.58282303]\n",
      " [-1.63762624 -0.24551098]\n",
      " [-0.03272735  0.21157253]\n",
      " [-0.12713317 -0.30264641]\n",
      " [-1.35440879  0.31155954]\n",
      " [-0.03272735 -0.45976887]\n",
      " [-0.69356807 -1.53105833]\n",
      " [-0.78797389 -0.38834957]\n",
      " [-0.3159448  -0.55975588]\n",
      " [ 0.43930173  0.24014025]\n",
      " [ 0.72251919  1.93991952]\n",
      " [ 1.76098317 -1.259665  ]\n",
      " [-0.03272735 -0.01696923]\n",
      " [-0.50475643 -0.45976887]\n",
      " [-1.07119134  0.28299182]\n",
      " [-0.41035062  1.48283602]\n",
      " [-0.12713317  1.18287497]\n",
      " [ 1.57217154  1.39713286]\n",
      " [ 0.816925   -1.1882457 ]\n",
      " [-1.54322042 -0.15980782]\n",
      " [-0.97678552  0.45439814]\n",
      " [-0.3159448   0.16872095]\n",
      " [-1.82643787 -1.01683939]\n",
      " [ 1.28895409  0.9257655 ]\n",
      " [-0.03272735  0.64008831]\n",
      " [-1.82643787 -1.63104534]\n",
      " [-1.54322042  0.29727568]\n",
      " [-1.82643787 -0.03125308]\n",
      " [-0.03272735 -0.23122712]\n",
      " [ 0.2504901  -0.53118817]\n",
      " [ 0.34489592  0.04016621]\n",
      " [-1.35440879  0.52581743]\n",
      " [ 0.53370755  0.16872095]\n",
      " [ 0.91133082 -1.05969097]\n",
      " [-1.26000297 -0.43120115]\n",
      " [-1.92084369  0.2544241 ]\n",
      " [ 2.13860644 -0.81686535]\n",
      " [ 0.91133082  0.41154656]\n",
      " [ 0.816925    0.42583042]\n",
      " [ 0.91133082 -0.55975588]\n",
      " [ 0.91133082 -0.78829764]\n",
      " [-2.01524951 -1.54534219]\n",
      " [-0.59916225  1.19715883]\n",
      " [-0.22153898 -0.38834957]\n",
      " [ 1.76098317 -1.38821973]\n",
      " [-1.16559715 -1.03112325]\n",
      " [ 1.76098317  0.28299182]\n",
      " [ 0.91133082 -0.5883236 ]\n",
      " [-0.97678552 -0.70259448]\n",
      " [-2.01524951 -1.34536816]\n",
      " [ 0.06167847 -0.5883236 ]\n",
      " [ 0.816925    0.02588235]\n",
      " [ 0.34489592  1.63995847]\n",
      " [-0.50475643  0.51153358]]\n"
     ]
    }
   ],
   "source": [
    "print(X_test)"
   ]
  },
  {
   "cell_type": "markdown",
   "metadata": {
    "colab_type": "text",
    "id": "bb6jCOCQiAmP"
   },
   "source": [
    "## Training the Decision Tree Classification model on the Training set"
   ]
  },
  {
   "cell_type": "code",
   "execution_count": 84,
   "metadata": {
    "colab": {
     "base_uri": "https://localhost:8080/",
     "height": 120
    },
    "colab_type": "code",
    "executionInfo": {
     "elapsed": 2037,
     "status": "ok",
     "timestamp": 1588269312370,
     "user": {
      "displayName": "Hadelin de Ponteves",
      "photoUrl": "https://lh3.googleusercontent.com/a-/AOh14GhEuXdT7eQweUmRPW8_laJuPggSK6hfvpl5a6WBaA=s64",
      "userId": "15047218817161520419"
     },
     "user_tz": -240
    },
    "id": "e0pFVAmciHQs",
    "outputId": "1a9b0904-ea86-40d9-bca2-a28fdf00d56d"
   },
   "outputs": [
    {
     "data": {
      "text/plain": [
       "DecisionTreeClassifier(criterion='entropy', random_state=0)"
      ]
     },
     "execution_count": 84,
     "metadata": {},
     "output_type": "execute_result"
    }
   ],
   "source": [
    "from sklearn.tree import DecisionTreeClassifier\n",
    "classifier = DecisionTreeClassifier(criterion = 'entropy', random_state = 0)\n",
    "classifier.fit(X_train, y_train)"
   ]
  },
  {
   "cell_type": "markdown",
   "metadata": {
    "colab_type": "text",
    "id": "yyxW5b395mR2"
   },
   "source": [
    "## Predicting a new result"
   ]
  },
  {
   "cell_type": "code",
   "execution_count": 85,
   "metadata": {
    "colab": {
     "base_uri": "https://localhost:8080/",
     "height": 34
    },
    "colab_type": "code",
    "executionInfo": {
     "elapsed": 2034,
     "status": "ok",
     "timestamp": 1588269312371,
     "user": {
      "displayName": "Hadelin de Ponteves",
      "photoUrl": "https://lh3.googleusercontent.com/a-/AOh14GhEuXdT7eQweUmRPW8_laJuPggSK6hfvpl5a6WBaA=s64",
      "userId": "15047218817161520419"
     },
     "user_tz": -240
    },
    "id": "f8YOXsQy58rP",
    "outputId": "cd4b80f5-59ad-40b1-d5f3-8fc98b87bd66"
   },
   "outputs": [
    {
     "name": "stdout",
     "output_type": "stream",
     "text": [
      "[0]\n"
     ]
    }
   ],
   "source": [
    "print(classifier.predict(sc.transform([[30,87000]])))"
   ]
  },
  {
   "cell_type": "markdown",
   "metadata": {
    "colab_type": "text",
    "id": "vKYVQH-l5NpE"
   },
   "source": [
    "## Predicting the Test set results"
   ]
  },
  {
   "cell_type": "code",
   "execution_count": 86,
   "metadata": {
    "colab": {
     "base_uri": "https://localhost:8080/",
     "height": 1000
    },
    "colab_type": "code",
    "executionInfo": {
     "elapsed": 2029,
     "status": "ok",
     "timestamp": 1588269312371,
     "user": {
      "displayName": "Hadelin de Ponteves",
      "photoUrl": "https://lh3.googleusercontent.com/a-/AOh14GhEuXdT7eQweUmRPW8_laJuPggSK6hfvpl5a6WBaA=s64",
      "userId": "15047218817161520419"
     },
     "user_tz": -240
    },
    "id": "p6VMTb2O4hwM",
    "outputId": "05404102-6c3b-4c34-a180-e2a1d5a85e57"
   },
   "outputs": [
    {
     "name": "stdout",
     "output_type": "stream",
     "text": [
      "[[1 0]\n",
      " [0 0]\n",
      " [1 1]\n",
      " [0 0]\n",
      " [0 0]\n",
      " [0 0]\n",
      " [1 1]\n",
      " [1 0]\n",
      " [1 1]\n",
      " [0 0]\n",
      " [0 1]\n",
      " [0 0]\n",
      " [0 0]\n",
      " [0 0]\n",
      " [1 1]\n",
      " [1 1]\n",
      " [0 0]\n",
      " [0 0]\n",
      " [1 1]\n",
      " [0 0]\n",
      " [0 0]\n",
      " [0 0]\n",
      " [0 0]\n",
      " [0 1]\n",
      " [1 1]\n",
      " [0 1]\n",
      " [0 0]\n",
      " [0 0]\n",
      " [1 1]\n",
      " [0 0]\n",
      " [1 1]\n",
      " [0 0]\n",
      " [0 0]\n",
      " [0 0]\n",
      " [0 0]\n",
      " [0 0]\n",
      " [0 0]\n",
      " [0 0]\n",
      " [0 0]\n",
      " [1 1]\n",
      " [0 0]\n",
      " [1 0]\n",
      " [1 1]\n",
      " [0 0]\n",
      " [1 1]\n",
      " [0 1]\n",
      " [0 0]\n",
      " [0 0]\n",
      " [0 0]\n",
      " [0 0]\n",
      " [1 1]\n",
      " [0 0]\n",
      " [0 0]\n",
      " [0 0]\n",
      " [0 0]\n",
      " [0 1]\n",
      " [1 1]\n",
      " [0 0]\n",
      " [0 0]\n",
      " [0 0]\n",
      " [0 0]\n",
      " [1 1]\n",
      " [1 1]\n",
      " [0 0]\n",
      " [0 0]\n",
      " [0 0]\n",
      " [1 1]\n",
      " [0 0]\n",
      " [0 0]\n",
      " [0 0]\n",
      " [0 0]\n",
      " [1 1]\n",
      " [0 0]\n",
      " [0 0]\n",
      " [0 0]\n",
      " [0 1]\n",
      " [1 1]\n",
      " [0 1]\n",
      " [1 1]\n",
      " [0 0]\n",
      " [0 0]\n",
      " [1 1]\n",
      " [1 1]\n",
      " [0 0]\n",
      " [0 0]\n",
      " [0 0]\n",
      " [1 1]\n",
      " [1 0]\n",
      " [1 1]\n",
      " [0 1]\n",
      " [0 0]\n",
      " [1 1]\n",
      " [1 1]\n",
      " [0 1]\n",
      " [1 1]\n",
      " [1 1]\n",
      " [1 1]\n",
      " [0 0]\n",
      " [0 0]\n",
      " [1 1]\n",
      " [0 0]\n",
      " [0 1]\n",
      " [0 0]\n",
      " [0 0]\n",
      " [1 1]\n",
      " [0 0]\n",
      " [0 0]\n",
      " [1 1]\n",
      " [0 0]\n",
      " [0 0]\n",
      " [0 0]\n",
      " [0 0]\n",
      " [0 0]\n",
      " [0 0]\n",
      " [0 0]\n",
      " [1 1]\n",
      " [0 0]\n",
      " [0 0]\n",
      " [1 1]\n",
      " [0 0]\n",
      " [0 0]\n",
      " [0 0]\n",
      " [0 0]\n",
      " [0 0]\n",
      " [1 1]\n",
      " [1 1]\n",
      " [1 0]\n",
      " [1 1]\n",
      " [1 1]\n",
      " [0 0]\n",
      " [1 0]\n",
      " [0 0]\n",
      " [0 0]\n",
      " [1 1]\n",
      " [0 1]\n",
      " [0 0]\n",
      " [1 1]\n",
      " [0 0]\n",
      " [0 0]\n",
      " [0 0]\n",
      " [1 1]\n",
      " [0 0]\n",
      " [1 1]\n",
      " [1 1]\n",
      " [0 0]\n",
      " [1 1]\n",
      " [0 0]\n",
      " [0 0]\n",
      " [1 1]\n",
      " [1 1]\n",
      " [0 0]\n",
      " [1 1]\n",
      " [1 1]\n",
      " [0 0]\n",
      " [0 0]\n",
      " [0 0]\n",
      " [1 1]\n",
      " [0 0]\n",
      " [0 0]\n",
      " [0 0]\n",
      " [1 0]\n",
      " [1 1]\n",
      " [0 0]\n",
      " [1 1]\n",
      " [0 0]\n",
      " [1 1]\n",
      " [0 0]\n",
      " [1 1]\n",
      " [1 1]\n",
      " [0 0]\n",
      " [1 1]\n",
      " [1 1]\n",
      " [0 0]\n",
      " [1 0]\n",
      " [1 1]\n",
      " [0 0]\n",
      " [1 1]\n",
      " [0 0]\n",
      " [1 1]\n",
      " [0 0]\n",
      " [0 0]\n",
      " [0 0]\n",
      " [0 0]\n",
      " [1 1]\n",
      " [0 0]\n",
      " [0 0]\n",
      " [1 1]\n",
      " [1 1]\n",
      " [1 1]\n",
      " [0 0]\n",
      " [1 1]\n",
      " [0 0]\n",
      " [1 1]\n",
      " [1 1]\n",
      " [1 1]\n",
      " [0 0]\n",
      " [1 1]\n",
      " [0 0]\n",
      " [1 0]\n",
      " [0 0]\n",
      " [0 0]\n",
      " [0 0]\n",
      " [0 0]\n",
      " [0 0]\n",
      " [0 0]\n",
      " [0 0]\n",
      " [1 0]\n",
      " [1 1]\n",
      " [0 1]\n",
      " [0 0]\n",
      " [0 0]\n",
      " [1 1]\n",
      " [0 1]\n",
      " [1 1]\n",
      " [1 1]\n",
      " [0 0]\n",
      " [0 0]\n",
      " [0 1]\n",
      " [0 0]\n",
      " [1 1]\n",
      " [1 1]\n",
      " [0 0]\n",
      " [0 0]\n",
      " [0 0]\n",
      " [0 0]\n",
      " [0 0]\n",
      " [0 0]\n",
      " [1 0]\n",
      " [0 1]\n",
      " [1 1]\n",
      " [0 0]\n",
      " [0 0]\n",
      " [1 1]\n",
      " [1 1]\n",
      " [1 1]\n",
      " [1 1]\n",
      " [1 0]\n",
      " [0 0]\n",
      " [0 0]\n",
      " [0 0]\n",
      " [1 1]\n",
      " [0 0]\n",
      " [1 0]\n",
      " [1 1]\n",
      " [0 0]\n",
      " [0 0]\n",
      " [0 0]\n",
      " [1 0]\n",
      " [1 1]\n",
      " [0 1]]\n"
     ]
    }
   ],
   "source": [
    "y_pred = classifier.predict(X_test)\n",
    "print(np.concatenate((y_pred.reshape(len(y_pred),1), y_test.reshape(len(y_test),1)),1))"
   ]
  },
  {
   "cell_type": "markdown",
   "metadata": {
    "colab_type": "text",
    "id": "h4Hwj34ziWQW"
   },
   "source": [
    "## Making the Confusion Matrix"
   ]
  },
  {
   "cell_type": "code",
   "execution_count": 87,
   "metadata": {
    "colab": {
     "base_uri": "https://localhost:8080/",
     "height": 68
    },
    "colab_type": "code",
    "executionInfo": {
     "elapsed": 2026,
     "status": "ok",
     "timestamp": 1588269312371,
     "user": {
      "displayName": "Hadelin de Ponteves",
      "photoUrl": "https://lh3.googleusercontent.com/a-/AOh14GhEuXdT7eQweUmRPW8_laJuPggSK6hfvpl5a6WBaA=s64",
      "userId": "15047218817161520419"
     },
     "user_tz": -240
    },
    "id": "D6bpZwUiiXic",
    "outputId": "031d8132-ae7a-4a4c-b2dd-26b88da40ed6"
   },
   "outputs": [
    {
     "name": "stdout",
     "output_type": "stream",
     "text": [
      "[[138  14]\n",
      " [ 16  82]]\n"
     ]
    },
    {
     "data": {
      "text/plain": [
       "0.88"
      ]
     },
     "execution_count": 87,
     "metadata": {},
     "output_type": "execute_result"
    }
   ],
   "source": [
    "from sklearn.metrics import confusion_matrix, accuracy_score\n",
    "cm = confusion_matrix(y_test, y_pred)\n",
    "print(cm)\n",
    "accuracy_score(y_test, y_pred)"
   ]
  },
  {
   "cell_type": "markdown",
   "metadata": {
    "colab_type": "text",
    "id": "6OMC_P0diaoD"
   },
   "source": [
    "## Visualising the Training set results"
   ]
  },
  {
   "cell_type": "code",
   "execution_count": 88,
   "metadata": {
    "colab": {
     "base_uri": "https://localhost:8080/",
     "height": 349
    },
    "colab_type": "code",
    "executionInfo": {
     "elapsed": 30339,
     "status": "ok",
     "timestamp": 1588269340691,
     "user": {
      "displayName": "Hadelin de Ponteves",
      "photoUrl": "https://lh3.googleusercontent.com/a-/AOh14GhEuXdT7eQweUmRPW8_laJuPggSK6hfvpl5a6WBaA=s64",
      "userId": "15047218817161520419"
     },
     "user_tz": -240
    },
    "id": "_NOjKvZRid5l",
    "outputId": "cd4f51f4-8260-40bf-aa20-e238d60ccc1e"
   },
   "outputs": [
    {
     "name": "stderr",
     "output_type": "stream",
     "text": [
      "*c* argument looks like a single numeric RGB or RGBA sequence, which should be avoided as value-mapping will have precedence in case its length matches with *x* & *y*.  Please use the *color* keyword-argument or provide a 2D array with a single row if you intend to specify the same RGB or RGBA value for all points.\n",
      "*c* argument looks like a single numeric RGB or RGBA sequence, which should be avoided as value-mapping will have precedence in case its length matches with *x* & *y*.  Please use the *color* keyword-argument or provide a 2D array with a single row if you intend to specify the same RGB or RGBA value for all points.\n"
     ]
    },
    {
     "data": {
      "image/png": "[encoded data removed]",
      "text/plain": [
       "<Figure size 432x288 with 1 Axes>"
      ]
     },
     "metadata": {
      "needs_background": "light"
     },
     "output_type": "display_data"
    }
   ],
   "source": [
    "from matplotlib.colors import ListedColormap\n",
    "X_set, y_set = sc.inverse_transform(X_train), y_train\n",
    "X1, X2 = np.meshgrid(np.arange(start = X_set[:, 0].min() - 10, stop = X_set[:, 0].max() + 10, step = 0.25),\n",
    "                     np.arange(start = X_set[:, 1].min() - 1000, stop = X_set[:, 1].max() + 1000, step = 0.25))\n",
    "plt.contourf(X1, X2, classifier.predict(sc.transform(np.array([X1.ravel(), X2.ravel()]).T)).reshape(X1.shape),\n",
    "             alpha = 0.75, cmap = ListedColormap(('red', 'green')))\n",
    "plt.xlim(X1.min(), X1.max())\n",
    "plt.ylim(X2.min(), X2.max())\n",
    "for i, j in enumerate(np.unique(y_set)):\n",
    "    plt.scatter(X_set[y_set == j, 0], X_set[y_set == j, 1], c = ListedColormap(('red', 'green'))(i), label = j)\n",
    "plt.title('Decision Tree Classification (Training set)')\n",
    "plt.xlabel('Age')\n",
    "plt.ylabel('Estimated Salary')\n",
    "plt.legend()\n",
    "plt.show()"
   ]
  },
  {
   "cell_type": "markdown",
   "metadata": {
    "colab_type": "text",
    "id": "SZ-j28aPihZx"
   },
   "source": [
    "## Visualising the Test set results"
   ]
  },
  {
   "cell_type": "code",
   "execution_count": 89,
   "metadata": {
    "colab": {
     "base_uri": "https://localhost:8080/",
     "height": 349
    },
    "colab_type": "code",
    "executionInfo": {
     "elapsed": 55016,
     "status": "ok",
     "timestamp": 1588269365372,
     "user": {
      "displayName": "Hadelin de Ponteves",
      "photoUrl": "https://lh3.googleusercontent.com/a-/AOh14GhEuXdT7eQweUmRPW8_laJuPggSK6hfvpl5a6WBaA=s64",
      "userId": "15047218817161520419"
     },
     "user_tz": -240
    },
    "id": "qeTjz2vDilAC",
    "outputId": "c9624a3f-544e-4033-8cb8-bb4b7b08ff4a"
   },
   "outputs": [
    {
     "name": "stderr",
     "output_type": "stream",
     "text": [
      "*c* argument looks like a single numeric RGB or RGBA sequence, which should be avoided as value-mapping will have precedence in case its length matches with *x* & *y*.  Please use the *color* keyword-argument or provide a 2D array with a single row if you intend to specify the same RGB or RGBA value for all points.\n",
      "*c* argument looks like a single numeric RGB or RGBA sequence, which should be avoided as value-mapping will have precedence in case its length matches with *x* & *y*.  Please use the *color* keyword-argument or provide a 2D array with a single row if you intend to specify the same RGB or RGBA value for all points.\n"
     ]
    },
    {
     "data": {
      "image/png": "[encoded data removed]",
      "text/plain": [
       "<Figure size 432x288 with 1 Axes>"
      ]
     },
     "metadata": {
      "needs_background": "light"
     },
     "output_type": "display_data"
    }
   ],
   "source": [
    "from matplotlib.colors import ListedColormap\n",
    "X_set, y_set = sc.inverse_transform(X_test), y_test\n",
    "X1, X2 = np.meshgrid(np.arange(start = X_set[:, 0].min() - 10, stop = X_set[:, 0].max() + 10, step = 0.25),\n",
    "                     np.arange(start = X_set[:, 1].min() - 1000, stop = X_set[:, 1].max() + 1000, step = 0.25))\n",
    "plt.contourf(X1, X2, classifier.predict(sc.transform(np.array([X1.ravel(), X2.ravel()]).T)).reshape(X1.shape),\n",
    "             alpha = 0.75, cmap = ListedColormap(('red', 'green')))\n",
    "plt.xlim(X1.min(), X1.max())\n",
    "plt.ylim(X2.min(), X2.max())\n",
    "for i, j in enumerate(np.unique(y_set)):\n",
    "    plt.scatter(X_set[y_set == j, 0], X_set[y_set == j, 1], c = ListedColormap(('red', 'green'))(i), label = j)\n",
    "plt.title('Decision Tree Classification (Test set)')\n",
    "plt.xlabel('Age')\n",
    "plt.ylabel('Estimated Salary')\n",
    "plt.legend()\n",
    "plt.show()"
   ]
  },
  {
   "cell_type": "code",
   "execution_count": null,
   "metadata": {},
   "outputs": [],
   "source": []
  }
 ],
 "metadata": {
  "colab": {
   "authorship_tag": "ABX9TyP02NrvZmmq4qjp5mwU3Mr2",
   "collapsed_sections": [],
   "machine_shape": "hm",
   "name": "decision_tree_classification.ipynb",
   "provenance": [],
   "toc_visible": true
  },
  "kernelspec": {
   "display_name": "Python 3 (ipykernel)",
   "language": "python",
   "name": "python3"
  },
  "language_info": {
   "codemirror_mode": {
    "name": "ipython",
    "version": 3
   },
   "file_extension": ".py",
   "mimetype": "text/x-python",
   "name": "python",
   "nbconvert_exporter": "python",
   "pygments_lexer": "ipython3",
   "version": "3.9.12"
  }
 },
 "nbformat": 4,
 "nbformat_minor": 1
}
