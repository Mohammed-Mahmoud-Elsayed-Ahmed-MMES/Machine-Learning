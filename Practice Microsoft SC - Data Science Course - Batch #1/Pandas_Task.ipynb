{
 "cells": [
  {
   "cell_type": "markdown",
   "metadata": {
    "id": "dXkNLPK9VL5P"
   },
   "source": [
    "# Pandas Task"
   ]
  },
  {
   "cell_type": "markdown",
   "metadata": {
    "id": "s1TcXUWML9aS"
   },
   "source": [
    "1) Load the dataset into a pandas DataFrame and display the first 5 rows.\n"
   ]
  },
  {
   "cell_type": "code",
   "execution_count": 3,
   "metadata": {
    "id": "7vjQt957Li9D"
   },
   "outputs": [],
   "source": [
    "# Load the dataset\n",
    "\n",
    "import pandas as pd\n",
    "\n",
    "dataset = pd.read_csv('StudentsPerformance.csv')"
   ]
  },
  {
   "cell_type": "code",
   "execution_count": 4,
   "metadata": {
    "id": "MI7XjYhzMggA"
   },
   "outputs": [
    {
     "data": {
      "text/html": [
       "<div>\n",
       "<style scoped>\n",
       "    .dataframe tbody tr th:only-of-type {\n",
       "        vertical-align: middle;\n",
       "    }\n",
       "\n",
       "    .dataframe tbody tr th {\n",
       "        vertical-align: top;\n",
       "    }\n",
       "\n",
       "    .dataframe thead th {\n",
       "        text-align: right;\n",
       "    }\n",
       "</style>\n",
       "<table border=\"1\" class=\"dataframe\">\n",
       "  <thead>\n",
       "    <tr style=\"text-align: right;\">\n",
       "      <th></th>\n",
       "      <th>gender</th>\n",
       "      <th>race/ethnicity</th>\n",
       "      <th>parental level of education</th>\n",
       "      <th>lunch</th>\n",
       "      <th>test preparation course</th>\n",
       "      <th>math score</th>\n",
       "      <th>reading score</th>\n",
       "      <th>writing score</th>\n",
       "    </tr>\n",
       "  </thead>\n",
       "  <tbody>\n",
       "    <tr>\n",
       "      <th>0</th>\n",
       "      <td>female</td>\n",
       "      <td>group B</td>\n",
       "      <td>bachelor's degree</td>\n",
       "      <td>standard</td>\n",
       "      <td>none</td>\n",
       "      <td>72</td>\n",
       "      <td>72</td>\n",
       "      <td>74</td>\n",
       "    </tr>\n",
       "    <tr>\n",
       "      <th>1</th>\n",
       "      <td>female</td>\n",
       "      <td>group C</td>\n",
       "      <td>some college</td>\n",
       "      <td>standard</td>\n",
       "      <td>completed</td>\n",
       "      <td>69</td>\n",
       "      <td>90</td>\n",
       "      <td>88</td>\n",
       "    </tr>\n",
       "    <tr>\n",
       "      <th>2</th>\n",
       "      <td>female</td>\n",
       "      <td>group B</td>\n",
       "      <td>master's degree</td>\n",
       "      <td>standard</td>\n",
       "      <td>none</td>\n",
       "      <td>90</td>\n",
       "      <td>95</td>\n",
       "      <td>93</td>\n",
       "    </tr>\n",
       "    <tr>\n",
       "      <th>3</th>\n",
       "      <td>male</td>\n",
       "      <td>group A</td>\n",
       "      <td>associate's degree</td>\n",
       "      <td>free/reduced</td>\n",
       "      <td>none</td>\n",
       "      <td>47</td>\n",
       "      <td>57</td>\n",
       "      <td>44</td>\n",
       "    </tr>\n",
       "    <tr>\n",
       "      <th>4</th>\n",
       "      <td>male</td>\n",
       "      <td>group C</td>\n",
       "      <td>some college</td>\n",
       "      <td>standard</td>\n",
       "      <td>none</td>\n",
       "      <td>76</td>\n",
       "      <td>78</td>\n",
       "      <td>75</td>\n",
       "    </tr>\n",
       "  </tbody>\n",
       "</table>\n",
       "</div>"
      ],
      "text/plain": [
       "   gender race/ethnicity parental level of education         lunch  \\\n",
       "0  female        group B           bachelor's degree      standard   \n",
       "1  female        group C                some college      standard   \n",
       "2  female        group B             master's degree      standard   \n",
       "3    male        group A          associate's degree  free/reduced   \n",
       "4    male        group C                some college      standard   \n",
       "\n",
       "  test preparation course  math score  reading score  writing score  \n",
       "0                    none          72             72             74  \n",
       "1               completed          69             90             88  \n",
       "2                    none          90             95             93  \n",
       "3                    none          47             57             44  \n",
       "4                    none          76             78             75  "
      ]
     },
     "execution_count": 4,
     "metadata": {},
     "output_type": "execute_result"
    }
   ],
   "source": [
    "# Display the first 5 rows\n",
    "dataset.head(5)"
   ]
  },
  {
   "cell_type": "markdown",
   "metadata": {
    "id": "zDqNjbY4L9hw"
   },
   "source": [
    "2) How many students are there in the dataset?\n"
   ]
  },
  {
   "cell_type": "code",
   "execution_count": 5,
   "metadata": {
    "id": "GxXTAyLKMXsx"
   },
   "outputs": [
    {
     "name": "stdout",
     "output_type": "stream",
     "text": [
      "Number of rows in the dataset: 1000\n"
     ]
    }
   ],
   "source": [
    "# Count the number of rows\n",
    "\n",
    "num_rows = len(dataset)\n",
    "\n",
    "print(\"Number of rows in the dataset:\", num_rows)"
   ]
  },
  {
   "cell_type": "markdown",
   "metadata": {
    "id": "FO0vvtceL9kz"
   },
   "source": [
    "3) What are the unique values in the 'gender' column?\n"
   ]
  },
  {
   "cell_type": "code",
   "execution_count": 6,
   "metadata": {
    "id": "edcmzZs8MYIo"
   },
   "outputs": [
    {
     "name": "stdout",
     "output_type": "stream",
     "text": [
      "['female' 'male']\n"
     ]
    }
   ],
   "source": [
    "# Get unique values in the 'gender' column\n",
    "unique_genders = dataset['gender'].unique()\n",
    "\n",
    "# Print the unique values\n",
    "print(unique_genders)"
   ]
  },
  {
   "cell_type": "markdown",
   "metadata": {
    "id": "d3g5_hFFL9nV"
   },
   "source": [
    "4) What is the average score in math among female students?\n"
   ]
  },
  {
   "cell_type": "code",
   "execution_count": 8,
   "metadata": {
    "id": "zLCuRDzkMYlr"
   },
   "outputs": [
    {
     "name": "stdout",
     "output_type": "stream",
     "text": [
      "63.633204633204635\n"
     ]
    }
   ],
   "source": [
    "# Calculate the average math score among female students\n",
    "\n",
    "# Filter for female students\n",
    "female_students = dataset[dataset['gender'] == 'female']\n",
    "\n",
    "# Calculate the average math score\n",
    "average_math_score = female_students['reading score'].mean()\n",
    "\n",
    "# Print the average math score\n",
    "print(average_math_score)"
   ]
  },
  {
   "cell_type": "markdown",
   "metadata": {
    "id": "PH-xICEOL9qX"
   },
   "source": [
    "5) What is the maximum score in reading among male students?\n"
   ]
  },
  {
   "cell_type": "code",
   "execution_count": 10,
   "metadata": {
    "id": "A62nOsC_MZJT"
   },
   "outputs": [
    {
     "name": "stdout",
     "output_type": "stream",
     "text": [
      "100\n"
     ]
    }
   ],
   "source": [
    "# Find the maximum reading score among male students\n",
    "\n",
    "male_students = dataset[dataset['gender'] == 'male']\n",
    "\n",
    "# Calculate the average math score\n",
    "max_reading = male_students['reading score'].max()\n",
    "\n",
    "# or dataset[dataset['gender'] == 'male']['reading score'].max()\n",
    "\n",
    "# Print the average math score\n",
    "print(max_reading)"
   ]
  },
  {
   "cell_type": "markdown",
   "metadata": {
    "id": "RiO7jjzzL9tT"
   },
   "source": [
    "6) Create a new column 'total_score' which sums up the scores of math, reading, and writing for each student.\n"
   ]
  },
  {
   "cell_type": "code",
   "execution_count": 11,
   "metadata": {
    "id": "qXJRbXNPMZos"
   },
   "outputs": [
    {
     "name": "stdout",
     "output_type": "stream",
     "text": [
      "     gender race/ethnicity parental level of education         lunch  \\\n",
      "0    female        group B           bachelor's degree      standard   \n",
      "1    female        group C                some college      standard   \n",
      "2    female        group B             master's degree      standard   \n",
      "3      male        group A          associate's degree  free/reduced   \n",
      "4      male        group C                some college      standard   \n",
      "..      ...            ...                         ...           ...   \n",
      "995  female        group E             master's degree      standard   \n",
      "996    male        group C                 high school  free/reduced   \n",
      "997  female        group C                 high school  free/reduced   \n",
      "998  female        group D                some college      standard   \n",
      "999  female        group D                some college  free/reduced   \n",
      "\n",
      "    test preparation course  math score  reading score  writing score  \\\n",
      "0                      none          72             72             74   \n",
      "1                 completed          69             90             88   \n",
      "2                      none          90             95             93   \n",
      "3                      none          47             57             44   \n",
      "4                      none          76             78             75   \n",
      "..                      ...         ...            ...            ...   \n",
      "995               completed          88             99             95   \n",
      "996                    none          62             55             55   \n",
      "997               completed          59             71             65   \n",
      "998               completed          68             78             77   \n",
      "999                    none          77             86             86   \n",
      "\n",
      "     total_score  \n",
      "0            218  \n",
      "1            247  \n",
      "2            278  \n",
      "3            148  \n",
      "4            229  \n",
      "..           ...  \n",
      "995          282  \n",
      "996          172  \n",
      "997          195  \n",
      "998          223  \n",
      "999          249  \n",
      "\n",
      "[1000 rows x 9 columns]\n"
     ]
    }
   ],
   "source": [
    "# Create a new column 'total_score'\n",
    "\n",
    "dataset['total_score'] = dataset[['math score', 'reading score', 'writing score']].sum(axis=1)\n",
    "# or dataset['total_score'] = dataset['math score'] + dataset['reading score'] + dataset['writing score']\n",
    "\n",
    "print(dataset)"
   ]
  },
  {
   "cell_type": "markdown",
   "metadata": {
    "id": "Umge0ykoMO9h"
   },
   "source": [
    "7) Who scored the highest total marks and what is the score?\n"
   ]
  },
  {
   "cell_type": "code",
   "execution_count": 12,
   "metadata": {
    "id": "6gjpn9m9MaP1"
   },
   "outputs": [
    {
     "data": {
      "text/plain": [
       "300"
      ]
     },
     "execution_count": 12,
     "metadata": {},
     "output_type": "execute_result"
    }
   ],
   "source": [
    "# Find the student with the highest total score\n",
    "\n",
    "dataset['total_score'].max()"
   ]
  },
  {
   "cell_type": "markdown",
   "metadata": {
    "id": "JfkeSqAnMPD1"
   },
   "source": [
    "8) Calculate the mean, median, and standard deviation of scores in writing.\n"
   ]
  },
  {
   "cell_type": "code",
   "execution_count": 14,
   "metadata": {
    "id": "FRQVuQ0GMawA"
   },
   "outputs": [
    {
     "name": "stdout",
     "output_type": "stream",
     "text": [
      "count    1000.000000\n",
      "mean       68.054000\n",
      "std        15.195657\n",
      "min        10.000000\n",
      "25%        57.750000\n",
      "50%        69.000000\n",
      "75%        79.000000\n",
      "max       100.000000\n",
      "Name: writing score, dtype: float64\n"
     ]
    }
   ],
   "source": [
    "# Calculate mean, median, and standard deviation of writing scores\n",
    "\n",
    "# dataset['writing score'].mean()\n",
    "# dataset['writing score'].median()\n",
    "# dataset['writing score'].std()\n",
    "\n",
    "writing_stats = dataset['writing score'].describe()\n",
    "\n",
    "# Print the results\n",
    "print(writing_stats)"
   ]
  },
  {
   "cell_type": "markdown",
   "metadata": {
    "id": "sFedKid3MPAs"
   },
   "source": [
    "9) How many students have scored above 90 in all subjects?\n"
   ]
  },
  {
   "cell_type": "code",
   "execution_count": 21,
   "metadata": {
    "id": "rKfmRW27Mcvp"
   },
   "outputs": [
    {
     "name": "stdout",
     "output_type": "stream",
     "text": [
      "23\n"
     ]
    }
   ],
   "source": [
    "# Count the number of students who scored above 90 in all subjects\n",
    "\n",
    "# Filter for students with scores above 90 in all subjects\n",
    "top_scorers = dataset[(dataset['math score'] > 90) & (dataset['reading score'] > 90) & (dataset['writing score'] > 90)]\n",
    "\n",
    "# Count the number of top scorers\n",
    "number_of_top_scorers = len(top_scorers)\n",
    "\n",
    "# Print the results\n",
    "print(number_of_top_scorers)"
   ]
  },
  {
   "cell_type": "markdown",
   "metadata": {
    "id": "WdL47R6TMPG9"
   },
   "source": [
    "10)Create a new column 'pass_status' which contains 'Pass' if the student's total score is greater than or equal to 150, otherwise 'Fail'.\n"
   ]
  },
  {
   "cell_type": "code",
   "execution_count": 18,
   "metadata": {
    "id": "HhJXOtSbMbm_"
   },
   "outputs": [
    {
     "name": "stdout",
     "output_type": "stream",
     "text": [
      "     gender race/ethnicity parental level of education         lunch  \\\n",
      "0    female        group B           bachelor's degree      standard   \n",
      "1    female        group C                some college      standard   \n",
      "2    female        group B             master's degree      standard   \n",
      "3      male        group A          associate's degree  free/reduced   \n",
      "4      male        group C                some college      standard   \n",
      "..      ...            ...                         ...           ...   \n",
      "995  female        group E             master's degree      standard   \n",
      "996    male        group C                 high school  free/reduced   \n",
      "997  female        group C                 high school  free/reduced   \n",
      "998  female        group D                some college      standard   \n",
      "999  female        group D                some college  free/reduced   \n",
      "\n",
      "    test preparation course  math score  reading score  writing score  \\\n",
      "0                      none          72             72             74   \n",
      "1                 completed          69             90             88   \n",
      "2                      none          90             95             93   \n",
      "3                      none          47             57             44   \n",
      "4                      none          76             78             75   \n",
      "..                      ...         ...            ...            ...   \n",
      "995               completed          88             99             95   \n",
      "996                    none          62             55             55   \n",
      "997               completed          59             71             65   \n",
      "998               completed          68             78             77   \n",
      "999                    none          77             86             86   \n",
      "\n",
      "     total_score pass_status  \n",
      "0            218        Pass  \n",
      "1            247        Pass  \n",
      "2            278        Pass  \n",
      "3            148        Fail  \n",
      "4            229        Pass  \n",
      "..           ...         ...  \n",
      "995          282        Pass  \n",
      "996          172        Pass  \n",
      "997          195        Pass  \n",
      "998          223        Pass  \n",
      "999          249        Pass  \n",
      "\n",
      "[1000 rows x 10 columns]\n"
     ]
    }
   ],
   "source": [
    "# Create a new column 'pass_status'\n",
    "# dataset['pass_status'] = dataset[dataset['total_score'] >= 150].sum(axis=1)\n",
    "# print(dataset)\n",
    "\n",
    "dataset['pass_status'] = dataset['total_score'].apply(lambda x: 'Pass' if x >= 150 else 'Fail')\n",
    "\n",
    "print(dataset)"
   ]
  },
  {
   "cell_type": "markdown",
   "metadata": {
    "id": "lla-nroHUMwE"
   },
   "source": [
    "11) How many null values are there in each column of the dataset?\n"
   ]
  },
  {
   "cell_type": "code",
   "execution_count": 17,
   "metadata": {
    "id": "F-u3Q2LgVBVx"
   },
   "outputs": [
    {
     "data": {
      "text/plain": [
       "gender                           0\n",
       "race/ethnicity                   0\n",
       "parental level of education      0\n",
       "lunch                            0\n",
       "test preparation course          0\n",
       "math score                       0\n",
       "reading score                    0\n",
       "writing score                    0\n",
       "total_score                      0\n",
       "pass_status                    103\n",
       "dtype: int64"
      ]
     },
     "execution_count": 17,
     "metadata": {},
     "output_type": "execute_result"
    }
   ],
   "source": [
    "dataset.isnull().sum()"
   ]
  },
  {
   "cell_type": "markdown",
   "metadata": {
    "id": "jDlEJOSXVEGQ"
   },
   "source": [
    "# Dataset"
   ]
  },
  {
   "cell_type": "markdown",
   "metadata": {
    "id": "0RqgXZ20U-zY"
   },
   "source": [
    "https://www.kaggle.com/datasets/spscientist/students-performance-in-exams"
   ]
  }
 ],
 "metadata": {
  "colab": {
   "provenance": []
  },
  "kernelspec": {
   "display_name": "Python 3 (ipykernel)",
   "language": "python",
   "name": "python3"
  },
  "language_info": {
   "codemirror_mode": {
    "name": "ipython",
    "version": 3
   },
   "file_extension": ".py",
   "mimetype": "text/x-python",
   "name": "python",
   "nbconvert_exporter": "python",
   "pygments_lexer": "ipython3",
   "version": "3.9.12"
  }
 },
 "nbformat": 4,
 "nbformat_minor": 1
}
