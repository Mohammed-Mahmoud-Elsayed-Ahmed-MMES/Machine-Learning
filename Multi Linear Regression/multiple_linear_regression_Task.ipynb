{
 "cells": [
  {
   "cell_type": "markdown",
   "metadata": {
    "colab_type": "text",
    "id": "CazISR8X_HUG"
   },
   "source": [
    "# Multiple Linear Regression"
   ]
  },
  {
   "cell_type": "markdown",
   "metadata": {
    "colab_type": "text",
    "id": "pOyqYHTk_Q57"
   },
   "source": [
    "## Importing the libraries"
   ]
  },
  {
   "cell_type": "code",
   "execution_count": 2,
   "metadata": {
    "colab": {},
    "colab_type": "code",
    "id": "T_YHJjnD_Tja"
   },
   "outputs": [],
   "source": [
    "import numpy as np\n",
    "import matplotlib.pyplot as plt\n",
    "import pandas as pd"
   ]
  },
  {
   "cell_type": "markdown",
   "metadata": {
    "colab_type": "text",
    "id": "vgC61-ah_WIz"
   },
   "source": [
    "## Importing the dataset"
   ]
  },
  {
   "cell_type": "code",
   "execution_count": 3,
   "metadata": {},
   "outputs": [
    {
     "data": {
      "text/html": [
       "<div>\n",
       "<style scoped>\n",
       "    .dataframe tbody tr th:only-of-type {\n",
       "        vertical-align: middle;\n",
       "    }\n",
       "\n",
       "    .dataframe tbody tr th {\n",
       "        vertical-align: top;\n",
       "    }\n",
       "\n",
       "    .dataframe thead th {\n",
       "        text-align: right;\n",
       "    }\n",
       "</style>\n",
       "<table border=\"1\" class=\"dataframe\">\n",
       "  <thead>\n",
       "    <tr style=\"text-align: right;\">\n",
       "      <th></th>\n",
       "      <th>instant</th>\n",
       "      <th>dteday</th>\n",
       "      <th>season</th>\n",
       "      <th>yr</th>\n",
       "      <th>mnth</th>\n",
       "      <th>hr</th>\n",
       "      <th>holiday</th>\n",
       "      <th>weekday</th>\n",
       "      <th>workingday</th>\n",
       "      <th>weathersit</th>\n",
       "      <th>temp</th>\n",
       "      <th>atemp</th>\n",
       "      <th>hum</th>\n",
       "      <th>windspeed</th>\n",
       "      <th>casual</th>\n",
       "      <th>registered</th>\n",
       "      <th>cnt</th>\n",
       "    </tr>\n",
       "  </thead>\n",
       "  <tbody>\n",
       "    <tr>\n",
       "      <th>0</th>\n",
       "      <td>1</td>\n",
       "      <td>2011-01-01</td>\n",
       "      <td>1</td>\n",
       "      <td>0</td>\n",
       "      <td>1</td>\n",
       "      <td>0</td>\n",
       "      <td>0</td>\n",
       "      <td>6</td>\n",
       "      <td>0</td>\n",
       "      <td>1</td>\n",
       "      <td>0.24</td>\n",
       "      <td>0.2879</td>\n",
       "      <td>0.81</td>\n",
       "      <td>0.0</td>\n",
       "      <td>3</td>\n",
       "      <td>13</td>\n",
       "      <td>16</td>\n",
       "    </tr>\n",
       "    <tr>\n",
       "      <th>1</th>\n",
       "      <td>2</td>\n",
       "      <td>2011-01-01</td>\n",
       "      <td>1</td>\n",
       "      <td>0</td>\n",
       "      <td>1</td>\n",
       "      <td>1</td>\n",
       "      <td>0</td>\n",
       "      <td>6</td>\n",
       "      <td>0</td>\n",
       "      <td>1</td>\n",
       "      <td>0.22</td>\n",
       "      <td>0.2727</td>\n",
       "      <td>0.80</td>\n",
       "      <td>0.0</td>\n",
       "      <td>8</td>\n",
       "      <td>32</td>\n",
       "      <td>40</td>\n",
       "    </tr>\n",
       "    <tr>\n",
       "      <th>2</th>\n",
       "      <td>3</td>\n",
       "      <td>2011-01-01</td>\n",
       "      <td>1</td>\n",
       "      <td>0</td>\n",
       "      <td>1</td>\n",
       "      <td>2</td>\n",
       "      <td>0</td>\n",
       "      <td>6</td>\n",
       "      <td>0</td>\n",
       "      <td>1</td>\n",
       "      <td>0.22</td>\n",
       "      <td>0.2727</td>\n",
       "      <td>0.80</td>\n",
       "      <td>0.0</td>\n",
       "      <td>5</td>\n",
       "      <td>27</td>\n",
       "      <td>32</td>\n",
       "    </tr>\n",
       "    <tr>\n",
       "      <th>3</th>\n",
       "      <td>4</td>\n",
       "      <td>2011-01-01</td>\n",
       "      <td>1</td>\n",
       "      <td>0</td>\n",
       "      <td>1</td>\n",
       "      <td>3</td>\n",
       "      <td>0</td>\n",
       "      <td>6</td>\n",
       "      <td>0</td>\n",
       "      <td>1</td>\n",
       "      <td>0.24</td>\n",
       "      <td>0.2879</td>\n",
       "      <td>0.75</td>\n",
       "      <td>0.0</td>\n",
       "      <td>3</td>\n",
       "      <td>10</td>\n",
       "      <td>13</td>\n",
       "    </tr>\n",
       "    <tr>\n",
       "      <th>4</th>\n",
       "      <td>5</td>\n",
       "      <td>2011-01-01</td>\n",
       "      <td>1</td>\n",
       "      <td>0</td>\n",
       "      <td>1</td>\n",
       "      <td>4</td>\n",
       "      <td>0</td>\n",
       "      <td>6</td>\n",
       "      <td>0</td>\n",
       "      <td>1</td>\n",
       "      <td>0.24</td>\n",
       "      <td>0.2879</td>\n",
       "      <td>0.75</td>\n",
       "      <td>0.0</td>\n",
       "      <td>0</td>\n",
       "      <td>1</td>\n",
       "      <td>1</td>\n",
       "    </tr>\n",
       "  </tbody>\n",
       "</table>\n",
       "</div>"
      ],
      "text/plain": [
       "   instant      dteday  season  yr  mnth  hr  holiday  weekday  workingday  \\\n",
       "0        1  2011-01-01       1   0     1   0        0        6           0   \n",
       "1        2  2011-01-01       1   0     1   1        0        6           0   \n",
       "2        3  2011-01-01       1   0     1   2        0        6           0   \n",
       "3        4  2011-01-01       1   0     1   3        0        6           0   \n",
       "4        5  2011-01-01       1   0     1   4        0        6           0   \n",
       "\n",
       "   weathersit  temp   atemp   hum  windspeed  casual  registered  cnt  \n",
       "0           1  0.24  0.2879  0.81        0.0       3          13   16  \n",
       "1           1  0.22  0.2727  0.80        0.0       8          32   40  \n",
       "2           1  0.22  0.2727  0.80        0.0       5          27   32  \n",
       "3           1  0.24  0.2879  0.75        0.0       3          10   13  \n",
       "4           1  0.24  0.2879  0.75        0.0       0           1    1  "
      ]
     },
     "execution_count": 3,
     "metadata": {},
     "output_type": "execute_result"
    }
   ],
   "source": [
    "# Loading the dataset\n",
    "dataset = pd.read_csv('hour.csv')\n",
    "# Displaying the first 5 rows of the dataset\n",
    "dataset.head(5)"
   ]
  },
  {
   "cell_type": "code",
   "execution_count": 4,
   "metadata": {},
   "outputs": [
    {
     "data": {
      "text/html": [
       "<div>\n",
       "<style scoped>\n",
       "    .dataframe tbody tr th:only-of-type {\n",
       "        vertical-align: middle;\n",
       "    }\n",
       "\n",
       "    .dataframe tbody tr th {\n",
       "        vertical-align: top;\n",
       "    }\n",
       "\n",
       "    .dataframe thead th {\n",
       "        text-align: right;\n",
       "    }\n",
       "</style>\n",
       "<table border=\"1\" class=\"dataframe\">\n",
       "  <thead>\n",
       "    <tr style=\"text-align: right;\">\n",
       "      <th></th>\n",
       "      <th>instant</th>\n",
       "      <th>dteday</th>\n",
       "      <th>season</th>\n",
       "      <th>yr</th>\n",
       "      <th>mnth</th>\n",
       "      <th>hr</th>\n",
       "      <th>holiday</th>\n",
       "      <th>weekday</th>\n",
       "      <th>workingday</th>\n",
       "      <th>weathersit</th>\n",
       "      <th>temp</th>\n",
       "      <th>atemp</th>\n",
       "      <th>hum</th>\n",
       "      <th>windspeed</th>\n",
       "      <th>casual</th>\n",
       "      <th>registered</th>\n",
       "      <th>cnt</th>\n",
       "    </tr>\n",
       "  </thead>\n",
       "  <tbody>\n",
       "    <tr>\n",
       "      <th>0</th>\n",
       "      <td>1</td>\n",
       "      <td>2011-01-01</td>\n",
       "      <td>1</td>\n",
       "      <td>0</td>\n",
       "      <td>1</td>\n",
       "      <td>0</td>\n",
       "      <td>0</td>\n",
       "      <td>6</td>\n",
       "      <td>0</td>\n",
       "      <td>1</td>\n",
       "      <td>0.24</td>\n",
       "      <td>0.2879</td>\n",
       "      <td>0.81</td>\n",
       "      <td>0.0000</td>\n",
       "      <td>3</td>\n",
       "      <td>13</td>\n",
       "      <td>16</td>\n",
       "    </tr>\n",
       "    <tr>\n",
       "      <th>1</th>\n",
       "      <td>2</td>\n",
       "      <td>2011-01-01</td>\n",
       "      <td>1</td>\n",
       "      <td>0</td>\n",
       "      <td>1</td>\n",
       "      <td>1</td>\n",
       "      <td>0</td>\n",
       "      <td>6</td>\n",
       "      <td>0</td>\n",
       "      <td>1</td>\n",
       "      <td>0.22</td>\n",
       "      <td>0.2727</td>\n",
       "      <td>0.80</td>\n",
       "      <td>0.0000</td>\n",
       "      <td>8</td>\n",
       "      <td>32</td>\n",
       "      <td>40</td>\n",
       "    </tr>\n",
       "    <tr>\n",
       "      <th>2</th>\n",
       "      <td>3</td>\n",
       "      <td>2011-01-01</td>\n",
       "      <td>1</td>\n",
       "      <td>0</td>\n",
       "      <td>1</td>\n",
       "      <td>2</td>\n",
       "      <td>0</td>\n",
       "      <td>6</td>\n",
       "      <td>0</td>\n",
       "      <td>1</td>\n",
       "      <td>0.22</td>\n",
       "      <td>0.2727</td>\n",
       "      <td>0.80</td>\n",
       "      <td>0.0000</td>\n",
       "      <td>5</td>\n",
       "      <td>27</td>\n",
       "      <td>32</td>\n",
       "    </tr>\n",
       "    <tr>\n",
       "      <th>3</th>\n",
       "      <td>4</td>\n",
       "      <td>2011-01-01</td>\n",
       "      <td>1</td>\n",
       "      <td>0</td>\n",
       "      <td>1</td>\n",
       "      <td>3</td>\n",
       "      <td>0</td>\n",
       "      <td>6</td>\n",
       "      <td>0</td>\n",
       "      <td>1</td>\n",
       "      <td>0.24</td>\n",
       "      <td>0.2879</td>\n",
       "      <td>0.75</td>\n",
       "      <td>0.0000</td>\n",
       "      <td>3</td>\n",
       "      <td>10</td>\n",
       "      <td>13</td>\n",
       "    </tr>\n",
       "    <tr>\n",
       "      <th>4</th>\n",
       "      <td>5</td>\n",
       "      <td>2011-01-01</td>\n",
       "      <td>1</td>\n",
       "      <td>0</td>\n",
       "      <td>1</td>\n",
       "      <td>4</td>\n",
       "      <td>0</td>\n",
       "      <td>6</td>\n",
       "      <td>0</td>\n",
       "      <td>1</td>\n",
       "      <td>0.24</td>\n",
       "      <td>0.2879</td>\n",
       "      <td>0.75</td>\n",
       "      <td>0.0000</td>\n",
       "      <td>0</td>\n",
       "      <td>1</td>\n",
       "      <td>1</td>\n",
       "    </tr>\n",
       "    <tr>\n",
       "      <th>...</th>\n",
       "      <td>...</td>\n",
       "      <td>...</td>\n",
       "      <td>...</td>\n",
       "      <td>...</td>\n",
       "      <td>...</td>\n",
       "      <td>...</td>\n",
       "      <td>...</td>\n",
       "      <td>...</td>\n",
       "      <td>...</td>\n",
       "      <td>...</td>\n",
       "      <td>...</td>\n",
       "      <td>...</td>\n",
       "      <td>...</td>\n",
       "      <td>...</td>\n",
       "      <td>...</td>\n",
       "      <td>...</td>\n",
       "      <td>...</td>\n",
       "    </tr>\n",
       "    <tr>\n",
       "      <th>17374</th>\n",
       "      <td>17375</td>\n",
       "      <td>2012-12-31</td>\n",
       "      <td>1</td>\n",
       "      <td>1</td>\n",
       "      <td>12</td>\n",
       "      <td>19</td>\n",
       "      <td>0</td>\n",
       "      <td>1</td>\n",
       "      <td>1</td>\n",
       "      <td>2</td>\n",
       "      <td>0.26</td>\n",
       "      <td>0.2576</td>\n",
       "      <td>0.60</td>\n",
       "      <td>0.1642</td>\n",
       "      <td>11</td>\n",
       "      <td>108</td>\n",
       "      <td>119</td>\n",
       "    </tr>\n",
       "    <tr>\n",
       "      <th>17375</th>\n",
       "      <td>17376</td>\n",
       "      <td>2012-12-31</td>\n",
       "      <td>1</td>\n",
       "      <td>1</td>\n",
       "      <td>12</td>\n",
       "      <td>20</td>\n",
       "      <td>0</td>\n",
       "      <td>1</td>\n",
       "      <td>1</td>\n",
       "      <td>2</td>\n",
       "      <td>0.26</td>\n",
       "      <td>0.2576</td>\n",
       "      <td>0.60</td>\n",
       "      <td>0.1642</td>\n",
       "      <td>8</td>\n",
       "      <td>81</td>\n",
       "      <td>89</td>\n",
       "    </tr>\n",
       "    <tr>\n",
       "      <th>17376</th>\n",
       "      <td>17377</td>\n",
       "      <td>2012-12-31</td>\n",
       "      <td>1</td>\n",
       "      <td>1</td>\n",
       "      <td>12</td>\n",
       "      <td>21</td>\n",
       "      <td>0</td>\n",
       "      <td>1</td>\n",
       "      <td>1</td>\n",
       "      <td>1</td>\n",
       "      <td>0.26</td>\n",
       "      <td>0.2576</td>\n",
       "      <td>0.60</td>\n",
       "      <td>0.1642</td>\n",
       "      <td>7</td>\n",
       "      <td>83</td>\n",
       "      <td>90</td>\n",
       "    </tr>\n",
       "    <tr>\n",
       "      <th>17377</th>\n",
       "      <td>17378</td>\n",
       "      <td>2012-12-31</td>\n",
       "      <td>1</td>\n",
       "      <td>1</td>\n",
       "      <td>12</td>\n",
       "      <td>22</td>\n",
       "      <td>0</td>\n",
       "      <td>1</td>\n",
       "      <td>1</td>\n",
       "      <td>1</td>\n",
       "      <td>0.26</td>\n",
       "      <td>0.2727</td>\n",
       "      <td>0.56</td>\n",
       "      <td>0.1343</td>\n",
       "      <td>13</td>\n",
       "      <td>48</td>\n",
       "      <td>61</td>\n",
       "    </tr>\n",
       "    <tr>\n",
       "      <th>17378</th>\n",
       "      <td>17379</td>\n",
       "      <td>2012-12-31</td>\n",
       "      <td>1</td>\n",
       "      <td>1</td>\n",
       "      <td>12</td>\n",
       "      <td>23</td>\n",
       "      <td>0</td>\n",
       "      <td>1</td>\n",
       "      <td>1</td>\n",
       "      <td>1</td>\n",
       "      <td>0.26</td>\n",
       "      <td>0.2727</td>\n",
       "      <td>0.65</td>\n",
       "      <td>0.1343</td>\n",
       "      <td>12</td>\n",
       "      <td>37</td>\n",
       "      <td>49</td>\n",
       "    </tr>\n",
       "  </tbody>\n",
       "</table>\n",
       "<p>17379 rows × 17 columns</p>\n",
       "</div>"
      ],
      "text/plain": [
       "       instant      dteday  season  yr  mnth  hr  holiday  weekday  \\\n",
       "0            1  2011-01-01       1   0     1   0        0        6   \n",
       "1            2  2011-01-01       1   0     1   1        0        6   \n",
       "2            3  2011-01-01       1   0     1   2        0        6   \n",
       "3            4  2011-01-01       1   0     1   3        0        6   \n",
       "4            5  2011-01-01       1   0     1   4        0        6   \n",
       "...        ...         ...     ...  ..   ...  ..      ...      ...   \n",
       "17374    17375  2012-12-31       1   1    12  19        0        1   \n",
       "17375    17376  2012-12-31       1   1    12  20        0        1   \n",
       "17376    17377  2012-12-31       1   1    12  21        0        1   \n",
       "17377    17378  2012-12-31       1   1    12  22        0        1   \n",
       "17378    17379  2012-12-31       1   1    12  23        0        1   \n",
       "\n",
       "       workingday  weathersit  temp   atemp   hum  windspeed  casual  \\\n",
       "0               0           1  0.24  0.2879  0.81     0.0000       3   \n",
       "1               0           1  0.22  0.2727  0.80     0.0000       8   \n",
       "2               0           1  0.22  0.2727  0.80     0.0000       5   \n",
       "3               0           1  0.24  0.2879  0.75     0.0000       3   \n",
       "4               0           1  0.24  0.2879  0.75     0.0000       0   \n",
       "...           ...         ...   ...     ...   ...        ...     ...   \n",
       "17374           1           2  0.26  0.2576  0.60     0.1642      11   \n",
       "17375           1           2  0.26  0.2576  0.60     0.1642       8   \n",
       "17376           1           1  0.26  0.2576  0.60     0.1642       7   \n",
       "17377           1           1  0.26  0.2727  0.56     0.1343      13   \n",
       "17378           1           1  0.26  0.2727  0.65     0.1343      12   \n",
       "\n",
       "       registered  cnt  \n",
       "0              13   16  \n",
       "1              32   40  \n",
       "2              27   32  \n",
       "3              10   13  \n",
       "4               1    1  \n",
       "...           ...  ...  \n",
       "17374         108  119  \n",
       "17375          81   89  \n",
       "17376          83   90  \n",
       "17377          48   61  \n",
       "17378          37   49  \n",
       "\n",
       "[17379 rows x 17 columns]"
      ]
     },
     "execution_count": 4,
     "metadata": {},
     "output_type": "execute_result"
    }
   ],
   "source": [
    "dataset"
   ]
  },
  {
   "cell_type": "code",
   "execution_count": 5,
   "metadata": {},
   "outputs": [
    {
     "name": "stdout",
     "output_type": "stream",
     "text": [
      "<class 'pandas.core.frame.DataFrame'>\n",
      "RangeIndex: 17379 entries, 0 to 17378\n",
      "Data columns (total 17 columns):\n",
      " #   Column      Non-Null Count  Dtype  \n",
      "---  ------      --------------  -----  \n",
      " 0   instant     17379 non-null  int64  \n",
      " 1   dteday      17379 non-null  object \n",
      " 2   season      17379 non-null  int64  \n",
      " 3   yr          17379 non-null  int64  \n",
      " 4   mnth        17379 non-null  int64  \n",
      " 5   hr          17379 non-null  int64  \n",
      " 6   holiday     17379 non-null  int64  \n",
      " 7   weekday     17379 non-null  int64  \n",
      " 8   workingday  17379 non-null  int64  \n",
      " 9   weathersit  17379 non-null  int64  \n",
      " 10  temp        17379 non-null  float64\n",
      " 11  atemp       17379 non-null  float64\n",
      " 12  hum         17379 non-null  float64\n",
      " 13  windspeed   17379 non-null  float64\n",
      " 14  casual      17379 non-null  int64  \n",
      " 15  registered  17379 non-null  int64  \n",
      " 16  cnt         17379 non-null  int64  \n",
      "dtypes: float64(4), int64(12), object(1)\n",
      "memory usage: 2.3+ MB\n"
     ]
    },
    {
     "data": {
      "text/plain": [
       "(17379, 17)"
      ]
     },
     "execution_count": 5,
     "metadata": {},
     "output_type": "execute_result"
    }
   ],
   "source": [
    "# Information about the dataset, including data types and null values\n",
    "dataset.info()\n",
    "# Shape of the dataset (number of rows and columns)\n",
    "dataset.shape"
   ]
  },
  {
   "cell_type": "code",
   "execution_count": 6,
   "metadata": {},
   "outputs": [
    {
     "data": {
      "text/plain": [
       "instant       0\n",
       "dteday        0\n",
       "season        0\n",
       "yr            0\n",
       "mnth          0\n",
       "hr            0\n",
       "holiday       0\n",
       "weekday       0\n",
       "workingday    0\n",
       "weathersit    0\n",
       "temp          0\n",
       "atemp         0\n",
       "hum           0\n",
       "windspeed     0\n",
       "casual        0\n",
       "registered    0\n",
       "cnt           0\n",
       "dtype: int64"
      ]
     },
     "execution_count": 6,
     "metadata": {},
     "output_type": "execute_result"
    }
   ],
   "source": [
    "# Checking for missing values in the dataset\n",
    "dataset.isna().sum()"
   ]
  },
  {
   "cell_type": "code",
   "execution_count": 7,
   "metadata": {},
   "outputs": [
    {
     "data": {
      "text/plain": [
       "0"
      ]
     },
     "execution_count": 7,
     "metadata": {},
     "output_type": "execute_result"
    }
   ],
   "source": [
    "# Checking for duplicated rows in the dataset\n",
    "dataset.duplicated().sum()"
   ]
  },
  {
   "cell_type": "code",
   "execution_count": 8,
   "metadata": {},
   "outputs": [
    {
     "data": {
      "text/html": [
       "<style type=\"text/css\">\n",
       "#T_e71e4_row0_col0, #T_e71e4_row0_col1, #T_e71e4_row0_col2, #T_e71e4_row0_col3, #T_e71e4_row0_col4, #T_e71e4_row0_col5, #T_e71e4_row0_col6, #T_e71e4_row0_col7, #T_e71e4_row0_col8, #T_e71e4_row0_col9, #T_e71e4_row0_col10, #T_e71e4_row0_col11, #T_e71e4_row0_col12, #T_e71e4_row0_col13, #T_e71e4_row0_col14, #T_e71e4_row0_col15, #T_e71e4_row7_col0 {\n",
       "  background-color: #3f007d;\n",
       "  color: #f1f1f1;\n",
       "}\n",
       "#T_e71e4_row1_col0, #T_e71e4_row5_col0 {\n",
       "  background-color: #9e9ac8;\n",
       "  color: #f1f1f1;\n",
       "}\n",
       "#T_e71e4_row1_col1, #T_e71e4_row1_col2, #T_e71e4_row1_col3, #T_e71e4_row1_col4, #T_e71e4_row1_col5, #T_e71e4_row1_col6, #T_e71e4_row1_col7, #T_e71e4_row1_col8, #T_e71e4_row1_col9, #T_e71e4_row1_col10, #T_e71e4_row1_col11, #T_e71e4_row1_col12, #T_e71e4_row1_col13, #T_e71e4_row2_col1, #T_e71e4_row2_col2, #T_e71e4_row2_col3, #T_e71e4_row2_col4, #T_e71e4_row2_col5, #T_e71e4_row2_col6, #T_e71e4_row2_col7, #T_e71e4_row2_col8, #T_e71e4_row2_col9, #T_e71e4_row2_col10, #T_e71e4_row2_col11, #T_e71e4_row2_col12, #T_e71e4_row2_col13, #T_e71e4_row3_col0, #T_e71e4_row3_col1, #T_e71e4_row3_col2, #T_e71e4_row3_col3, #T_e71e4_row3_col4, #T_e71e4_row3_col5, #T_e71e4_row3_col6, #T_e71e4_row3_col7, #T_e71e4_row3_col8, #T_e71e4_row3_col9, #T_e71e4_row3_col10, #T_e71e4_row3_col11, #T_e71e4_row3_col12, #T_e71e4_row3_col13, #T_e71e4_row3_col14, #T_e71e4_row3_col15, #T_e71e4_row4_col1, #T_e71e4_row4_col2, #T_e71e4_row4_col3, #T_e71e4_row4_col4, #T_e71e4_row4_col5, #T_e71e4_row4_col6, #T_e71e4_row4_col7, #T_e71e4_row4_col8, #T_e71e4_row4_col9, #T_e71e4_row4_col10, #T_e71e4_row4_col11, #T_e71e4_row4_col12, #T_e71e4_row4_col13, #T_e71e4_row4_col14, #T_e71e4_row4_col15, #T_e71e4_row5_col1, #T_e71e4_row5_col2, #T_e71e4_row5_col3, #T_e71e4_row5_col4, #T_e71e4_row5_col5, #T_e71e4_row5_col6, #T_e71e4_row5_col7, #T_e71e4_row5_col8, #T_e71e4_row5_col9, #T_e71e4_row5_col10, #T_e71e4_row5_col11, #T_e71e4_row5_col12, #T_e71e4_row5_col13, #T_e71e4_row5_col14, #T_e71e4_row6_col1, #T_e71e4_row6_col2, #T_e71e4_row6_col3, #T_e71e4_row6_col4, #T_e71e4_row6_col5, #T_e71e4_row6_col6, #T_e71e4_row6_col7, #T_e71e4_row6_col8, #T_e71e4_row6_col9, #T_e71e4_row6_col10, #T_e71e4_row6_col11, #T_e71e4_row6_col12, #T_e71e4_row6_col13, #T_e71e4_row7_col1, #T_e71e4_row7_col2, #T_e71e4_row7_col3, #T_e71e4_row7_col4, #T_e71e4_row7_col5, #T_e71e4_row7_col6, #T_e71e4_row7_col7, #T_e71e4_row7_col8, #T_e71e4_row7_col9, #T_e71e4_row7_col10, #T_e71e4_row7_col11, #T_e71e4_row7_col12 {\n",
       "  background-color: #fcfbfd;\n",
       "  color: #000000;\n",
       "}\n",
       "#T_e71e4_row1_col14, #T_e71e4_row1_col15, #T_e71e4_row2_col14, #T_e71e4_row2_col15, #T_e71e4_row5_col15, #T_e71e4_row6_col14 {\n",
       "  background-color: #fbfafc;\n",
       "  color: #000000;\n",
       "}\n",
       "#T_e71e4_row2_col0 {\n",
       "  background-color: #d1d2e7;\n",
       "  color: #000000;\n",
       "}\n",
       "#T_e71e4_row4_col0 {\n",
       "  background-color: #dadaeb;\n",
       "  color: #000000;\n",
       "}\n",
       "#T_e71e4_row6_col0 {\n",
       "  background-color: #6950a3;\n",
       "  color: #f1f1f1;\n",
       "}\n",
       "#T_e71e4_row6_col15, #T_e71e4_row7_col13 {\n",
       "  background-color: #faf9fc;\n",
       "  color: #000000;\n",
       "}\n",
       "#T_e71e4_row7_col14 {\n",
       "  background-color: #f7f5fa;\n",
       "  color: #000000;\n",
       "}\n",
       "#T_e71e4_row7_col15 {\n",
       "  background-color: #f6f5f9;\n",
       "  color: #000000;\n",
       "}\n",
       "</style>\n",
       "<table id=\"T_e71e4\">\n",
       "  <thead>\n",
       "    <tr>\n",
       "      <th class=\"blank level0\" >&nbsp;</th>\n",
       "      <th id=\"T_e71e4_level0_col0\" class=\"col_heading level0 col0\" >instant</th>\n",
       "      <th id=\"T_e71e4_level0_col1\" class=\"col_heading level0 col1\" >season</th>\n",
       "      <th id=\"T_e71e4_level0_col2\" class=\"col_heading level0 col2\" >yr</th>\n",
       "      <th id=\"T_e71e4_level0_col3\" class=\"col_heading level0 col3\" >mnth</th>\n",
       "      <th id=\"T_e71e4_level0_col4\" class=\"col_heading level0 col4\" >hr</th>\n",
       "      <th id=\"T_e71e4_level0_col5\" class=\"col_heading level0 col5\" >holiday</th>\n",
       "      <th id=\"T_e71e4_level0_col6\" class=\"col_heading level0 col6\" >weekday</th>\n",
       "      <th id=\"T_e71e4_level0_col7\" class=\"col_heading level0 col7\" >workingday</th>\n",
       "      <th id=\"T_e71e4_level0_col8\" class=\"col_heading level0 col8\" >weathersit</th>\n",
       "      <th id=\"T_e71e4_level0_col9\" class=\"col_heading level0 col9\" >temp</th>\n",
       "      <th id=\"T_e71e4_level0_col10\" class=\"col_heading level0 col10\" >atemp</th>\n",
       "      <th id=\"T_e71e4_level0_col11\" class=\"col_heading level0 col11\" >hum</th>\n",
       "      <th id=\"T_e71e4_level0_col12\" class=\"col_heading level0 col12\" >windspeed</th>\n",
       "      <th id=\"T_e71e4_level0_col13\" class=\"col_heading level0 col13\" >casual</th>\n",
       "      <th id=\"T_e71e4_level0_col14\" class=\"col_heading level0 col14\" >registered</th>\n",
       "      <th id=\"T_e71e4_level0_col15\" class=\"col_heading level0 col15\" >cnt</th>\n",
       "    </tr>\n",
       "  </thead>\n",
       "  <tbody>\n",
       "    <tr>\n",
       "      <th id=\"T_e71e4_level0_row0\" class=\"row_heading level0 row0\" >count</th>\n",
       "      <td id=\"T_e71e4_row0_col0\" class=\"data row0 col0\" >17379.000000</td>\n",
       "      <td id=\"T_e71e4_row0_col1\" class=\"data row0 col1\" >17379.000000</td>\n",
       "      <td id=\"T_e71e4_row0_col2\" class=\"data row0 col2\" >17379.000000</td>\n",
       "      <td id=\"T_e71e4_row0_col3\" class=\"data row0 col3\" >17379.000000</td>\n",
       "      <td id=\"T_e71e4_row0_col4\" class=\"data row0 col4\" >17379.000000</td>\n",
       "      <td id=\"T_e71e4_row0_col5\" class=\"data row0 col5\" >17379.000000</td>\n",
       "      <td id=\"T_e71e4_row0_col6\" class=\"data row0 col6\" >17379.000000</td>\n",
       "      <td id=\"T_e71e4_row0_col7\" class=\"data row0 col7\" >17379.000000</td>\n",
       "      <td id=\"T_e71e4_row0_col8\" class=\"data row0 col8\" >17379.000000</td>\n",
       "      <td id=\"T_e71e4_row0_col9\" class=\"data row0 col9\" >17379.000000</td>\n",
       "      <td id=\"T_e71e4_row0_col10\" class=\"data row0 col10\" >17379.000000</td>\n",
       "      <td id=\"T_e71e4_row0_col11\" class=\"data row0 col11\" >17379.000000</td>\n",
       "      <td id=\"T_e71e4_row0_col12\" class=\"data row0 col12\" >17379.000000</td>\n",
       "      <td id=\"T_e71e4_row0_col13\" class=\"data row0 col13\" >17379.000000</td>\n",
       "      <td id=\"T_e71e4_row0_col14\" class=\"data row0 col14\" >17379.000000</td>\n",
       "      <td id=\"T_e71e4_row0_col15\" class=\"data row0 col15\" >17379.000000</td>\n",
       "    </tr>\n",
       "    <tr>\n",
       "      <th id=\"T_e71e4_level0_row1\" class=\"row_heading level0 row1\" >mean</th>\n",
       "      <td id=\"T_e71e4_row1_col0\" class=\"data row1 col0\" >8690.000000</td>\n",
       "      <td id=\"T_e71e4_row1_col1\" class=\"data row1 col1\" >2.501640</td>\n",
       "      <td id=\"T_e71e4_row1_col2\" class=\"data row1 col2\" >0.502561</td>\n",
       "      <td id=\"T_e71e4_row1_col3\" class=\"data row1 col3\" >6.537775</td>\n",
       "      <td id=\"T_e71e4_row1_col4\" class=\"data row1 col4\" >11.546752</td>\n",
       "      <td id=\"T_e71e4_row1_col5\" class=\"data row1 col5\" >0.028770</td>\n",
       "      <td id=\"T_e71e4_row1_col6\" class=\"data row1 col6\" >3.003683</td>\n",
       "      <td id=\"T_e71e4_row1_col7\" class=\"data row1 col7\" >0.682721</td>\n",
       "      <td id=\"T_e71e4_row1_col8\" class=\"data row1 col8\" >1.425283</td>\n",
       "      <td id=\"T_e71e4_row1_col9\" class=\"data row1 col9\" >0.496987</td>\n",
       "      <td id=\"T_e71e4_row1_col10\" class=\"data row1 col10\" >0.475775</td>\n",
       "      <td id=\"T_e71e4_row1_col11\" class=\"data row1 col11\" >0.627229</td>\n",
       "      <td id=\"T_e71e4_row1_col12\" class=\"data row1 col12\" >0.190098</td>\n",
       "      <td id=\"T_e71e4_row1_col13\" class=\"data row1 col13\" >35.676218</td>\n",
       "      <td id=\"T_e71e4_row1_col14\" class=\"data row1 col14\" >153.786869</td>\n",
       "      <td id=\"T_e71e4_row1_col15\" class=\"data row1 col15\" >189.463088</td>\n",
       "    </tr>\n",
       "    <tr>\n",
       "      <th id=\"T_e71e4_level0_row2\" class=\"row_heading level0 row2\" >std</th>\n",
       "      <td id=\"T_e71e4_row2_col0\" class=\"data row2 col0\" >5017.029500</td>\n",
       "      <td id=\"T_e71e4_row2_col1\" class=\"data row2 col1\" >1.106918</td>\n",
       "      <td id=\"T_e71e4_row2_col2\" class=\"data row2 col2\" >0.500008</td>\n",
       "      <td id=\"T_e71e4_row2_col3\" class=\"data row2 col3\" >3.438776</td>\n",
       "      <td id=\"T_e71e4_row2_col4\" class=\"data row2 col4\" >6.914405</td>\n",
       "      <td id=\"T_e71e4_row2_col5\" class=\"data row2 col5\" >0.167165</td>\n",
       "      <td id=\"T_e71e4_row2_col6\" class=\"data row2 col6\" >2.005771</td>\n",
       "      <td id=\"T_e71e4_row2_col7\" class=\"data row2 col7\" >0.465431</td>\n",
       "      <td id=\"T_e71e4_row2_col8\" class=\"data row2 col8\" >0.639357</td>\n",
       "      <td id=\"T_e71e4_row2_col9\" class=\"data row2 col9\" >0.192556</td>\n",
       "      <td id=\"T_e71e4_row2_col10\" class=\"data row2 col10\" >0.171850</td>\n",
       "      <td id=\"T_e71e4_row2_col11\" class=\"data row2 col11\" >0.192930</td>\n",
       "      <td id=\"T_e71e4_row2_col12\" class=\"data row2 col12\" >0.122340</td>\n",
       "      <td id=\"T_e71e4_row2_col13\" class=\"data row2 col13\" >49.305030</td>\n",
       "      <td id=\"T_e71e4_row2_col14\" class=\"data row2 col14\" >151.357286</td>\n",
       "      <td id=\"T_e71e4_row2_col15\" class=\"data row2 col15\" >181.387599</td>\n",
       "    </tr>\n",
       "    <tr>\n",
       "      <th id=\"T_e71e4_level0_row3\" class=\"row_heading level0 row3\" >min</th>\n",
       "      <td id=\"T_e71e4_row3_col0\" class=\"data row3 col0\" >1.000000</td>\n",
       "      <td id=\"T_e71e4_row3_col1\" class=\"data row3 col1\" >1.000000</td>\n",
       "      <td id=\"T_e71e4_row3_col2\" class=\"data row3 col2\" >0.000000</td>\n",
       "      <td id=\"T_e71e4_row3_col3\" class=\"data row3 col3\" >1.000000</td>\n",
       "      <td id=\"T_e71e4_row3_col4\" class=\"data row3 col4\" >0.000000</td>\n",
       "      <td id=\"T_e71e4_row3_col5\" class=\"data row3 col5\" >0.000000</td>\n",
       "      <td id=\"T_e71e4_row3_col6\" class=\"data row3 col6\" >0.000000</td>\n",
       "      <td id=\"T_e71e4_row3_col7\" class=\"data row3 col7\" >0.000000</td>\n",
       "      <td id=\"T_e71e4_row3_col8\" class=\"data row3 col8\" >1.000000</td>\n",
       "      <td id=\"T_e71e4_row3_col9\" class=\"data row3 col9\" >0.020000</td>\n",
       "      <td id=\"T_e71e4_row3_col10\" class=\"data row3 col10\" >0.000000</td>\n",
       "      <td id=\"T_e71e4_row3_col11\" class=\"data row3 col11\" >0.000000</td>\n",
       "      <td id=\"T_e71e4_row3_col12\" class=\"data row3 col12\" >0.000000</td>\n",
       "      <td id=\"T_e71e4_row3_col13\" class=\"data row3 col13\" >0.000000</td>\n",
       "      <td id=\"T_e71e4_row3_col14\" class=\"data row3 col14\" >0.000000</td>\n",
       "      <td id=\"T_e71e4_row3_col15\" class=\"data row3 col15\" >1.000000</td>\n",
       "    </tr>\n",
       "    <tr>\n",
       "      <th id=\"T_e71e4_level0_row4\" class=\"row_heading level0 row4\" >25%</th>\n",
       "      <td id=\"T_e71e4_row4_col0\" class=\"data row4 col0\" >4345.500000</td>\n",
       "      <td id=\"T_e71e4_row4_col1\" class=\"data row4 col1\" >2.000000</td>\n",
       "      <td id=\"T_e71e4_row4_col2\" class=\"data row4 col2\" >0.000000</td>\n",
       "      <td id=\"T_e71e4_row4_col3\" class=\"data row4 col3\" >4.000000</td>\n",
       "      <td id=\"T_e71e4_row4_col4\" class=\"data row4 col4\" >6.000000</td>\n",
       "      <td id=\"T_e71e4_row4_col5\" class=\"data row4 col5\" >0.000000</td>\n",
       "      <td id=\"T_e71e4_row4_col6\" class=\"data row4 col6\" >1.000000</td>\n",
       "      <td id=\"T_e71e4_row4_col7\" class=\"data row4 col7\" >0.000000</td>\n",
       "      <td id=\"T_e71e4_row4_col8\" class=\"data row4 col8\" >1.000000</td>\n",
       "      <td id=\"T_e71e4_row4_col9\" class=\"data row4 col9\" >0.340000</td>\n",
       "      <td id=\"T_e71e4_row4_col10\" class=\"data row4 col10\" >0.333300</td>\n",
       "      <td id=\"T_e71e4_row4_col11\" class=\"data row4 col11\" >0.480000</td>\n",
       "      <td id=\"T_e71e4_row4_col12\" class=\"data row4 col12\" >0.104500</td>\n",
       "      <td id=\"T_e71e4_row4_col13\" class=\"data row4 col13\" >4.000000</td>\n",
       "      <td id=\"T_e71e4_row4_col14\" class=\"data row4 col14\" >34.000000</td>\n",
       "      <td id=\"T_e71e4_row4_col15\" class=\"data row4 col15\" >40.000000</td>\n",
       "    </tr>\n",
       "    <tr>\n",
       "      <th id=\"T_e71e4_level0_row5\" class=\"row_heading level0 row5\" >50%</th>\n",
       "      <td id=\"T_e71e4_row5_col0\" class=\"data row5 col0\" >8690.000000</td>\n",
       "      <td id=\"T_e71e4_row5_col1\" class=\"data row5 col1\" >3.000000</td>\n",
       "      <td id=\"T_e71e4_row5_col2\" class=\"data row5 col2\" >1.000000</td>\n",
       "      <td id=\"T_e71e4_row5_col3\" class=\"data row5 col3\" >7.000000</td>\n",
       "      <td id=\"T_e71e4_row5_col4\" class=\"data row5 col4\" >12.000000</td>\n",
       "      <td id=\"T_e71e4_row5_col5\" class=\"data row5 col5\" >0.000000</td>\n",
       "      <td id=\"T_e71e4_row5_col6\" class=\"data row5 col6\" >3.000000</td>\n",
       "      <td id=\"T_e71e4_row5_col7\" class=\"data row5 col7\" >1.000000</td>\n",
       "      <td id=\"T_e71e4_row5_col8\" class=\"data row5 col8\" >1.000000</td>\n",
       "      <td id=\"T_e71e4_row5_col9\" class=\"data row5 col9\" >0.500000</td>\n",
       "      <td id=\"T_e71e4_row5_col10\" class=\"data row5 col10\" >0.484800</td>\n",
       "      <td id=\"T_e71e4_row5_col11\" class=\"data row5 col11\" >0.630000</td>\n",
       "      <td id=\"T_e71e4_row5_col12\" class=\"data row5 col12\" >0.194000</td>\n",
       "      <td id=\"T_e71e4_row5_col13\" class=\"data row5 col13\" >17.000000</td>\n",
       "      <td id=\"T_e71e4_row5_col14\" class=\"data row5 col14\" >115.000000</td>\n",
       "      <td id=\"T_e71e4_row5_col15\" class=\"data row5 col15\" >142.000000</td>\n",
       "    </tr>\n",
       "    <tr>\n",
       "      <th id=\"T_e71e4_level0_row6\" class=\"row_heading level0 row6\" >75%</th>\n",
       "      <td id=\"T_e71e4_row6_col0\" class=\"data row6 col0\" >13034.500000</td>\n",
       "      <td id=\"T_e71e4_row6_col1\" class=\"data row6 col1\" >3.000000</td>\n",
       "      <td id=\"T_e71e4_row6_col2\" class=\"data row6 col2\" >1.000000</td>\n",
       "      <td id=\"T_e71e4_row6_col3\" class=\"data row6 col3\" >10.000000</td>\n",
       "      <td id=\"T_e71e4_row6_col4\" class=\"data row6 col4\" >18.000000</td>\n",
       "      <td id=\"T_e71e4_row6_col5\" class=\"data row6 col5\" >0.000000</td>\n",
       "      <td id=\"T_e71e4_row6_col6\" class=\"data row6 col6\" >5.000000</td>\n",
       "      <td id=\"T_e71e4_row6_col7\" class=\"data row6 col7\" >1.000000</td>\n",
       "      <td id=\"T_e71e4_row6_col8\" class=\"data row6 col8\" >2.000000</td>\n",
       "      <td id=\"T_e71e4_row6_col9\" class=\"data row6 col9\" >0.660000</td>\n",
       "      <td id=\"T_e71e4_row6_col10\" class=\"data row6 col10\" >0.621200</td>\n",
       "      <td id=\"T_e71e4_row6_col11\" class=\"data row6 col11\" >0.780000</td>\n",
       "      <td id=\"T_e71e4_row6_col12\" class=\"data row6 col12\" >0.253700</td>\n",
       "      <td id=\"T_e71e4_row6_col13\" class=\"data row6 col13\" >48.000000</td>\n",
       "      <td id=\"T_e71e4_row6_col14\" class=\"data row6 col14\" >220.000000</td>\n",
       "      <td id=\"T_e71e4_row6_col15\" class=\"data row6 col15\" >281.000000</td>\n",
       "    </tr>\n",
       "    <tr>\n",
       "      <th id=\"T_e71e4_level0_row7\" class=\"row_heading level0 row7\" >max</th>\n",
       "      <td id=\"T_e71e4_row7_col0\" class=\"data row7 col0\" >17379.000000</td>\n",
       "      <td id=\"T_e71e4_row7_col1\" class=\"data row7 col1\" >4.000000</td>\n",
       "      <td id=\"T_e71e4_row7_col2\" class=\"data row7 col2\" >1.000000</td>\n",
       "      <td id=\"T_e71e4_row7_col3\" class=\"data row7 col3\" >12.000000</td>\n",
       "      <td id=\"T_e71e4_row7_col4\" class=\"data row7 col4\" >23.000000</td>\n",
       "      <td id=\"T_e71e4_row7_col5\" class=\"data row7 col5\" >1.000000</td>\n",
       "      <td id=\"T_e71e4_row7_col6\" class=\"data row7 col6\" >6.000000</td>\n",
       "      <td id=\"T_e71e4_row7_col7\" class=\"data row7 col7\" >1.000000</td>\n",
       "      <td id=\"T_e71e4_row7_col8\" class=\"data row7 col8\" >4.000000</td>\n",
       "      <td id=\"T_e71e4_row7_col9\" class=\"data row7 col9\" >1.000000</td>\n",
       "      <td id=\"T_e71e4_row7_col10\" class=\"data row7 col10\" >1.000000</td>\n",
       "      <td id=\"T_e71e4_row7_col11\" class=\"data row7 col11\" >1.000000</td>\n",
       "      <td id=\"T_e71e4_row7_col12\" class=\"data row7 col12\" >0.850700</td>\n",
       "      <td id=\"T_e71e4_row7_col13\" class=\"data row7 col13\" >367.000000</td>\n",
       "      <td id=\"T_e71e4_row7_col14\" class=\"data row7 col14\" >886.000000</td>\n",
       "      <td id=\"T_e71e4_row7_col15\" class=\"data row7 col15\" >977.000000</td>\n",
       "    </tr>\n",
       "  </tbody>\n",
       "</table>\n"
      ],
      "text/plain": [
       "<pandas.io.formats.style.Styler at 0x1948381a1f0>"
      ]
     },
     "execution_count": 8,
     "metadata": {},
     "output_type": "execute_result"
    }
   ],
   "source": [
    "# Descriptive statistics of the dataset with styled background gradient\n",
    "dataset.describe().style.background_gradient(cmap = \"Purples\")"
   ]
  },
  {
   "cell_type": "markdown",
   "metadata": {},
   "source": [
    "## Extracting features (X) and target variable (y) from the dataset"
   ]
  },
  {
   "cell_type": "code",
   "execution_count": 9,
   "metadata": {
    "colab": {},
    "colab_type": "code",
    "id": "UrxyEKGn_ez7"
   },
   "outputs": [],
   "source": [
    "X = dataset.iloc[:, 2:-1].values\n",
    "y = dataset.iloc[:, -1].values"
   ]
  },
  {
   "cell_type": "code",
   "execution_count": 10,
   "metadata": {},
   "outputs": [
    {
     "name": "stdout",
     "output_type": "stream",
     "text": [
      "(17379, 14)\n"
     ]
    }
   ],
   "source": [
    "print(X.shape)"
   ]
  },
  {
   "cell_type": "code",
   "execution_count": 11,
   "metadata": {
    "colab": {
     "base_uri": "https://localhost:8080/",
     "height": 857
    },
    "colab_type": "code",
    "executionInfo": {
     "elapsed": 552,
     "status": "ok",
     "timestamp": 1586353652778,
     "user": {
      "displayName": "Hadelin de Ponteves",
      "photoUrl": "https://lh3.googleusercontent.com/a-/AOh14GhEuXdT7eQweUmRPW8_laJuPggSK6hfvpl5a6WBaA=s64",
      "userId": "15047218817161520419"
     },
     "user_tz": -240
    },
    "id": "GOB3QhV9B5kD",
    "outputId": "4a05377a-2db2-43fc-b824-a0710448baee"
   },
   "outputs": [
    {
     "name": "stdout",
     "output_type": "stream",
     "text": [
      "[[ 1.      0.      1.     ...  0.      3.     13.    ]\n",
      " [ 1.      0.      1.     ...  0.      8.     32.    ]\n",
      " [ 1.      0.      1.     ...  0.      5.     27.    ]\n",
      " ...\n",
      " [ 1.      1.     12.     ...  0.1642  7.     83.    ]\n",
      " [ 1.      1.     12.     ...  0.1343 13.     48.    ]\n",
      " [ 1.      1.     12.     ...  0.1343 12.     37.    ]]\n"
     ]
    }
   ],
   "source": [
    "print(X)"
   ]
  },
  {
   "cell_type": "markdown",
   "metadata": {
    "colab_type": "text",
    "id": "WemVnqgeA70k"
   },
   "source": [
    "## Splitting the dataset into the Training set and Test set"
   ]
  },
  {
   "cell_type": "code",
   "execution_count": 12,
   "metadata": {
    "colab": {},
    "colab_type": "code",
    "id": "Kb_v_ae-A-20"
   },
   "outputs": [],
   "source": [
    "from sklearn.model_selection import train_test_split\n",
    "X_train, X_test, y_train, y_test = train_test_split(X, y, test_size = 0.2, random_state = 42)\n",
    "#In summary, setting random_state allows you to control the randomness of the data splitting process, making your experiments reproducible. It's commonly used to ensure consistency in machine learning workflows."
   ]
  },
  {
   "cell_type": "code",
   "execution_count": 13,
   "metadata": {},
   "outputs": [
    {
     "name": "stdout",
     "output_type": "stream",
     "text": [
      "Trainig Data..\n",
      "The shape of training features:  (13903, 14)\n",
      "The shape of training labels:  (13903,)\n"
     ]
    }
   ],
   "source": [
    "print(\"Trainig Data..\")\n",
    "print(\"The shape of training features: \", X_train.shape)\n",
    "print(\"The shape of training labels: \", y_train.shape)"
   ]
  },
  {
   "cell_type": "code",
   "execution_count": 14,
   "metadata": {},
   "outputs": [
    {
     "name": "stdout",
     "output_type": "stream",
     "text": [
      "Testing Data..\n",
      "The shape of testing features:  (3476, 14)\n",
      "The shape of testing labels:  (3476,)\n"
     ]
    }
   ],
   "source": [
    "print(\"Testing Data..\")\n",
    "print(\"The shape of testing features: \", X_test.shape)\n",
    "print(\"The shape of testing labels: \", y_test.shape)"
   ]
  },
  {
   "cell_type": "markdown",
   "metadata": {
    "colab_type": "text",
    "id": "k-McZVsQBINc"
   },
   "source": [
    "## Training the Multiple Linear Regression model on the Training set"
   ]
  },
  {
   "cell_type": "code",
   "execution_count": 15,
   "metadata": {},
   "outputs": [
    {
     "data": {
      "text/plain": [
       "LinearRegression()"
      ]
     },
     "execution_count": 15,
     "metadata": {},
     "output_type": "execute_result"
    }
   ],
   "source": [
    "# Fitting a linear regression model to the training data\n",
    "from sklearn.linear_model import LinearRegression\n",
    "regressor = LinearRegression()\n",
    "regressor.fit(X_train, y_train)"
   ]
  },
  {
   "cell_type": "code",
   "execution_count": 16,
   "metadata": {},
   "outputs": [
    {
     "name": "stdout",
     "output_type": "stream",
     "text": [
      "The Training Accuracy =  100.0 %\n"
     ]
    }
   ],
   "source": [
    "# Calculating and printing the training accuracy\n",
    "training_acc = np.ceil(regressor.score(X_train, y_train) * 100)\n",
    "print(\"The Training Accuracy = \", training_acc, \"%\")"
   ]
  },
  {
   "cell_type": "markdown",
   "metadata": {
    "colab_type": "text",
    "id": "xNkXL1YQBiBT"
   },
   "source": [
    "## Predicting the Test set results"
   ]
  },
  {
   "cell_type": "code",
   "execution_count": 17,
   "metadata": {
    "colab": {
     "base_uri": "https://localhost:8080/",
     "height": 185
    },
    "colab_type": "code",
    "executionInfo": {
     "elapsed": 951,
     "status": "ok",
     "timestamp": 1586353666678,
     "user": {
      "displayName": "Hadelin de Ponteves",
      "photoUrl": "https://lh3.googleusercontent.com/a-/AOh14GhEuXdT7eQweUmRPW8_laJuPggSK6hfvpl5a6WBaA=s64",
      "userId": "15047218817161520419"
     },
     "user_tz": -240
    },
    "id": "TQKmwvtdBkyb",
    "outputId": "493436bf-a4ae-4374-ca16-0b0c25d19457"
   },
   "outputs": [
    {
     "name": "stdout",
     "output_type": "stream",
     "text": [
      "[[425. 425.]\n",
      " [ 88.  88.]\n",
      " [  4.   4.]\n",
      " ...\n",
      " [ 98.  98.]\n",
      " [266. 266.]\n",
      " [267. 267.]]\n"
     ]
    }
   ],
   "source": [
    "# Making predictions on the testing data\n",
    "y_pred = regressor.predict(X_test)\n",
    "# Printing the predicted and actual values side by side\n",
    "np.set_printoptions(precision=2) # it sets the number of digits (precision) to display after the decimal point when printing floating-point numbers in NumPy arrays to 2 decimal places.\n",
    "print(np.concatenate((y_pred.reshape(len(y_pred),1), y_test.reshape(len(y_test),1)),1))"
   ]
  },
  {
   "cell_type": "code",
   "execution_count": 18,
   "metadata": {},
   "outputs": [
    {
     "name": "stdout",
     "output_type": "stream",
     "text": [
      "The Testing_acc Accuracy =  100.0 %\n"
     ]
    }
   ],
   "source": [
    "# Calculating and printing the testing accuracy\n",
    "testing_acc = np.ceil(regressor.score(X_test, y_test) * 100)\n",
    "print(\"The Testing_acc Accuracy = \", testing_acc, \"%\")"
   ]
  },
  {
   "cell_type": "markdown",
   "metadata": {},
   "source": [
    "## Getting the final linear regression equation with the values of the coefficients"
   ]
  },
  {
   "cell_type": "code",
   "execution_count": 19,
   "metadata": {},
   "outputs": [
    {
     "name": "stdout",
     "output_type": "stream",
     "text": [
      "[ 1.11e-14 -3.12e-14 -9.21e-16 -2.19e-15 -3.86e-14  5.84e-16 -6.31e-15\n",
      " -4.48e-14 -1.55e-14  5.50e-14 -4.55e-15  1.77e-14  1.00e+00  1.00e+00]\n",
      "1.1368683772161603e-13\n"
     ]
    }
   ],
   "source": [
    "# Printing the coefficients and intercept of the linear regression model\n",
    "print(regressor.coef_)\n",
    "print(regressor.intercept_)"
   ]
  },
  {
   "cell_type": "code",
   "execution_count": 20,
   "metadata": {},
   "outputs": [
    {
     "name": "stdout",
     "output_type": "stream",
     "text": [
      "y = 1.1368683772161603e-13 + 1.1058454326845646e-14 X1 + -3.115200515819216e-14 X2 + -9.207825935582499e-16 X3 + -2.1853052286955133e-15 X4 + -3.8551199153972796e-14 X5 + 5.842729231655795e-16 X6 + -6.314197843585958e-15 X7 + -4.4814980739145547e-14 X8 + -1.5535938231782586e-14 X9 + 5.497076344979324e-14 X10 + -4.5482302918620905e-15 X11 + 1.7670202525319494e-14 X12 + 0.9999999999999997 X13 + 0.9999999999999998 X14\n"
     ]
    }
   ],
   "source": [
    "# Printing the linear regression equation\n",
    "print(\"y = %s + %s X1 + %s X2 + %s X3 + %s X4 + %s X5 + %s X6 + %s X7 + %s X8 + %s X9 + %s X10 + %s X11 + %s X12 + %s X13 + %s X14\" % (\n",
    "    regressor.intercept_, \n",
    "    regressor.coef_[0], regressor.coef_[1], regressor.coef_[2], \n",
    "    regressor.coef_[3], regressor.coef_[4], regressor.coef_[5], \n",
    "    regressor.coef_[6], regressor.coef_[7], regressor.coef_[8], \n",
    "    regressor.coef_[9], regressor.coef_[10], regressor.coef_[11], \n",
    "    regressor.coef_[12], regressor.coef_[13]))"
   ]
  },
  {
   "cell_type": "markdown",
   "metadata": {},
   "source": [
    "## Visualising"
   ]
  },
  {
   "cell_type": "code",
   "execution_count": 21,
   "metadata": {},
   "outputs": [
    {
     "data": {
      "image/png": "[encoded data removed]",
      "text/plain": [
       "<Figure size 432x288 with 1 Axes>"
      ]
     },
     "metadata": {
      "needs_background": "light"
     },
     "output_type": "display_data"
    }
   ],
   "source": [
    "# Plotting the actual vs predicted values for training set\n",
    "plt.scatter(y_train, regressor.predict(X_train), color='red', label='Actual')\n",
    "plt.scatter(y_train, regressor.predict(X_train), color='blue', label='Predicted')\n",
    "plt.title('Actual vs Predicted (Training set)')\n",
    "plt.xlabel('Actual')\n",
    "plt.ylabel('Predicted')\n",
    "plt.legend()\n",
    "plt.show()"
   ]
  },
  {
   "cell_type": "code",
   "execution_count": 22,
   "metadata": {},
   "outputs": [
    {
     "data": {
      "image/png": "[encoded data removed]",
      "text/plain": [
       "<Figure size 432x288 with 1 Axes>"
      ]
     },
     "metadata": {
      "needs_background": "light"
     },
     "output_type": "display_data"
    }
   ],
   "source": [
    "# Plotting the actual for training set\n",
    "plt.scatter(y_train, regressor.predict(X_train), color='red', label='Actual')\n",
    "plt.title('Actual')\n",
    "plt.xlabel('X')\n",
    "plt.ylabel('Y')\n",
    "plt.legend()\n",
    "plt.show()"
   ]
  },
  {
   "cell_type": "code",
   "execution_count": null,
   "metadata": {},
   "outputs": [],
   "source": []
  }
 ],
 "metadata": {
  "colab": {
   "authorship_tag": "ABX9TyPhYhte6t7H4wEK4xPpDWT7",
   "name": "Multiple Linear Regression",
   "provenance": [],
   "toc_visible": true
  },
  "kernelspec": {
   "display_name": "Python 3 (ipykernel)",
   "language": "python",
   "name": "python3"
  },
  "language_info": {
   "codemirror_mode": {
    "name": "ipython",
    "version": 3
   },
   "file_extension": ".py",
   "mimetype": "text/x-python",
   "name": "python",
   "nbconvert_exporter": "python",
   "pygments_lexer": "ipython3",
   "version": "3.9.12"
  }
 },
 "nbformat": 4,
 "nbformat_minor": 1
}
